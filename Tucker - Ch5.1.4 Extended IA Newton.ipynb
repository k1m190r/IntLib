{
 "cells": [
  {
   "cell_type": "code",
   "execution_count": 1,
   "metadata": {},
   "outputs": [
    {
     "data": {
      "text/html": [
       "    <style>\n",
       "        .bk-notebook-logo {\n",
       "            display: block;\n",
       "            width: 20px;\n",
       "            height: 20px;\n",
       "            background-image: url(data:image/png;base64,iVBORw0KGgoAAAANSUhEUgAAABQAAAAUCAYAAACNiR0NAAAABHNCSVQICAgIfAhkiAAAAAlwSFlzAAALEgAACxIB0t1+/AAAABx0RVh0U29mdHdhcmUAQWRvYmUgRmlyZXdvcmtzIENTNui8sowAAAOkSURBVDiNjZRtaJVlGMd/1/08zzln5zjP1LWcU9N0NkN8m2CYjpgQYQXqSs0I84OLIC0hkEKoPtiH3gmKoiJDU7QpLgoLjLIQCpEsNJ1vqUOdO7ppbuec5+V+rj4ctwzd8IIbbi6u+8f1539dt3A78eXC7QizUF7gyV1fD1Yqg4JWz84yffhm0qkFqBogB9rM8tZdtwVsPUhWhGcFJngGeWrPzHm5oaMmkfEg1usvLFyc8jLRqDOMru7AyC8saQr7GG7f5fvDeH7Ej8CM66nIF+8yngt6HWaKh7k49Soy9nXurCi1o3qUbS3zWfrYeQDTB/Qj6kX6Ybhw4B+bOYoLKCC9H3Nu/leUTZ1JdRWkkn2ldcCamzrcf47KKXdAJllSlxAOkRgyHsGC/zRday5Qld9DyoM4/q/rUoy/CXh3jzOu3bHUVZeU+DEn8FInkPBFlu3+nW3Nw0mk6vCDiWg8CeJaxEwuHS3+z5RgY+YBR6V1Z1nxSOfoaPa4LASWxxdNp+VWTk7+4vzaou8v8PN+xo+KY2xsw6une2frhw05CTYOmQvsEhjhWjn0bmXPjpE1+kplmmkP3suftwTubK9Vq22qKmrBhpY4jvd5afdRA3wGjFAgcnTK2s4hY0/GPNIb0nErGMCRxWOOX64Z8RAC4oCXdklmEvcL8o0BfkNK4lUg9HTl+oPlQxdNo3Mg4Nv175e/1LDGzZen30MEjRUtmXSfiTVu1kK8W4txyV6BMKlbgk3lMwYCiusNy9fVfvvwMxv8Ynl6vxoByANLTWplvuj/nF9m2+PDtt1eiHPBr1oIfhCChQMBw6Aw0UulqTKZdfVvfG7VcfIqLG9bcldL/+pdWTLxLUy8Qq38heUIjh4XlzZxzQm19lLFlr8vdQ97rjZVOLf8nclzckbcD4wxXMidpX30sFd37Fv/GtwwhzhxGVAprjbg0gCAEeIgwCZyTV2Z1REEW8O4py0wsjeloKoMr6iCY6dP92H6Vw/oTyICIthibxjm/DfN9lVz8IqtqKYLUXfoKVMVQVVJOElGjrnnUt9T9wbgp8AyYKaGlqingHZU/uG2NTZSVqwHQTWkx9hxjkpWDaCg6Ckj5qebgBVbT3V3NNXMSiWSDdGV3hrtzla7J+duwPOToIg42ChPQOQjspnSlp1V+Gjdged7+8UN5CRAV7a5EdFNwCjEaBR27b3W890TE7g24NAP/mMDXRWrGoFPQI9ls/MWO2dWFAar/xcOIImbbpA3zgAAAABJRU5ErkJggg==);\n",
       "        }\n",
       "    </style>\n",
       "    <div>\n",
       "        <a href=\"https://bokeh.org\" target=\"_blank\" class=\"bk-notebook-logo\"></a>\n",
       "        <span id=\"fb408ac4-f52a-49ec-a644-640769f4fed0\">Loading BokehJS ...</span>\n",
       "    </div>\n"
      ]
     },
     "metadata": {},
     "output_type": "display_data"
    },
    {
     "data": {
      "application/javascript": "'use strict';\n(function(root) {\n  function now() {\n    return new Date();\n  }\n\n  const force = true;\n\n  if (typeof root._bokeh_onload_callbacks === \"undefined\" || force === true) {\n    root._bokeh_onload_callbacks = [];\n    root._bokeh_is_loading = undefined;\n  }\n\nconst JS_MIME_TYPE = 'application/javascript';\n  const HTML_MIME_TYPE = 'text/html';\n  const EXEC_MIME_TYPE = 'application/vnd.bokehjs_exec.v0+json';\n  const CLASS_NAME = 'output_bokeh rendered_html';\n\n  /**\n   * Render data to the DOM node\n   */\n  function render(props, node) {\n    const script = document.createElement(\"script\");\n    node.appendChild(script);\n  }\n\n  /**\n   * Handle when an output is cleared or removed\n   */\n  function handleClearOutput(event, handle) {\n    function drop(id) {\n      const view = Bokeh.index.get_by_id(id)\n      if (view != null) {\n        view.model.document.clear()\n        Bokeh.index.delete(view)\n      }\n    }\n\n    const cell = handle.cell;\n\n    const id = cell.output_area._bokeh_element_id;\n    const server_id = cell.output_area._bokeh_server_id;\n\n    // Clean up Bokeh references\n    if (id != null) {\n      drop(id)\n    }\n\n    if (server_id !== undefined) {\n      // Clean up Bokeh references\n      const cmd_clean = \"from bokeh.io.state import curstate; print(curstate().uuid_to_server['\" + server_id + \"'].get_sessions()[0].document.roots[0]._id)\";\n      cell.notebook.kernel.execute(cmd_clean, {\n        iopub: {\n          output: function(msg) {\n            const id = msg.content.text.trim()\n            drop(id)\n          }\n        }\n      });\n      // Destroy server and session\n      const cmd_destroy = \"import bokeh.io.notebook as ion; ion.destroy_server('\" + server_id + \"')\";\n      cell.notebook.kernel.execute(cmd_destroy);\n    }\n  }\n\n  /**\n   * Handle when a new output is added\n   */\n  function handleAddOutput(event, handle) {\n    const output_area = handle.output_area;\n    const output = handle.output;\n\n    // limit handleAddOutput to display_data with EXEC_MIME_TYPE content only\n    if ((output.output_type != \"display_data\") || (!Object.prototype.hasOwnProperty.call(output.data, EXEC_MIME_TYPE))) {\n      return\n    }\n\n    const toinsert = output_area.element.find(\".\" + CLASS_NAME.split(' ')[0]);\n\n    if (output.metadata[EXEC_MIME_TYPE][\"id\"] !== undefined) {\n      toinsert[toinsert.length - 1].firstChild.textContent = output.data[JS_MIME_TYPE];\n      // store reference to embed id on output_area\n      output_area._bokeh_element_id = output.metadata[EXEC_MIME_TYPE][\"id\"];\n    }\n    if (output.metadata[EXEC_MIME_TYPE][\"server_id\"] !== undefined) {\n      const bk_div = document.createElement(\"div\");\n      bk_div.innerHTML = output.data[HTML_MIME_TYPE];\n      const script_attrs = bk_div.children[0].attributes;\n      for (let i = 0; i < script_attrs.length; i++) {\n        toinsert[toinsert.length - 1].firstChild.setAttribute(script_attrs[i].name, script_attrs[i].value);\n        toinsert[toinsert.length - 1].firstChild.textContent = bk_div.children[0].textContent\n      }\n      // store reference to server id on output_area\n      output_area._bokeh_server_id = output.metadata[EXEC_MIME_TYPE][\"server_id\"];\n    }\n  }\n\n  function register_renderer(events, OutputArea) {\n\n    function append_mime(data, metadata, element) {\n      // create a DOM node to render to\n      const toinsert = this.create_output_subarea(\n        metadata,\n        CLASS_NAME,\n        EXEC_MIME_TYPE\n      );\n      this.keyboard_manager.register_events(toinsert);\n      // Render to node\n      const props = {data: data, metadata: metadata[EXEC_MIME_TYPE]};\n      render(props, toinsert[toinsert.length - 1]);\n      element.append(toinsert);\n      return toinsert\n    }\n\n    /* Handle when an output is cleared or removed */\n    events.on('clear_output.CodeCell', handleClearOutput);\n    events.on('delete.Cell', handleClearOutput);\n\n    /* Handle when a new output is added */\n    events.on('output_added.OutputArea', handleAddOutput);\n\n    /**\n     * Register the mime type and append_mime function with output_area\n     */\n    OutputArea.prototype.register_mime_type(EXEC_MIME_TYPE, append_mime, {\n      /* Is output safe? */\n      safe: true,\n      /* Index of renderer in `output_area.display_order` */\n      index: 0\n    });\n  }\n\n  // register the mime type if in Jupyter Notebook environment and previously unregistered\n  if (root.Jupyter !== undefined) {\n    const events = require('base/js/events');\n    const OutputArea = require('notebook/js/outputarea').OutputArea;\n\n    if (OutputArea.prototype.mime_types().indexOf(EXEC_MIME_TYPE) == -1) {\n      register_renderer(events, OutputArea);\n    }\n  }\n  if (typeof (root._bokeh_timeout) === \"undefined\" || force === true) {\n    root._bokeh_timeout = Date.now() + 5000;\n    root._bokeh_failed_load = false;\n  }\n\n  const NB_LOAD_WARNING = {'data': {'text/html':\n     \"<div style='background-color: #fdd'>\\n\"+\n     \"<p>\\n\"+\n     \"BokehJS does not appear to have successfully loaded. If loading BokehJS from CDN, this \\n\"+\n     \"may be due to a slow or bad network connection. Possible fixes:\\n\"+\n     \"</p>\\n\"+\n     \"<ul>\\n\"+\n     \"<li>re-rerun `output_notebook()` to attempt to load from CDN again, or</li>\\n\"+\n     \"<li>use INLINE resources instead, as so:</li>\\n\"+\n     \"</ul>\\n\"+\n     \"<code>\\n\"+\n     \"from bokeh.resources import INLINE\\n\"+\n     \"output_notebook(resources=INLINE)\\n\"+\n     \"</code>\\n\"+\n     \"</div>\"}};\n\n  function display_loaded(error = null) {\n    const el = document.getElementById(\"fb408ac4-f52a-49ec-a644-640769f4fed0\");\n    if (el != null) {\n      const html = (() => {\n        if (typeof root.Bokeh === \"undefined\") {\n          if (error == null) {\n            return \"BokehJS is loading ...\";\n          } else {\n            return \"BokehJS failed to load.\";\n          }\n        } else {\n          const prefix = `BokehJS ${root.Bokeh.version}`;\n          if (error == null) {\n            return `${prefix} successfully loaded.`;\n          } else {\n            return `${prefix} <b>encountered errors</b> while loading and may not function as expected.`;\n          }\n        }\n      })();\n      el.innerHTML = html;\n\n      if (error != null) {\n        const wrapper = document.createElement(\"div\");\n        wrapper.style.overflow = \"auto\";\n        wrapper.style.height = \"5em\";\n        wrapper.style.resize = \"vertical\";\n        const content = document.createElement(\"div\");\n        content.style.fontFamily = \"monospace\";\n        content.style.whiteSpace = \"pre-wrap\";\n        content.style.backgroundColor = \"rgb(255, 221, 221)\";\n        content.textContent = error.stack ?? error.toString();\n        wrapper.append(content);\n        el.append(wrapper);\n      }\n    } else if (Date.now() < root._bokeh_timeout) {\n      setTimeout(() => display_loaded(error), 100);\n    }\n  }\n\n  function run_callbacks() {\n    try {\n      root._bokeh_onload_callbacks.forEach(function(callback) {\n        if (callback != null)\n          callback();\n      });\n    } finally {\n      delete root._bokeh_onload_callbacks\n    }\n    console.debug(\"Bokeh: all callbacks have finished\");\n  }\n\n  function load_libs(css_urls, js_urls, callback) {\n    if (css_urls == null) css_urls = [];\n    if (js_urls == null) js_urls = [];\n\n    root._bokeh_onload_callbacks.push(callback);\n    if (root._bokeh_is_loading > 0) {\n      console.debug(\"Bokeh: BokehJS is being loaded, scheduling callback at\", now());\n      return null;\n    }\n    if (js_urls == null || js_urls.length === 0) {\n      run_callbacks();\n      return null;\n    }\n    console.debug(\"Bokeh: BokehJS not loaded, scheduling load and callback at\", now());\n    root._bokeh_is_loading = css_urls.length + js_urls.length;\n\n    function on_load() {\n      root._bokeh_is_loading--;\n      if (root._bokeh_is_loading === 0) {\n        console.debug(\"Bokeh: all BokehJS libraries/stylesheets loaded\");\n        run_callbacks()\n      }\n    }\n\n    function on_error(url) {\n      console.error(\"failed to load \" + url);\n    }\n\n    for (let i = 0; i < css_urls.length; i++) {\n      const url = css_urls[i];\n      const element = document.createElement(\"link\");\n      element.onload = on_load;\n      element.onerror = on_error.bind(null, url);\n      element.rel = \"stylesheet\";\n      element.type = \"text/css\";\n      element.href = url;\n      console.debug(\"Bokeh: injecting link tag for BokehJS stylesheet: \", url);\n      document.body.appendChild(element);\n    }\n\n    for (let i = 0; i < js_urls.length; i++) {\n      const url = js_urls[i];\n      const element = document.createElement('script');\n      element.onload = on_load;\n      element.onerror = on_error.bind(null, url);\n      element.async = false;\n      element.src = url;\n      console.debug(\"Bokeh: injecting script tag for BokehJS library: \", url);\n      document.head.appendChild(element);\n    }\n  };\n\n  function inject_raw_css(css) {\n    const element = document.createElement(\"style\");\n    element.appendChild(document.createTextNode(css));\n    document.body.appendChild(element);\n  }\n\n  const js_urls = [\"https://cdn.bokeh.org/bokeh/release/bokeh-3.4.2.min.js\", \"https://cdn.bokeh.org/bokeh/release/bokeh-gl-3.4.2.min.js\", \"https://cdn.bokeh.org/bokeh/release/bokeh-widgets-3.4.2.min.js\", \"https://cdn.bokeh.org/bokeh/release/bokeh-tables-3.4.2.min.js\", \"https://cdn.bokeh.org/bokeh/release/bokeh-mathjax-3.4.2.min.js\"];\n  const css_urls = [];\n\n  const inline_js = [    function(Bokeh) {\n      Bokeh.set_log_level(\"info\");\n    },\nfunction(Bokeh) {\n    }\n  ];\n\n  function run_inline_js() {\n    if (root.Bokeh !== undefined || force === true) {\n      try {\n            for (let i = 0; i < inline_js.length; i++) {\n      inline_js[i].call(root, root.Bokeh);\n    }\n\n      } catch (error) {display_loaded(error);throw error;\n      }if (force === true) {\n        display_loaded();\n      }} else if (Date.now() < root._bokeh_timeout) {\n      setTimeout(run_inline_js, 100);\n    } else if (!root._bokeh_failed_load) {\n      console.log(\"Bokeh: BokehJS failed to load within specified timeout.\");\n      root._bokeh_failed_load = true;\n    } else if (force !== true) {\n      const cell = $(document.getElementById(\"fb408ac4-f52a-49ec-a644-640769f4fed0\")).parents('.cell').data().cell;\n      cell.output_area.append_execute_result(NB_LOAD_WARNING)\n    }\n  }\n\n  if (root._bokeh_is_loading === 0) {\n    console.debug(\"Bokeh: BokehJS loaded, going straight to plotting\");\n    run_inline_js();\n  } else {\n    load_libs(css_urls, js_urls, function() {\n      console.debug(\"Bokeh: BokehJS plotting callback run at\", now());\n      run_inline_js();\n    });\n  }\n}(window));",
      "application/vnd.bokehjs_load.v0+json": ""
     },
     "metadata": {},
     "output_type": "display_data"
    }
   ],
   "source": [
    "import numpy as np\n",
    "\n",
    "from bokeh.plotting import figure, output_notebook, show\n",
    "from bokeh.models import Span\n",
    "\n",
    "output_notebook()\n"
   ]
  },
  {
   "cell_type": "code",
   "execution_count": 2,
   "metadata": {},
   "outputs": [
    {
     "data": {
      "text/plain": [
       "<module 'GenFuncs' from 'c:\\\\Users\\\\k1m19\\\\OneDrive\\\\Desktop\\\\Numerical\\\\IntLib\\\\GenFuncs.py'>"
      ]
     },
     "execution_count": 2,
     "metadata": {},
     "output_type": "execute_result"
    }
   ],
   "source": [
    "# reload \n",
    "\n",
    "from importlib import reload\n",
    "\n",
    "import IntLib\n",
    "import AutoDiff\n",
    "import GenFuncs\n",
    "\n",
    "reload(IntLib)\n",
    "reload(AutoDiff)\n",
    "reload(GenFuncs)\n"
   ]
  },
  {
   "cell_type": "code",
   "execution_count": 3,
   "metadata": {},
   "outputs": [],
   "source": [
    "from IntLib import Interval as IA\n",
    "\n",
    "from AutoDiff import (\n",
    "    AutoDiff as AD,\n",
    "    _ensure_AD as ensure_AD,\n",
    ")\n",
    "\n",
    "from GenFuncs import (\n",
    "    mag,\n",
    "    mig,\n",
    "    sqrt,\n",
    "    sin,\n",
    "    cos,\n",
    "    mid,\n",
    "    rad,\n",
    "    exp,\n",
    "    log,\n",
    "    atan,\n",
    ")\n",
    "\n"
   ]
  },
  {
   "cell_type": "markdown",
   "metadata": {},
   "source": [
    "# TODO\n",
    "- tests\n",
    "- deal with empty set\n",
    "- extened division ?\n",
    "- numpy arrays..."
   ]
  },
  {
   "cell_type": "code",
   "execution_count": null,
   "metadata": {},
   "outputs": [],
   "source": []
  },
  {
   "cell_type": "code",
   "execution_count": 6,
   "metadata": {},
   "outputs": [
    {
     "data": {
      "text/html": [
       "\n",
       "  <div id=\"d60bce49-826d-44e1-91e5-cb3b69877af9\" data-root-id=\"p1033\" style=\"display: contents;\"></div>\n"
      ]
     },
     "metadata": {},
     "output_type": "display_data"
    },
    {
     "data": {
      "application/javascript": "(function(root) {\n  function embed_document(root) {\n  const docs_json = {\"d427f38e-3c39-4403-ba51-12f7e1e111de\":{\"version\":\"3.4.2\",\"title\":\"Bokeh Application\",\"roots\":[{\"type\":\"object\",\"name\":\"Figure\",\"id\":\"p1033\",\"attributes\":{\"height\":300,\"x_range\":{\"type\":\"object\",\"name\":\"DataRange1d\",\"id\":\"p1034\"},\"y_range\":{\"type\":\"object\",\"name\":\"DataRange1d\",\"id\":\"p1035\"},\"x_scale\":{\"type\":\"object\",\"name\":\"LinearScale\",\"id\":\"p1042\"},\"y_scale\":{\"type\":\"object\",\"name\":\"LinearScale\",\"id\":\"p1043\"},\"title\":{\"type\":\"object\",\"name\":\"Title\",\"id\":\"p1040\"},\"renderers\":[{\"type\":\"object\",\"name\":\"GlyphRenderer\",\"id\":\"p1071\",\"attributes\":{\"data_source\":{\"type\":\"object\",\"name\":\"ColumnDataSource\",\"id\":\"p1065\",\"attributes\":{\"selected\":{\"type\":\"object\",\"name\":\"Selection\",\"id\":\"p1066\",\"attributes\":{\"indices\":[],\"line_indices\":[]}},\"selection_policy\":{\"type\":\"object\",\"name\":\"UnionRenderers\",\"id\":\"p1067\"},\"data\":{\"type\":\"map\",\"entries\":[[\"x\",{\"type\":\"ndarray\",\"array\":{\"type\":\"bytes\",\"data\":\"AAAAAAAACMDByyl4OQUHwIOXU/ByCgbARGN9aKwPBcAFL6fg5RQEwMb60FgfGgPAiMb60FgfAsBJkiRJkiQBwApeTsHLKQDAmFPwcgpe/r8a60NjfWj8v52Cl1Pwcvq/IBrrQ2N9+L+isT401of2vyVJkiRJkvS/p+DlFLyc8r8qeDkFL6fwv1gfGutDY+2/YE7Byyl46b9kfWisD43lv2isD431oeG/4LZt27Zt27/oFLycgpfTv+DlFLycgse/AIjG+tBYr7/Ah8b60FivP+DlFLycgsc/6BS8nIKX0z/Ytm3btm3bP2isD431oeE/ZH1orA+N5T9cTsHLKXjpP1gfGutDY+0/KHg5BS+n8D+o4OUUvJzyPyRJkiRJkvQ/oLE+NNaH9j8gGutDY334P5yCl1Pwcvo/GOtDY31o/D+YU/ByCl7+PwpeTsHLKQBASJIkSZIkAUCIxvrQWB8CQMb60FgfGgNABC+n4OUUBEBEY31orA8FQIKXU/ByCgZAwMspeDkFB0AAAAAAAAAIQA==\"},\"shape\":[50],\"dtype\":\"float64\",\"order\":\"little\"}],[\"y\",{\"type\":\"ndarray\",\"array\":{\"type\":\"bytes\",\"data\":\"c2iR7Xz/L0Bu1Utz/GIqQAPL1s4GSyVAqCKsIvixIEDMa4siWSQZQH68OnoAzBFA5NSzIj2fBkBgonKzro/2P8A/1TYCtMc/oPIi2V9067+M9QLTgK/7v0yAVaxIiwPANWfdNEAOCMB+yTF5NncLwBhBa++63A3AAmiiDV1VD8Aw2O9JrPcPwJ4rbBo42g/AQvwv9Y8TD8AX5FNQQ7oNwBN98KHh5AvAM2EeYPqpCcBqKvYAHSAHwLNykPrYXQTACtQFw715AcDF0N2gtRT9v26TyDF/TPe/ACT9JPfH8b/nbFnNeGjpv1z9EMbbfOC/msIGGapO0r8QBZjIExG+v0BmSIQ88JS/AHPICZPYeL8QjUq6cNe1v4DaSyDtOtG/pMsLaYgz4r/QVF16YdfvvzZ4Ps6f8fi/nUHzKVgsAsDB/yudACcJwDQIcVusvxDAxgaX9velFcCmSBTbqlEbwFqN+mEG5yDA/eQitjKTJMDCUYlH/rIowBf6s/MMTC3AQoIUTAEyMcDGSzeJQQA0wA==\"},\"shape\":[50],\"dtype\":\"float64\",\"order\":\"little\"}]]}}},\"view\":{\"type\":\"object\",\"name\":\"CDSView\",\"id\":\"p1072\",\"attributes\":{\"filter\":{\"type\":\"object\",\"name\":\"AllIndices\",\"id\":\"p1073\"}}},\"glyph\":{\"type\":\"object\",\"name\":\"Line\",\"id\":\"p1068\",\"attributes\":{\"x\":{\"type\":\"field\",\"field\":\"x\"},\"y\":{\"type\":\"field\",\"field\":\"y\"},\"line_color\":\"#1f77b4\"}},\"nonselection_glyph\":{\"type\":\"object\",\"name\":\"Line\",\"id\":\"p1069\",\"attributes\":{\"x\":{\"type\":\"field\",\"field\":\"x\"},\"y\":{\"type\":\"field\",\"field\":\"y\"},\"line_color\":\"#1f77b4\",\"line_alpha\":0.1}},\"muted_glyph\":{\"type\":\"object\",\"name\":\"Line\",\"id\":\"p1070\",\"attributes\":{\"x\":{\"type\":\"field\",\"field\":\"x\"},\"y\":{\"type\":\"field\",\"field\":\"y\"},\"line_color\":\"#1f77b4\",\"line_alpha\":0.2}}}},{\"type\":\"object\",\"name\":\"GlyphRenderer\",\"id\":\"p1080\",\"attributes\":{\"data_source\":{\"type\":\"object\",\"name\":\"ColumnDataSource\",\"id\":\"p1074\",\"attributes\":{\"selected\":{\"type\":\"object\",\"name\":\"Selection\",\"id\":\"p1075\",\"attributes\":{\"indices\":[],\"line_indices\":[]}},\"selection_policy\":{\"type\":\"object\",\"name\":\"UnionRenderers\",\"id\":\"p1076\"},\"data\":{\"type\":\"map\",\"entries\":[[\"x\",{\"type\":\"ndarray\",\"array\":{\"type\":\"bytes\",\"data\":\"AAAAAAAACMDByyl4OQUHwIOXU/ByCgbARGN9aKwPBcAFL6fg5RQEwMb60FgfGgPAiMb60FgfAsBJkiRJkiQBwApeTsHLKQDAmFPwcgpe/r8a60NjfWj8v52Cl1Pwcvq/IBrrQ2N9+L+isT401of2vyVJkiRJkvS/p+DlFLyc8r8qeDkFL6fwv1gfGutDY+2/YE7Byyl46b9kfWisD43lv2isD431oeG/4LZt27Zt27/oFLycgpfTv+DlFLycgse/AIjG+tBYr7/Ah8b60FivP+DlFLycgsc/6BS8nIKX0z/Ytm3btm3bP2isD431oeE/ZH1orA+N5T9cTsHLKXjpP1gfGutDY+0/KHg5BS+n8D+o4OUUvJzyPyRJkiRJkvQ/oLE+NNaH9j8gGutDY334P5yCl1Pwcvo/GOtDY31o/D+YU/ByCl7+PwpeTsHLKQBASJIkSZIkAUCIxvrQWB8CQMb60FgfGgNABC+n4OUUBEBEY31orA8FQIKXU/ByCgZAwMspeDkFB0AAAAAAAAAIQA==\"},\"shape\":[50],\"dtype\":\"float64\",\"order\":\"little\"}],[\"y\",{\"type\":\"ndarray\",\"array\":{\"type\":\"bytes\",\"data\":\"AAAAAAAAOMC0Q6UyRdc1wO352C2SxTPApyKb8ebKMcDIe9f7hs4vwEqXlaVPNSzA1Jdw4CfKKMBifWisD40lwPdHfQkHfiLAKO9d7xs6H8BqGPvtSNQZwLwL0g6VyhTAGMniUQAdEMAAoVpuFZcHwNiHxvrQWP+/4PW+ofPz8L/gYPSMlvzPv/DVatZFEd4/1M7sM7mX8T8GwFdppDr6P4LE7YqJtgBA5BS8nIKXA0Ax0RZqPcAFQGT5/fK5MAdAfY1xN/joB0B9jXE3+OgHQGT5/fK5MAdAMdEWaj3ABUDnFLycgpcDQILE7YqJtgBABsBXaaQ6+j/ezuwzuZfxP/DVatZFEd4/gGD0jJb8z7/k9b6h8/Pwv9CHxvrQWP+/+KBabhWXB8AYyeJRAB0QwLgL0g6VyhTAZhj77UjUGcAo713vGzofwPdHfQkHfiLAYH1orA+NJcDUl3DgJ8oowEqXlaVPNSzAxHvX+4bOL8CnIpvx5soxwOv52C2SxTPAskOlMkXXNcAAAAAAAAA4wA==\"},\"shape\":[50],\"dtype\":\"float64\",\"order\":\"little\"}]]}}},\"view\":{\"type\":\"object\",\"name\":\"CDSView\",\"id\":\"p1081\",\"attributes\":{\"filter\":{\"type\":\"object\",\"name\":\"AllIndices\",\"id\":\"p1082\"}}},\"glyph\":{\"type\":\"object\",\"name\":\"Line\",\"id\":\"p1077\",\"attributes\":{\"x\":{\"type\":\"field\",\"field\":\"x\"},\"y\":{\"type\":\"field\",\"field\":\"y\"},\"line_color\":\"red\"}},\"nonselection_glyph\":{\"type\":\"object\",\"name\":\"Line\",\"id\":\"p1078\",\"attributes\":{\"x\":{\"type\":\"field\",\"field\":\"x\"},\"y\":{\"type\":\"field\",\"field\":\"y\"},\"line_color\":\"red\",\"line_alpha\":0.1}},\"muted_glyph\":{\"type\":\"object\",\"name\":\"Line\",\"id\":\"p1079\",\"attributes\":{\"x\":{\"type\":\"field\",\"field\":\"x\"},\"y\":{\"type\":\"field\",\"field\":\"y\"},\"line_color\":\"red\",\"line_alpha\":0.2}}}}],\"toolbar\":{\"type\":\"object\",\"name\":\"Toolbar\",\"id\":\"p1041\",\"attributes\":{\"tools\":[{\"type\":\"object\",\"name\":\"PanTool\",\"id\":\"p1054\"},{\"type\":\"object\",\"name\":\"WheelZoomTool\",\"id\":\"p1055\",\"attributes\":{\"renderers\":\"auto\"}},{\"type\":\"object\",\"name\":\"BoxZoomTool\",\"id\":\"p1056\",\"attributes\":{\"overlay\":{\"type\":\"object\",\"name\":\"BoxAnnotation\",\"id\":\"p1057\",\"attributes\":{\"syncable\":false,\"level\":\"overlay\",\"visible\":false,\"left\":{\"type\":\"number\",\"value\":\"nan\"},\"right\":{\"type\":\"number\",\"value\":\"nan\"},\"top\":{\"type\":\"number\",\"value\":\"nan\"},\"bottom\":{\"type\":\"number\",\"value\":\"nan\"},\"left_units\":\"canvas\",\"right_units\":\"canvas\",\"top_units\":\"canvas\",\"bottom_units\":\"canvas\",\"line_color\":\"black\",\"line_alpha\":1.0,\"line_width\":2,\"line_dash\":[4,4],\"fill_color\":\"lightgrey\",\"fill_alpha\":0.5}}}},{\"type\":\"object\",\"name\":\"SaveTool\",\"id\":\"p1062\"},{\"type\":\"object\",\"name\":\"ResetTool\",\"id\":\"p1063\"},{\"type\":\"object\",\"name\":\"HelpTool\",\"id\":\"p1064\"}]}},\"left\":[{\"type\":\"object\",\"name\":\"LinearAxis\",\"id\":\"p1049\",\"attributes\":{\"ticker\":{\"type\":\"object\",\"name\":\"BasicTicker\",\"id\":\"p1050\",\"attributes\":{\"mantissas\":[1,2,5]}},\"formatter\":{\"type\":\"object\",\"name\":\"BasicTickFormatter\",\"id\":\"p1051\"},\"major_label_policy\":{\"type\":\"object\",\"name\":\"AllLabels\",\"id\":\"p1052\"}}}],\"below\":[{\"type\":\"object\",\"name\":\"LinearAxis\",\"id\":\"p1044\",\"attributes\":{\"ticker\":{\"type\":\"object\",\"name\":\"BasicTicker\",\"id\":\"p1045\",\"attributes\":{\"mantissas\":[1,2,5]}},\"formatter\":{\"type\":\"object\",\"name\":\"BasicTickFormatter\",\"id\":\"p1046\"},\"major_label_policy\":{\"type\":\"object\",\"name\":\"AllLabels\",\"id\":\"p1047\"}}}],\"center\":[{\"type\":\"object\",\"name\":\"Grid\",\"id\":\"p1048\",\"attributes\":{\"axis\":{\"id\":\"p1044\"}}},{\"type\":\"object\",\"name\":\"Grid\",\"id\":\"p1053\",\"attributes\":{\"dimension\":1,\"axis\":{\"id\":\"p1049\"}}},{\"type\":\"object\",\"name\":\"Span\",\"id\":\"p1083\",\"attributes\":{\"location\":0}}]}}]}};\n  const render_items = [{\"docid\":\"d427f38e-3c39-4403-ba51-12f7e1e111de\",\"roots\":{\"p1033\":\"d60bce49-826d-44e1-91e5-cb3b69877af9\"},\"root_ids\":[\"p1033\"]}];\n  void root.Bokeh.embed.embed_items_notebook(docs_json, render_items);\n  }\n  if (root.Bokeh !== undefined) {\n    embed_document(root);\n  } else {\n    let attempts = 0;\n    const timer = setInterval(function(root) {\n      if (root.Bokeh !== undefined) {\n        clearInterval(timer);\n        embed_document(root);\n      } else {\n        attempts++;\n        if (attempts > 100) {\n          clearInterval(timer);\n          console.log(\"Bokeh: ERROR: Unable to run BokehJS code because BokehJS library is missing\");\n        }\n      }\n    }, 10, root)\n  }\n})(window);",
      "application/vnd.bokehjs_exec.v0+json": ""
     },
     "metadata": {
      "application/vnd.bokehjs_exec.v0+json": {
       "id": "p1033"
      }
     },
     "output_type": "display_data"
    }
   ],
   "source": [
    "f = lambda x: -2.001 + 3 * x - x**3\n",
    "\n",
    "fig = figure(width=600, height=300)\n",
    "x = np.linspace(-3, 3)\n",
    "y, dy = f(AD(x, 1))\n",
    "fig.line(x, y)\n",
    "fig.line(x, dy, color='red')\n",
    "fig.add_layout(Span(location=0, dimension='width'))\n",
    "show(fig)"
   ]
  },
  {
   "cell_type": "markdown",
   "metadata": {},
   "source": [
    "# Extended IA broken\n",
    "\n",
    "# <span style=\"color:red\"> TODO </span>"
   ]
  },
  {
   "cell_type": "code",
   "execution_count": 5,
   "metadata": {},
   "outputs": [
    {
     "name": "stdout",
     "output_type": "stream",
     "text": [
      "\n",
      "(0, 1, 'R'): x0: [-3.₀₀₀₀₀₀₀₀₀₀₀₀₀₀₀₀₀, +3.₀₀₀₀₀₀₀₀₀₀₀₀₀₀₀₀₀]\n",
      "(0, 1, 'R'): nx: [-∞, -₀.₀83375₀₀₀₀₀₀₀₀₀₀₀]∪[+₀.66699999999999993, +∞]\n",
      "\n",
      "(1, 2, 'L'): x0: [-3.₀₀₀₀₀₀₀₀₀₀₀₀₀₀₀₀₀, -₀.₀83375₀₀₀₀₀₀₀₀₀₀₀]\n",
      "(1, 2, 'L'): nx: [-∞, -1.665₀94963₀8427929]∪[-₀.54751692732723711, +∞]\n",
      "\n",
      "(2, 3, 'L'): x0: [-3.₀₀₀₀₀₀₀₀₀₀₀₀₀₀₀₀₀, -1.665₀94963₀8427929]\n",
      "(2, 3, 'L'): nx: [-2.1787₀456478₀59493, -1.6382₀914456321187]\n",
      "(2, 3, 'L'): x: [-2.1787₀456478₀59493, -1.665₀94963₀8427929] +0.256805\n",
      "(2, 3, 'L'): nx: [-2.₀4747853₀66389318, -1.9813₀947359721432]\n",
      "(2, 3, 'L'): x: [-2.₀4747853₀66389318, -1.9813₀947359721432] +0.0330845\n",
      "(2, 3, 'L'): ℝ f([-2.₀4747853₀66389318, -1.9813₀947359721432])=[-₀.36563242343139724, +₀.638446239₀39192₀6]\n",
      "\n",
      "(2, 3, 'R'): x0: [-₀.54751692732723711, -₀.₀83375₀₀₀₀₀₀₀₀₀₀₀]\n",
      "(2, 3, 'R'): nx: [+₀.66334₀992₀4536945, +1.₀7265461512881544]\n",
      "(2, 3, 'R'): x: ∅ +nan\n",
      "(2, 3, 'R'): no roots ∅\n",
      "\n",
      "(1, 2, 'R'): x0: [+₀.66699999999999993, +3.₀₀₀₀₀₀₀₀₀₀₀₀₀₀₀₀₀]\n",
      "(1, 2, 'R'): nx: [-∞, +1.72249₀927276₀4181]∪[+3.43331₀81583983355, +∞]\n",
      "\n",
      "(2, 3, 'L'): x0: [+₀.66699999999999993, +1.72249₀927276₀4181]\n",
      "(2, 3, 'L'): nx: [-∞, +1.174₀43₀71418₀2255]∪[+1.2681₀2121719139₀5, +∞]\n",
      "\n",
      "(3, 4, 'L'): x0: [+₀.66699999999999993, +1.174₀43₀71418₀2255]\n",
      "(3, 4, 'L'): nx: [-∞, +₀.9₀3388341₀8952426]∪[+₀.932199937₀8924753, +∞]\n",
      "\n",
      "(4, 5, 'L'): x0: [+₀.66699999999999993, +₀.9₀3388341₀8952426]\n",
      "(4, 5, 'L'): nx: [+₀.86296429843723421, +1.₀1996₀4418522763₀]\n",
      "(4, 5, 'L'): x: [+₀.86296429843723421, +₀.9₀3388341₀8952426] +0.020212\n",
      "(4, 5, 'L'): no roots [+₀.86296429843723421, +₀.9₀3388341₀8952426]\n",
      "\n",
      "(4, 5, 'R'): x0: [+₀.932199937₀8924753, +1.174₀43₀71418₀2255]\n",
      "(4, 5, 'R'): nx: [-∞, +1.₀4465₀6₀3₀8515589]∪[+1.₀77588₀3187763₀3₀, +∞]\n",
      "\n",
      "(5, 6, 'L'): x0: [+₀.932199937₀8924753, +1.₀4465₀6₀3₀8515589]\n",
      "(5, 6, 'L'): maybe ℝ f([+₀.932199937₀8924753, +1.₀4465₀6₀3₀8515589])=[-₀.344422₀459₀6976₀₀, +₀.322873119₀1519211]\n",
      "\n",
      "(5, 6, 'R'): x0: [+1.₀77588₀3187763₀3₀, +1.174₀43₀71418₀2255]\n",
      "(5, 6, 'R'): maybe ℝ f([+1.₀77588₀3187763₀3₀, +1.174₀43₀71418₀2255])=[-₀.38651₀₀278₀625654, +₀.26983833814738256]\n",
      "\n",
      "(3, 4, 'R'): x0: [+1.2681₀2121719139₀5, +1.72249₀927276₀4181]\n",
      "(3, 4, 'R'): nx: [+1.₀24713₀5292488₀69, +1.349817397537₀₀136]\n",
      "(3, 4, 'R'): x: [+1.2681₀2121719139₀5, +1.349817397537₀₀136] +0.0408576\n",
      "(3, 4, 'R'): no roots [+1.2681₀2121719139₀5, +1.349817397537₀₀136]\n",
      "\n",
      "(2, 3, 'R'): x0: ∅\n",
      "(2, 3, 'R') empty\n"
     ]
    },
    {
     "data": {
      "text/plain": [
       "[[-2.₀4747853₀66389318, -1.9813₀947359721432],\n",
       " [+₀.932199937₀8924753, +1.₀4465₀6₀3₀8515589],\n",
       " [+1.₀77588₀3187763₀3₀, +1.174₀43₀71418₀2255]]"
      ]
     },
     "execution_count": 5,
     "metadata": {},
     "output_type": "execute_result"
    }
   ],
   "source": [
    "dbg = True\n",
    "\n",
    "def prn(*x):\n",
    "    global dbg\n",
    "    if dbg: \n",
    "        print(*x)\n",
    "\n",
    "def Nx(f, x):\n",
    "    xx = ensure_AD(x, 1)  # variable\n",
    "    fx = f(xx)\n",
    "    mx = IA(mid(x))\n",
    "    nx = mx - f(mx) / fx.dx\n",
    "    return nx\n",
    "\n",
    "acc = []\n",
    "\n",
    "def interval_newton_ext(f, x, tol, prev=0, left=None):\n",
    "    global acc\n",
    "    l = prev\n",
    "    l += 1\n",
    "    x0 = x\n",
    "    left = \"L\" if left else \"R\"\n",
    "    prn(f\"\\n{(prev,l,left)}: x0: {x0}\")\n",
    "    if x0.isempty:\n",
    "        prn(f\"{(prev,l,left)} empty\")\n",
    "        return\n",
    "    while rad(x) > tol:\n",
    "        nx = Nx(f, x)\n",
    "        prn(f\"{(prev,l,left)}: nx: {nx}\")\n",
    "        if nx.is_extended:\n",
    "            xl, xr = (x & IA(-np.inf, nx.x_)), (x & IA(nx._x, np.inf))\n",
    "            interval_newton_ext(f, xl, tol, l, True)\n",
    "            interval_newton_ext(f, xr, tol, l, False)\n",
    "            return\n",
    "        x = x & nx\n",
    "        prn(f\"{(prev,l,left)}: x: {x} {x.rad:+g}\")\n",
    "        if x.isempty:\n",
    "            prn(f\"{(prev,l,left)}: no roots {x}\")\n",
    "            return\n",
    "    if (x in x0) and (f(x).has_zero) and (not (Nx(f, x) & x).isempty):\n",
    "        maybe = \"maybe \" if x == x0 else \"\"\n",
    "        print(f\"{(prev,l,left)}: {maybe}ℝ f({x})={f(x)}\")\n",
    "        acc.append(x)\n",
    "    else:\n",
    "        prn(f\"{(prev,l,left)}: no roots {x}\")\n",
    "\n",
    "\n",
    "f = lambda x: -2.001 + 3 * x - x**3\n",
    "\n",
    "interval_newton_ext(f, IA(-3, +3), 0.1)\n",
    "acc"
   ]
  },
  {
   "cell_type": "code",
   "execution_count": null,
   "metadata": {},
   "outputs": [
    {
     "name": "stdout",
     "output_type": "stream",
     "text": [
      "(2, 3, 'L'): ℝ f([-2.₀4747853₀66389318, -1.9813₀947359721432])=[-₀.36563242343139724, +₀.638446239₀39192₀6]\n",
      "(5, 6, 'L'): maybe ℝ f([+₀.932199937₀8924753, +1.₀4465₀6₀3₀8515589])=[-₀.344422₀459₀6976₀₀, +₀.322873119₀1519211]\n",
      "(5, 6, 'R'): maybe ℝ f([+1.₀77588₀3187763₀3₀, +1.174₀43₀71418₀2255])=[-₀.38651₀₀278₀625654, +₀.26983833814738256]\n"
     ]
    },
    {
     "data": {
      "text/plain": [
       "[[-2.₀4747853₀66389318, -1.9813₀947359721432],\n",
       " [+₀.932199937₀8924753, +1.₀4465₀6₀3₀8515589],\n",
       " [+1.₀77588₀3187763₀3₀, +1.174₀43₀71418₀2255]]"
      ]
     },
     "execution_count": 10,
     "metadata": {},
     "output_type": "execute_result"
    }
   ],
   "source": [
    "# f = lambda x: sin(x)*(x+cos(x))\n",
    "f = lambda x: -2.001 + 3 * x - x**3\n",
    "l, dbg = 0, False\n",
    "acc = []\n",
    "interval_newton_ext(f, IA(-3, 3), 0.1)\n",
    "acc"
   ]
  },
  {
   "cell_type": "code",
   "execution_count": null,
   "metadata": {},
   "outputs": [
    {
     "name": "stdout",
     "output_type": "stream",
     "text": [
      "\n",
      "(0, 1, 'R'): x0: [+₀.₀₀₀₀₀₀₀₀₀₀₀₀₀₀₀₀₀, +4.₀₀₀₀₀₀₀₀₀₀₀₀₀₀₀₀₀]\n",
      "(0, 1, 'R'): nx: [+1.5₀₀₀₀₀₀₀₀₀₀₀₀₀₀₀₀, +1.5₀₀₀₀₀₀₀₀₀₀₀₀₀₀₀₀]\n",
      "(0, 1, 'R'): x: [+1.5₀₀₀₀₀₀₀₀₀₀₀₀₀₀₀₀, +1.5₀₀₀₀₀₀₀₀₀₀₀₀₀₀₀₀] +0\n",
      "(0, 1, 'R'): no roots [+1.5₀₀₀₀₀₀₀₀₀₀₀₀₀₀₀₀, +1.5₀₀₀₀₀₀₀₀₀₀₀₀₀₀₀₀]\n"
     ]
    },
    {
     "data": {
      "text/plain": [
       "[]"
      ]
     },
     "execution_count": 11,
     "metadata": {},
     "output_type": "execute_result"
    }
   ],
   "source": [
    "f = lambda x: x**2-4*x+3\n",
    "l = 0\n",
    "dbg = True\n",
    "acc = []\n",
    "interval_newton_ext(f, IA(0, 4), 0.01)\n",
    "acc"
   ]
  },
  {
   "cell_type": "markdown",
   "metadata": {},
   "source": [
    "# Why there is no 1 as a root?"
   ]
  },
  {
   "cell_type": "code",
   "execution_count": null,
   "metadata": {},
   "outputs": [
    {
     "data": {
      "text/html": [
       "\n",
       "  <div id=\"e94d52ef-1ee0-4e83-b4cd-493ddde19780\" data-root-id=\"p1099\" style=\"display: contents;\"></div>\n"
      ]
     },
     "metadata": {},
     "output_type": "display_data"
    },
    {
     "data": {
      "application/javascript": "(function(root) {\n  function embed_document(root) {\n  const docs_json = {\"ffd079f4-056f-45cf-a526-a2adacaa68cf\":{\"version\":\"3.4.2\",\"title\":\"Bokeh Application\",\"roots\":[{\"type\":\"object\",\"name\":\"Figure\",\"id\":\"p1099\",\"attributes\":{\"width\":800,\"height\":400,\"x_range\":{\"type\":\"object\",\"name\":\"DataRange1d\",\"id\":\"p1100\"},\"y_range\":{\"type\":\"object\",\"name\":\"DataRange1d\",\"id\":\"p1101\"},\"x_scale\":{\"type\":\"object\",\"name\":\"LinearScale\",\"id\":\"p1108\"},\"y_scale\":{\"type\":\"object\",\"name\":\"LinearScale\",\"id\":\"p1109\"},\"title\":{\"type\":\"object\",\"name\":\"Title\",\"id\":\"p1106\"},\"renderers\":[{\"type\":\"object\",\"name\":\"GlyphRenderer\",\"id\":\"p1137\",\"attributes\":{\"data_source\":{\"type\":\"object\",\"name\":\"ColumnDataSource\",\"id\":\"p1131\",\"attributes\":{\"selected\":{\"type\":\"object\",\"name\":\"Selection\",\"id\":\"p1132\",\"attributes\":{\"indices\":[],\"line_indices\":[]}},\"selection_policy\":{\"type\":\"object\",\"name\":\"UnionRenderers\",\"id\":\"p1133\"},\"data\":{\"type\":\"map\",\"entries\":[[\"x\",{\"type\":\"ndarray\",\"array\":{\"type\":\"bytes\",\"data\":\"AAAAAAAACMDFvJ0hMW8HwIl5O0Ni3gbATjbZZJNNBsAS83aGxLwFwNevFKj1KwXAm2yyySabBMBgKVDrVwoEwCTm7QyJeQPA6aKLLrroAsCtXylQ61cCwHIcx3EcxwHANtlkk002AcD7lQK1fqUAwMBSoNavFADACB988MEH/7+RmLczJOb9vxoS83aGxPy/o4suuuii+78sBWr9SoH6v7V+pUCtX/m/Pvjggw8++L/HcRzHcRz3v1DrVwrU+vW/2mSTTTbZ9L9j3s6QmLfzv+xXCtT6lfK/ddFFF1108b/+SoFav1LwvwyJeTtDYu6/IHzwwQcf7L8wb2dIzNvpv0Ri3s6QmOe/WFVVVVVV5b9oSMzbGRLjv3w7Q2LezuC/GF100UUX3b9AQ2LezpDYv2ApUOtXCtS/EB988MEHz79Q61cK1PrFv0BvZ0jM27m/AB988MEHn79Av1Kg1q+kPyDHcRzHcbw/QBdddNFFxz+ApUCtXynQP1i/UqDWr9Q/MNlkk0022T8Q83aGxLzdP3SGxLydIeE/ZJNNNtlk4z9QoNavFKjlP0CtXylQ6+c/LLrooosu6j8cx3Ecx3HsPwjU+pUCte4/fPDBBx988D/0dobEvJ3xP2j9SoFav/I/4IMPPvjg8z9YCtT6lQL1P9CQmLczJPY/RBdddNFF9z+8nSExb2f4PzQk5u0Mifk/qKqqqqqq+j8gMW9nSMz7P5i3MyTm7fw/ED744IMP/j+ExLydITH/P36lQK1fKQBAuuiiiy66AED2KwVq/UoBQDBvZ0jM2wFAbLLJJptsAkCo9SsFav0CQOQ4juM4jgNAHnzwwQcfBEBav1Kg1q8EQJYCtX6lQAVA0EUXXXTRBUAMiXk7Q2IGQEjM2xkS8wZAhA8++OCDB0C+UqDWrxQIQPqVArV+pQhANtlkk002CUByHMdxHMcJQKxfKVDrVwpA6KKLLrroCkAk5u0MiXkLQGApUOtXCgxAmmyyySabDEDWrxSo9SsNQBLzdobEvA1ATDbZZJNNDkCIeTtDYt4OQMS8nSExbw9AAAAAAAAAEEA=\"},\"shape\":[100],\"dtype\":\"float64\",\"order\":\"little\"}],[\"y\",{\"type\":\"ndarray\",\"array\":{\"type\":\"bytes\",\"data\":\"AAAAAAAAOEDCkIoPRUw3QBrrH2oZmzZADA/AD33sNUCU/GoAcEA1QLWzIDzyljRAbDThwgPwM0C8fqyUpEszQKOSgrHUqTJAInBjGZQKMkA4F0/M4m0xQOeHRcrA0zBALMJGEy48MEAVjKVOVU4vQAAn0wxtKS5AGlUWYaMJLUBjFm9L+O4rQNtq3ctr2SpAg1Jh4v3IKUBazfqOrr0oQGHbqdF9tydAl3xuqmu2JkD9sEgZeLolQJJ4OB6jwyRAVtM9uezRI0BKwVjqVOUiQG1CibHb/SFAv1bPDoEbIUBA/ioCRT4gQOFxOBdPzB5Aow1GVlEmHUDBz37BkIobQEC44lgN+RlAHsdxHMdxGEBY/CsMvvQWQPRXESjygRVA69khcGMZFEBEgl3kEbsSQPlQxIT9ZhFAD0ZWUSYdEEACwyaUGLsNQKlG991eUAtACRcegB/6CEArNJt6WrgGQAaebs0PiwRAolSYeD9yAkD4Vxh86W0AQB5Q3a8b/Pw/xok2GFlF+T/jXDwxi7f1P4HJ7vqxUvI/KJ+b6pot7j9Q3rJAuwfoP2BQI/jEM+I/4OrZIXBj2T/ANT8sUgbOP2DDXjTTGrU/gJruyWWPrr8g48H5do3Iv9Cp0X23F9S/OPwPvOBE279Y9M2bG+fgv6C3Onjd2eO/7EdO87V65r9IpQgNpcnov7DPacWqxuq/GMdxHMdx7L+UiyAS+srtvxgddqZD0u6/qHty2aOH779ApxWrGuvvv+CfXxuo/O+/kGVQKky8779I+OfXBirvvwhYJiTYRe6/0IQLD8AP7b+ofpeYvofrv4hFysDTrem/eNmjh/+B579oOiTtQQTlv2hoS/GaNOK/8MYyKBUm3r8QVxyrIT/Xv4ACp9a2aM+/gBZhowkXvr8AvlXFlcqUPwDHasjPhcU/ANHHLvnc1D9gpAw83ZrfP8DuAQZKfuU/YL5Wzw6B6z94YAJ93urwP0D7BUMqPvQ/eC+2uWq69z8w/RLhn1/7P2hkHLnJLf8/hDLpIHSSAUCcf5q9faIDQHAZorIBxwVAAAAAAAAACEA=\"},\"shape\":[100],\"dtype\":\"float64\",\"order\":\"little\"}]]}}},\"view\":{\"type\":\"object\",\"name\":\"CDSView\",\"id\":\"p1138\",\"attributes\":{\"filter\":{\"type\":\"object\",\"name\":\"AllIndices\",\"id\":\"p1139\"}}},\"glyph\":{\"type\":\"object\",\"name\":\"Line\",\"id\":\"p1134\",\"attributes\":{\"x\":{\"type\":\"field\",\"field\":\"x\"},\"y\":{\"type\":\"field\",\"field\":\"y\"},\"line_color\":\"#1f77b4\"}},\"nonselection_glyph\":{\"type\":\"object\",\"name\":\"Line\",\"id\":\"p1135\",\"attributes\":{\"x\":{\"type\":\"field\",\"field\":\"x\"},\"y\":{\"type\":\"field\",\"field\":\"y\"},\"line_color\":\"#1f77b4\",\"line_alpha\":0.1}},\"muted_glyph\":{\"type\":\"object\",\"name\":\"Line\",\"id\":\"p1136\",\"attributes\":{\"x\":{\"type\":\"field\",\"field\":\"x\"},\"y\":{\"type\":\"field\",\"field\":\"y\"},\"line_color\":\"#1f77b4\",\"line_alpha\":0.2}}}},{\"type\":\"object\",\"name\":\"GlyphRenderer\",\"id\":\"p1146\",\"attributes\":{\"data_source\":{\"type\":\"object\",\"name\":\"ColumnDataSource\",\"id\":\"p1140\",\"attributes\":{\"selected\":{\"type\":\"object\",\"name\":\"Selection\",\"id\":\"p1141\",\"attributes\":{\"indices\":[],\"line_indices\":[]}},\"selection_policy\":{\"type\":\"object\",\"name\":\"UnionRenderers\",\"id\":\"p1142\"},\"data\":{\"type\":\"map\",\"entries\":[[\"x\",{\"type\":\"ndarray\",\"array\":{\"type\":\"bytes\",\"data\":\"AAAAAAAACMDFvJ0hMW8HwIl5O0Ni3gbATjbZZJNNBsAS83aGxLwFwNevFKj1KwXAm2yyySabBMBgKVDrVwoEwCTm7QyJeQPA6aKLLrroAsCtXylQ61cCwHIcx3EcxwHANtlkk002AcD7lQK1fqUAwMBSoNavFADACB988MEH/7+RmLczJOb9vxoS83aGxPy/o4suuuii+78sBWr9SoH6v7V+pUCtX/m/Pvjggw8++L/HcRzHcRz3v1DrVwrU+vW/2mSTTTbZ9L9j3s6QmLfzv+xXCtT6lfK/ddFFF1108b/+SoFav1LwvwyJeTtDYu6/IHzwwQcf7L8wb2dIzNvpv0Ri3s6QmOe/WFVVVVVV5b9oSMzbGRLjv3w7Q2LezuC/GF100UUX3b9AQ2LezpDYv2ApUOtXCtS/EB988MEHz79Q61cK1PrFv0BvZ0jM27m/AB988MEHn79Av1Kg1q+kPyDHcRzHcbw/QBdddNFFxz+ApUCtXynQP1i/UqDWr9Q/MNlkk0022T8Q83aGxLzdP3SGxLydIeE/ZJNNNtlk4z9QoNavFKjlP0CtXylQ6+c/LLrooosu6j8cx3Ecx3HsPwjU+pUCte4/fPDBBx988D/0dobEvJ3xP2j9SoFav/I/4IMPPvjg8z9YCtT6lQL1P9CQmLczJPY/RBdddNFF9z+8nSExb2f4PzQk5u0Mifk/qKqqqqqq+j8gMW9nSMz7P5i3MyTm7fw/ED744IMP/j+ExLydITH/P36lQK1fKQBAuuiiiy66AED2KwVq/UoBQDBvZ0jM2wFAbLLJJptsAkCo9SsFav0CQOQ4juM4jgNAHnzwwQcfBEBav1Kg1q8EQJYCtX6lQAVA0EUXXXTRBUAMiXk7Q2IGQEjM2xkS8wZAhA8++OCDB0C+UqDWrxQIQPqVArV+pQhANtlkk002CUByHMdxHMcJQKxfKVDrVwpA6KKLLrroCkAk5u0MiXkLQGApUOtXCgxAmmyyySabDEDWrxSo9SsNQBLzdobEvA1ATDbZZJNNDkCIeTtDYt4OQMS8nSExbw9AAAAAAAAAEEA=\"},\"shape\":[100],\"dtype\":\"float64\",\"order\":\"little\"}],[\"y\",{\"type\":\"ndarray\",\"array\":{\"type\":\"bytes\",\"data\":\"AAAAAAAAJMBi3s6QmLcjwMS8nSExbyPAJ5tssskmI8CJeTtDYt4iwOxXCtT6lSLATjbZZJNNIsCwFKj1KwUiwBLzdobEvCHAdNFFF110IcDWrxSo9SshwDmO4ziO4yDAm2yyySabIMD+SoFav1IgwGApUOtXCiDAhA8++OCDH8BIzNsZEvMewA2JeTtDYh7A0kUXXXTRHcCWArV+pUAdwFq/UqDWrxzAH3zwwQcfHMDkOI7jOI4bwKj1KwVq/RrAbbLJJptsGsAyb2dIzNsZwPYrBWr9ShnAuuiiiy66GMB/pUCtXykYwENi3s6QmBfACB988MEHF8DM2xkS83YWwJGYtzMk5hXAVlVVVVVVFcAaEvN2hsQUwN/OkJi3MxTAo4suuuiiE8BoSMzbGRITwCwFav1KgRLA8cEHH3zwEcC1fqVArV8RwHo7Q2LezhDAPvjggw8+EMAGav1KgVoPwI7jOI7jOA7AGF100UUXDcCg1q8UqPULwCpQ61cK1ArAtMkmm2yyCcA8Q2LezpAIwMa8nSExbwfATjbZZJNNBsDYrxSo9SsFwGApUOtXCgTA6qKLLrroAsByHMdxHMcBwPyVArV+pQDACB988MEH/78YEvN2hsT8vzAFav1Kgfq/QPjggw8++L9Q61cK1Pr1v2DezpCYt/O/eNFFF1108b8QiXk7Q2LuvzBvZ0jM2+m/YFVVVVVV5b+AO0Ni3s7gv0BDYt7OkNi/AB988MEHz7+Ab2dIzNu5vwC/UqDWr6Q/QBdddNFFxz9gv1Kg1q/UPwDzdobEvN0/YJNNNtlk4z9ArV8pUOvnPyDHcRzHcew/ePDBBx988D9o/UqBWr/yP1gK1PqVAvU/QBdddNFF9z8wJObtDIn5PyAxb2dIzPs/ED744IMP/j98pUCtXykAQPQrBWr9SgFAbLLJJptsAkDkOI7jOI4DQFi/UqDWrwRA0EUXXXTRBUBIzNsZEvMGQMBSoNavFAhANNlkk002CUCsXylQ61cKQCTm7QyJeQtAmGyyySabDEAQ83aGxLwNQIh5O0Ni3g5AAAAAAAAAEEA=\"},\"shape\":[100],\"dtype\":\"float64\",\"order\":\"little\"}]]}}},\"view\":{\"type\":\"object\",\"name\":\"CDSView\",\"id\":\"p1147\",\"attributes\":{\"filter\":{\"type\":\"object\",\"name\":\"AllIndices\",\"id\":\"p1148\"}}},\"glyph\":{\"type\":\"object\",\"name\":\"Line\",\"id\":\"p1143\",\"attributes\":{\"x\":{\"type\":\"field\",\"field\":\"x\"},\"y\":{\"type\":\"field\",\"field\":\"y\"},\"line_color\":\"red\"}},\"nonselection_glyph\":{\"type\":\"object\",\"name\":\"Line\",\"id\":\"p1144\",\"attributes\":{\"x\":{\"type\":\"field\",\"field\":\"x\"},\"y\":{\"type\":\"field\",\"field\":\"y\"},\"line_color\":\"red\",\"line_alpha\":0.1}},\"muted_glyph\":{\"type\":\"object\",\"name\":\"Line\",\"id\":\"p1145\",\"attributes\":{\"x\":{\"type\":\"field\",\"field\":\"x\"},\"y\":{\"type\":\"field\",\"field\":\"y\"},\"line_color\":\"red\",\"line_alpha\":0.2}}}}],\"toolbar\":{\"type\":\"object\",\"name\":\"Toolbar\",\"id\":\"p1107\",\"attributes\":{\"tools\":[{\"type\":\"object\",\"name\":\"PanTool\",\"id\":\"p1120\"},{\"type\":\"object\",\"name\":\"WheelZoomTool\",\"id\":\"p1121\",\"attributes\":{\"renderers\":\"auto\"}},{\"type\":\"object\",\"name\":\"BoxZoomTool\",\"id\":\"p1122\",\"attributes\":{\"overlay\":{\"type\":\"object\",\"name\":\"BoxAnnotation\",\"id\":\"p1123\",\"attributes\":{\"syncable\":false,\"level\":\"overlay\",\"visible\":false,\"left\":{\"type\":\"number\",\"value\":\"nan\"},\"right\":{\"type\":\"number\",\"value\":\"nan\"},\"top\":{\"type\":\"number\",\"value\":\"nan\"},\"bottom\":{\"type\":\"number\",\"value\":\"nan\"},\"left_units\":\"canvas\",\"right_units\":\"canvas\",\"top_units\":\"canvas\",\"bottom_units\":\"canvas\",\"line_color\":\"black\",\"line_alpha\":1.0,\"line_width\":2,\"line_dash\":[4,4],\"fill_color\":\"lightgrey\",\"fill_alpha\":0.5}}}},{\"type\":\"object\",\"name\":\"SaveTool\",\"id\":\"p1128\"},{\"type\":\"object\",\"name\":\"ResetTool\",\"id\":\"p1129\"},{\"type\":\"object\",\"name\":\"HelpTool\",\"id\":\"p1130\"}]}},\"left\":[{\"type\":\"object\",\"name\":\"LinearAxis\",\"id\":\"p1115\",\"attributes\":{\"ticker\":{\"type\":\"object\",\"name\":\"BasicTicker\",\"id\":\"p1116\",\"attributes\":{\"mantissas\":[1,2,5]}},\"formatter\":{\"type\":\"object\",\"name\":\"BasicTickFormatter\",\"id\":\"p1117\"},\"major_label_policy\":{\"type\":\"object\",\"name\":\"AllLabels\",\"id\":\"p1118\"}}}],\"below\":[{\"type\":\"object\",\"name\":\"LinearAxis\",\"id\":\"p1110\",\"attributes\":{\"ticker\":{\"type\":\"object\",\"name\":\"BasicTicker\",\"id\":\"p1111\",\"attributes\":{\"mantissas\":[1,2,5]}},\"formatter\":{\"type\":\"object\",\"name\":\"BasicTickFormatter\",\"id\":\"p1112\"},\"major_label_policy\":{\"type\":\"object\",\"name\":\"AllLabels\",\"id\":\"p1113\"}}}],\"center\":[{\"type\":\"object\",\"name\":\"Grid\",\"id\":\"p1114\",\"attributes\":{\"axis\":{\"id\":\"p1110\"}}},{\"type\":\"object\",\"name\":\"Grid\",\"id\":\"p1119\",\"attributes\":{\"dimension\":1,\"axis\":{\"id\":\"p1115\"}}},{\"type\":\"object\",\"name\":\"Span\",\"id\":\"p1149\",\"attributes\":{\"location\":0,\"line_color\":\"green\"}}]}}]}};\n  const render_items = [{\"docid\":\"ffd079f4-056f-45cf-a526-a2adacaa68cf\",\"roots\":{\"p1099\":\"e94d52ef-1ee0-4e83-b4cd-493ddde19780\"},\"root_ids\":[\"p1099\"]}];\n  void root.Bokeh.embed.embed_items_notebook(docs_json, render_items);\n  }\n  if (root.Bokeh !== undefined) {\n    embed_document(root);\n  } else {\n    let attempts = 0;\n    const timer = setInterval(function(root) {\n      if (root.Bokeh !== undefined) {\n        clearInterval(timer);\n        embed_document(root);\n      } else {\n        attempts++;\n        if (attempts > 100) {\n          clearInterval(timer);\n          console.log(\"Bokeh: ERROR: Unable to run BokehJS code because BokehJS library is missing\");\n        }\n      }\n    }, 10, root)\n  }\n})(window);",
      "application/vnd.bokehjs_exec.v0+json": ""
     },
     "metadata": {
      "application/vnd.bokehjs_exec.v0+json": {
       "id": "p1099"
      }
     },
     "output_type": "display_data"
    }
   ],
   "source": [
    "x = np.linspace(-3, 4, 100)\n",
    "\n",
    "fig = figure(width=800, height=400)\n",
    "y, dy = f(AD(x, 1))\n",
    "fig.line(x, y)\n",
    "fig.line(x, dy, color='red')\n",
    "fig.add_layout(Span(location=0, dimension='width', line_color='green'))\n",
    "for r in acc:\n",
    "    _r, r_ = r\n",
    "    fig.segment(x0=_r, y0=0, x1=r_, y1=0, color='red', line_width=10)\n",
    "show(fig)\n"
   ]
  },
  {
   "cell_type": "code",
   "execution_count": null,
   "metadata": {},
   "outputs": [],
   "source": []
  },
  {
   "cell_type": "code",
   "execution_count": null,
   "metadata": {},
   "outputs": [],
   "source": []
  },
  {
   "cell_type": "code",
   "execution_count": null,
   "metadata": {},
   "outputs": [],
   "source": []
  },
  {
   "cell_type": "code",
   "execution_count": null,
   "metadata": {},
   "outputs": [],
   "source": []
  },
  {
   "cell_type": "code",
   "execution_count": null,
   "metadata": {},
   "outputs": [],
   "source": []
  }
 ],
 "metadata": {
  "kernelspec": {
   "display_name": "cuda_learn",
   "language": "python",
   "name": "python3"
  },
  "language_info": {
   "codemirror_mode": {
    "name": "ipython",
    "version": 3
   },
   "file_extension": ".py",
   "mimetype": "text/x-python",
   "name": "python",
   "nbconvert_exporter": "python",
   "pygments_lexer": "ipython3",
   "version": "3.12.3"
  },
  "orig_nbformat": 4
 },
 "nbformat": 4,
 "nbformat_minor": 2
}
