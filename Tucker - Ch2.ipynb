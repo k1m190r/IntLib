{
 "cells": [
  {
   "cell_type": "code",
   "execution_count": 23,
   "metadata": {},
   "outputs": [
    {
     "data": {
      "text/html": [
       "<style>\n",
       "        .bk-notebook-logo {\n",
       "            display: block;\n",
       "            width: 20px;\n",
       "            height: 20px;\n",
       "            background-image: url(data:image/png;base64,iVBORw0KGgoAAAANSUhEUgAAABQAAAAUCAYAAACNiR0NAAAABHNCSVQICAgIfAhkiAAAAAlwSFlzAAALEgAACxIB0t1+/AAAABx0RVh0U29mdHdhcmUAQWRvYmUgRmlyZXdvcmtzIENTNui8sowAAAOkSURBVDiNjZRtaJVlGMd/1/08zzln5zjP1LWcU9N0NkN8m2CYjpgQYQXqSs0I84OLIC0hkEKoPtiH3gmKoiJDU7QpLgoLjLIQCpEsNJ1vqUOdO7ppbuec5+V+rj4ctwzd8IIbbi6u+8f1539dt3A78eXC7QizUF7gyV1fD1Yqg4JWz84yffhm0qkFqBogB9rM8tZdtwVsPUhWhGcFJngGeWrPzHm5oaMmkfEg1usvLFyc8jLRqDOMru7AyC8saQr7GG7f5fvDeH7Ej8CM66nIF+8yngt6HWaKh7k49Soy9nXurCi1o3qUbS3zWfrYeQDTB/Qj6kX6Ybhw4B+bOYoLKCC9H3Nu/leUTZ1JdRWkkn2ldcCamzrcf47KKXdAJllSlxAOkRgyHsGC/zRday5Qld9DyoM4/q/rUoy/CXh3jzOu3bHUVZeU+DEn8FInkPBFlu3+nW3Nw0mk6vCDiWg8CeJaxEwuHS3+z5RgY+YBR6V1Z1nxSOfoaPa4LASWxxdNp+VWTk7+4vzaou8v8PN+xo+KY2xsw6une2frhw05CTYOmQvsEhjhWjn0bmXPjpE1+kplmmkP3suftwTubK9Vq22qKmrBhpY4jvd5afdRA3wGjFAgcnTK2s4hY0/GPNIb0nErGMCRxWOOX64Z8RAC4oCXdklmEvcL8o0BfkNK4lUg9HTl+oPlQxdNo3Mg4Nv175e/1LDGzZen30MEjRUtmXSfiTVu1kK8W4txyV6BMKlbgk3lMwYCiusNy9fVfvvwMxv8Ynl6vxoByANLTWplvuj/nF9m2+PDtt1eiHPBr1oIfhCChQMBw6Aw0UulqTKZdfVvfG7VcfIqLG9bcldL/+pdWTLxLUy8Qq38heUIjh4XlzZxzQm19lLFlr8vdQ97rjZVOLf8nclzckbcD4wxXMidpX30sFd37Fv/GtwwhzhxGVAprjbg0gCAEeIgwCZyTV2Z1REEW8O4py0wsjeloKoMr6iCY6dP92H6Vw/oTyICIthibxjm/DfN9lVz8IqtqKYLUXfoKVMVQVVJOElGjrnnUt9T9wbgp8AyYKaGlqingHZU/uG2NTZSVqwHQTWkx9hxjkpWDaCg6Ckj5qebgBVbT3V3NNXMSiWSDdGV3hrtzla7J+duwPOToIg42ChPQOQjspnSlp1V+Gjdged7+8UN5CRAV7a5EdFNwCjEaBR27b3W890TE7g24NAP/mMDXRWrGoFPQI9ls/MWO2dWFAar/xcOIImbbpA3zgAAAABJRU5ErkJggg==);\n",
       "        }\n",
       "    </style>\n",
       "    <div>\n",
       "        <a href=\"https://bokeh.org\" target=\"_blank\" class=\"bk-notebook-logo\"></a>\n",
       "        <span id=\"d89be56f-ee1c-4d3e-af37-5f34fb713d36\">Loading BokehJS ...</span>\n",
       "    </div>\n"
      ]
     },
     "metadata": {},
     "output_type": "display_data"
    },
    {
     "data": {
      "application/javascript": "(function(root) {\n  function now() {\n    return new Date();\n  }\n\n  const force = true;\n\n  if (typeof root._bokeh_onload_callbacks === \"undefined\" || force === true) {\n    root._bokeh_onload_callbacks = [];\n    root._bokeh_is_loading = undefined;\n  }\n\nconst JS_MIME_TYPE = 'application/javascript';\n  const HTML_MIME_TYPE = 'text/html';\n  const EXEC_MIME_TYPE = 'application/vnd.bokehjs_exec.v0+json';\n  const CLASS_NAME = 'output_bokeh rendered_html';\n\n  /**\n   * Render data to the DOM node\n   */\n  function render(props, node) {\n    const script = document.createElement(\"script\");\n    node.appendChild(script);\n  }\n\n  /**\n   * Handle when an output is cleared or removed\n   */\n  function handleClearOutput(event, handle) {\n    const cell = handle.cell;\n\n    const id = cell.output_area._bokeh_element_id;\n    const server_id = cell.output_area._bokeh_server_id;\n    // Clean up Bokeh references\n    if (id != null && id in Bokeh.index) {\n      Bokeh.index[id].model.document.clear();\n      delete Bokeh.index[id];\n    }\n\n    if (server_id !== undefined) {\n      // Clean up Bokeh references\n      const cmd_clean = \"from bokeh.io.state import curstate; print(curstate().uuid_to_server['\" + server_id + \"'].get_sessions()[0].document.roots[0]._id)\";\n      cell.notebook.kernel.execute(cmd_clean, {\n        iopub: {\n          output: function(msg) {\n            const id = msg.content.text.trim();\n            if (id in Bokeh.index) {\n              Bokeh.index[id].model.document.clear();\n              delete Bokeh.index[id];\n            }\n          }\n        }\n      });\n      // Destroy server and session\n      const cmd_destroy = \"import bokeh.io.notebook as ion; ion.destroy_server('\" + server_id + \"')\";\n      cell.notebook.kernel.execute(cmd_destroy);\n    }\n  }\n\n  /**\n   * Handle when a new output is added\n   */\n  function handleAddOutput(event, handle) {\n    const output_area = handle.output_area;\n    const output = handle.output;\n\n    // limit handleAddOutput to display_data with EXEC_MIME_TYPE content only\n    if ((output.output_type != \"display_data\") || (!Object.prototype.hasOwnProperty.call(output.data, EXEC_MIME_TYPE))) {\n      return\n    }\n\n    const toinsert = output_area.element.find(\".\" + CLASS_NAME.split(' ')[0]);\n\n    if (output.metadata[EXEC_MIME_TYPE][\"id\"] !== undefined) {\n      toinsert[toinsert.length - 1].firstChild.textContent = output.data[JS_MIME_TYPE];\n      // store reference to embed id on output_area\n      output_area._bokeh_element_id = output.metadata[EXEC_MIME_TYPE][\"id\"];\n    }\n    if (output.metadata[EXEC_MIME_TYPE][\"server_id\"] !== undefined) {\n      const bk_div = document.createElement(\"div\");\n      bk_div.innerHTML = output.data[HTML_MIME_TYPE];\n      const script_attrs = bk_div.children[0].attributes;\n      for (let i = 0; i < script_attrs.length; i++) {\n        toinsert[toinsert.length - 1].firstChild.setAttribute(script_attrs[i].name, script_attrs[i].value);\n        toinsert[toinsert.length - 1].firstChild.textContent = bk_div.children[0].textContent\n      }\n      // store reference to server id on output_area\n      output_area._bokeh_server_id = output.metadata[EXEC_MIME_TYPE][\"server_id\"];\n    }\n  }\n\n  function register_renderer(events, OutputArea) {\n\n    function append_mime(data, metadata, element) {\n      // create a DOM node to render to\n      const toinsert = this.create_output_subarea(\n        metadata,\n        CLASS_NAME,\n        EXEC_MIME_TYPE\n      );\n      this.keyboard_manager.register_events(toinsert);\n      // Render to node\n      const props = {data: data, metadata: metadata[EXEC_MIME_TYPE]};\n      render(props, toinsert[toinsert.length - 1]);\n      element.append(toinsert);\n      return toinsert\n    }\n\n    /* Handle when an output is cleared or removed */\n    events.on('clear_output.CodeCell', handleClearOutput);\n    events.on('delete.Cell', handleClearOutput);\n\n    /* Handle when a new output is added */\n    events.on('output_added.OutputArea', handleAddOutput);\n\n    /**\n     * Register the mime type and append_mime function with output_area\n     */\n    OutputArea.prototype.register_mime_type(EXEC_MIME_TYPE, append_mime, {\n      /* Is output safe? */\n      safe: true,\n      /* Index of renderer in `output_area.display_order` */\n      index: 0\n    });\n  }\n\n  // register the mime type if in Jupyter Notebook environment and previously unregistered\n  if (root.Jupyter !== undefined) {\n    const events = require('base/js/events');\n    const OutputArea = require('notebook/js/outputarea').OutputArea;\n\n    if (OutputArea.prototype.mime_types().indexOf(EXEC_MIME_TYPE) == -1) {\n      register_renderer(events, OutputArea);\n    }\n  }\n  if (typeof (root._bokeh_timeout) === \"undefined\" || force === true) {\n    root._bokeh_timeout = Date.now() + 5000;\n    root._bokeh_failed_load = false;\n  }\n\n  const NB_LOAD_WARNING = {'data': {'text/html':\n     \"<div style='background-color: #fdd'>\\n\"+\n     \"<p>\\n\"+\n     \"BokehJS does not appear to have successfully loaded. If loading BokehJS from CDN, this \\n\"+\n     \"may be due to a slow or bad network connection. Possible fixes:\\n\"+\n     \"</p>\\n\"+\n     \"<ul>\\n\"+\n     \"<li>re-rerun `output_notebook()` to attempt to load from CDN again, or</li>\\n\"+\n     \"<li>use INLINE resources instead, as so:</li>\\n\"+\n     \"</ul>\\n\"+\n     \"<code>\\n\"+\n     \"from bokeh.resources import INLINE\\n\"+\n     \"output_notebook(resources=INLINE)\\n\"+\n     \"</code>\\n\"+\n     \"</div>\"}};\n\n  function display_loaded() {\n    const el = document.getElementById(\"d89be56f-ee1c-4d3e-af37-5f34fb713d36\");\n    if (el != null) {\n      el.textContent = \"BokehJS is loading...\";\n    }\n    if (root.Bokeh !== undefined) {\n      if (el != null) {\n        el.textContent = \"BokehJS \" + root.Bokeh.version + \" successfully loaded.\";\n      }\n    } else if (Date.now() < root._bokeh_timeout) {\n      setTimeout(display_loaded, 100)\n    }\n  }\n\n  function run_callbacks() {\n    try {\n      root._bokeh_onload_callbacks.forEach(function(callback) {\n        if (callback != null)\n          callback();\n      });\n    } finally {\n      delete root._bokeh_onload_callbacks\n    }\n    console.debug(\"Bokeh: all callbacks have finished\");\n  }\n\n  function load_libs(css_urls, js_urls, callback) {\n    if (css_urls == null) css_urls = [];\n    if (js_urls == null) js_urls = [];\n\n    root._bokeh_onload_callbacks.push(callback);\n    if (root._bokeh_is_loading > 0) {\n      console.debug(\"Bokeh: BokehJS is being loaded, scheduling callback at\", now());\n      return null;\n    }\n    if (js_urls == null || js_urls.length === 0) {\n      run_callbacks();\n      return null;\n    }\n    console.debug(\"Bokeh: BokehJS not loaded, scheduling load and callback at\", now());\n    root._bokeh_is_loading = css_urls.length + js_urls.length;\n\n    function on_load() {\n      root._bokeh_is_loading--;\n      if (root._bokeh_is_loading === 0) {\n        console.debug(\"Bokeh: all BokehJS libraries/stylesheets loaded\");\n        run_callbacks()\n      }\n    }\n\n    function on_error(url) {\n      console.error(\"failed to load \" + url);\n    }\n\n    for (let i = 0; i < css_urls.length; i++) {\n      const url = css_urls[i];\n      const element = document.createElement(\"link\");\n      element.onload = on_load;\n      element.onerror = on_error.bind(null, url);\n      element.rel = \"stylesheet\";\n      element.type = \"text/css\";\n      element.href = url;\n      console.debug(\"Bokeh: injecting link tag for BokehJS stylesheet: \", url);\n      document.body.appendChild(element);\n    }\n\n    for (let i = 0; i < js_urls.length; i++) {\n      const url = js_urls[i];\n      const element = document.createElement('script');\n      element.onload = on_load;\n      element.onerror = on_error.bind(null, url);\n      element.async = false;\n      element.src = url;\n      console.debug(\"Bokeh: injecting script tag for BokehJS library: \", url);\n      document.head.appendChild(element);\n    }\n  };\n\n  function inject_raw_css(css) {\n    const element = document.createElement(\"style\");\n    element.appendChild(document.createTextNode(css));\n    document.body.appendChild(element);\n  }\n\n  const js_urls = [\"https://cdn.bokeh.org/bokeh/release/bokeh-3.2.1.min.js\", \"https://cdn.bokeh.org/bokeh/release/bokeh-gl-3.2.1.min.js\", \"https://cdn.bokeh.org/bokeh/release/bokeh-widgets-3.2.1.min.js\", \"https://cdn.bokeh.org/bokeh/release/bokeh-tables-3.2.1.min.js\", \"https://cdn.bokeh.org/bokeh/release/bokeh-mathjax-3.2.1.min.js\"];\n  const css_urls = [];\n\n  const inline_js = [    function(Bokeh) {\n      Bokeh.set_log_level(\"info\");\n    },\nfunction(Bokeh) {\n    }\n  ];\n\n  function run_inline_js() {\n    if (root.Bokeh !== undefined || force === true) {\n          for (let i = 0; i < inline_js.length; i++) {\n      inline_js[i].call(root, root.Bokeh);\n    }\nif (force === true) {\n        display_loaded();\n      }} else if (Date.now() < root._bokeh_timeout) {\n      setTimeout(run_inline_js, 100);\n    } else if (!root._bokeh_failed_load) {\n      console.log(\"Bokeh: BokehJS failed to load within specified timeout.\");\n      root._bokeh_failed_load = true;\n    } else if (force !== true) {\n      const cell = $(document.getElementById(\"d89be56f-ee1c-4d3e-af37-5f34fb713d36\")).parents('.cell').data().cell;\n      cell.output_area.append_execute_result(NB_LOAD_WARNING)\n    }\n  }\n\n  if (root._bokeh_is_loading === 0) {\n    console.debug(\"Bokeh: BokehJS loaded, going straight to plotting\");\n    run_inline_js();\n  } else {\n    load_libs(css_urls, js_urls, function() {\n      console.debug(\"Bokeh: BokehJS plotting callback run at\", now());\n      run_inline_js();\n    });\n  }\n}(window));",
      "application/vnd.bokehjs_load.v0+json": ""
     },
     "metadata": {},
     "output_type": "display_data"
    }
   ],
   "source": [
    "import numpy as np\n",
    "from numba import njit, cfunc, types as nb_types\n",
    "from numpy import nan, isnan, inf\n",
    "import matplotlib.pyplot as plt\n",
    "import sympy as sp\n",
    "import math\n",
    "\n",
    "from bokeh.plotting import figure, output_notebook, show\n",
    "from bokeh.models import ColumnarDataSource, Span\n",
    "\n",
    "output_notebook()\n"
   ]
  },
  {
   "cell_type": "code",
   "execution_count": 24,
   "metadata": {},
   "outputs": [],
   "source": [
    "from importlib import reload\n",
    "import IntLib.IntLib\n",
    "import IntLib.AutoDiff\n",
    "\n",
    "reload(IntLib.IntLib)\n",
    "reload(IntLib.AutoDiff)\n",
    "\n",
    "from IntLib.GenFuncs import *\n",
    "\n",
    "from IntLib.IntLib import *\n",
    "from IntLib.IntLib import (\n",
    "    _pi_,\n",
    "    _e_,\n",
    "    _sqrt2_,\n",
    "    _has_zero,\n",
    "    _add,\n",
    "    _sub,\n",
    "    _mul,\n",
    "    _div_simple,\n",
    "    _div,\n",
    "    _sqrt,\n",
    "    _pow,\n",
    "    _exp,\n",
    "    _log,\n",
    "    _sin,\n",
    "    _cos,\n",
    ")\n",
    "\n",
    "from IntLib.AutoDiff import *\n",
    "from IntLib.AutoDiff import (_ensure_AD)\n",
    "\n",
    "\n",
    "I = Interval\n",
    "D = AutoDiff"
   ]
  },
  {
   "cell_type": "code",
   "execution_count": 25,
   "metadata": {},
   "outputs": [
    {
     "data": {
      "text/plain": [
       "[-∞, -₀.₀₀₀₀₀₀₀₀₀₀₀₀₀₀₀₀₀]∪[+1.₀₀₀₀₀₀₀₀₀₀₀₀₀₀₀₀₀, +∞]"
      ]
     },
     "execution_count": 25,
     "metadata": {},
     "output_type": "execute_result"
    }
   ],
   "source": [
    "I(-np.inf, 1) / I(1, np.inf)\n",
    "I(1, np.inf) / I(-np.inf, 1)"
   ]
  },
  {
   "cell_type": "code",
   "execution_count": 26,
   "metadata": {},
   "outputs": [
    {
     "data": {
      "text/plain": [
       "(((3.141592653589793, 3.141592653589794),\n",
       "  (2.718281828459045, 2.7182818284590455),\n",
       "  (1.414213562373095, 1.4142135623730951)),\n",
       " [False, True, False, True])"
      ]
     },
     "execution_count": 26,
     "metadata": {},
     "output_type": "execute_result"
    }
   ],
   "source": [
    "(    _pi_,\n",
    "    _e_,\n",
    "    _sqrt2_,\n",
    "), [_has_zero(a, b) for a, b in [(1, 2), (-1, 2), (1, -2), (-1, -2)]]"
   ]
  },
  {
   "cell_type": "code",
   "execution_count": 27,
   "metadata": {},
   "outputs": [
    {
     "data": {
      "text/plain": [
       "((1.0999999999999999, 1.1), (0.8999999999999999, 0.9))"
      ]
     },
     "execution_count": 27,
     "metadata": {},
     "output_type": "execute_result"
    }
   ],
   "source": [
    "(_add(0.1, 0.1, 1, 1), _sub(1, 1, 0.1, 0.1))"
   ]
  },
  {
   "cell_type": "code",
   "execution_count": 28,
   "metadata": {},
   "outputs": [
    {
     "data": {
      "text/plain": [
       "((0.1, 0.10000000000000009),\n",
       " (0.09999999999999999, 0.10000000000000009),\n",
       " (0.09999999999999999, 0.10000000000000009),\n",
       " (-inf, inf),\n",
       " (0.5, inf),\n",
       " (0.5, -1.0),\n",
       " (-inf, -1.0),\n",
       " (-inf, -1.0),\n",
       " (1.0, -1.0),\n",
       " (1.0, inf),\n",
       " (nan, nan))"
      ]
     },
     "execution_count": 28,
     "metadata": {},
     "output_type": "execute_result"
    }
   ],
   "source": [
    "(\n",
    "    _mul(0.1, 0.1, 1, 1),\n",
    "    _div_simple(1, 1, 10, 10),\n",
    "    _div(1, 1, 10, 10),\n",
    "    _div(-1, 1, -1, 1),\n",
    "    _div(-2, -1, -2, 0),\n",
    "    _div(-2, -1, -2, 1),\n",
    "    _div(-2, -1, 0, 1),\n",
    "    _div(1, 2, -1, 0),\n",
    "    _div(1, 2, -1, 1),\n",
    "    _div(1, 2, 0, 1),\n",
    "    _div(1,1,0,0),\n",
    ")"
   ]
  },
  {
   "cell_type": "code",
   "execution_count": 29,
   "metadata": {},
   "outputs": [
    {
     "data": {
      "text/plain": [
       "[-∞, -1.₀₀₀₀₀₀₀₀₀₀₀₀₀₀₀₀₀]∪[+9.₀₀₀₀₀₀₀₀₀₀₀₀₀₀₀₀₀, +∞]"
      ]
     },
     "execution_count": 29,
     "metadata": {},
     "output_type": "execute_result"
    }
   ],
   "source": [
    "# I(0, 10) & I(9, -1)\n",
    "I(9, -1)"
   ]
  },
  {
   "cell_type": "code",
   "execution_count": 30,
   "metadata": {},
   "outputs": [
    {
     "data": {
      "text/plain": [
       "('union',\n",
       " [+1.₀₀₀₀₀₀₀₀₀₀₀₀₀₀₀₀₀, +7.₀₀₀₀₀₀₀₀₀₀₀₀₀₀₀₀₀],\n",
       " [+3.₀₀₀₀₀₀₀₀₀₀₀₀₀₀₀₀₀, +4.₀₀₀₀₀₀₀₀₀₀₀₀₀₀₀₀₀],\n",
       " [+3.₀₀₀₀₀₀₀₀₀₀₀₀₀₀₀₀₀, +4.₀₀₀₀₀₀₀₀₀₀₀₀₀₀₀₀₀],\n",
       " ∅,\n",
       " 'intersection',\n",
       " [+2.₀₀₀₀₀₀₀₀₀₀₀₀₀₀₀₀₀, +4.₀₀₀₀₀₀₀₀₀₀₀₀₀₀₀₀₀],\n",
       " ∅,\n",
       " ∅,\n",
       " ∅,\n",
       " ∅,\n",
       " 'dist',\n",
       " 3)"
      ]
     },
     "execution_count": 30,
     "metadata": {},
     "output_type": "execute_result"
    }
   ],
   "source": [
    "(\n",
    "    \"union\",\n",
    "    I(1, 4) | I(2, 7),  # [1, 4] ∪ [2, 7] = [1, 7],\n",
    "    I() | I(3, 4),  # ∅ ∪ [3, 4] = [3, 4],\n",
    "    I(3, 4) | I(),\n",
    "    I() | I(),  # ∅ ∪ ∅ = ∅,\n",
    "    \"intersection\",\n",
    "    I(1, 4) & I(2, 7),  # [1, 4] ∩ [2, 7] = [2, 4],\n",
    "    I(1, 4) & I(5, 7),  # [1, 4] ∩ [5, 7] = ∅,\n",
    "    I(5, 7) & I(1, 4),  # [5, 7] ∩ [1, 4] = ∅,\n",
    "    I() & I(3, 4),  # ∅ ∩ [3, 4] = ∅,\n",
    "    I(3, 4) & I(),  # ∅ ∩ [3, 4] = ∅,\n",
    "    \"dist\",\n",
    "    I(3,4).dist(I(5,7)), #\n",
    ")\n"
   ]
  },
  {
   "cell_type": "code",
   "execution_count": 31,
   "metadata": {},
   "outputs": [
    {
     "data": {
      "text/plain": [
       "('in', True, True, True, 'is_inclusion', True, False, True, True, True, True)"
      ]
     },
     "execution_count": 31,
     "metadata": {},
     "output_type": "execute_result"
    }
   ],
   "source": [
    "(\n",
    "    \"in\",\n",
    "    3 in I(1, 4),  # 3 ∈ [1, 4] = True,\n",
    "    I(3) in I(1, 4),  # [3] ∈ [1, 4] = True,\n",
    "    3 in I(2.9, 3.), \n",
    "    \"is_inclusion\",\n",
    "    I(1,4).is_inclusion(3), # True\n",
    "    I(1,4).is_inclusion(4), # False\n",
    "    0 in I(-1,4), # True\n",
    "    0 in I(0), # True\n",
    "    I() in I(0), # True\n",
    "    I() in I(), # True\n",
    "\n",
    ")"
   ]
  },
  {
   "cell_type": "code",
   "execution_count": 32,
   "metadata": {},
   "outputs": [
    {
     "data": {
      "text/plain": [
       "(('plus',\n",
       "  [+₀.29999999999999999, +4.4₀₀₀₀₀₀₀₀₀₀₀₀₀₀36],\n",
       "  [+3.39999999999999947, +7.29999999999999982],\n",
       "  [+3.39999999999999947, +7.29999999999999982]),\n",
       " ('minus',\n",
       "  [+1.₀₀₀₀₀₀₀₀₀₀₀₀₀₀₀₀₀, +3.₀₀₀₀₀₀₀₀₀₀₀₀₀₀₀₀₀],\n",
       "  [-3.2₀₀₀₀₀₀₀₀₀₀₀₀₀₀18, +₀.7₀₀₀₀₀₀₀₀₀₀₀₀₀₀18],\n",
       "  [-₀.7₀₀₀₀₀₀₀₀₀₀₀₀₀₀18, +3.2₀₀₀₀₀₀₀₀₀₀₀₀₀₀18]),\n",
       " ('mult',\n",
       "  [+8.₀₀₀₀₀₀₀₀₀₀₀₀₀₀₀₀₀, +15.₀₀₀₀₀₀₀₀₀₀₀₀₀₀₀₀₀],\n",
       "  [+₀.32999999999999996, +13.19999999999999929],\n",
       "  [+₀.32999999999999996, +13.19999999999999929]),\n",
       " ('div',\n",
       "  [+1.33333333333333326, +2.5₀₀₀₀₀₀₀₀₀₀₀₀₀₀₀₀],\n",
       "  [+₀.₀3₀3₀3₀3₀3₀3₀3₀3₀, +1.21212121212121238],\n",
       "  [+₀.82499999999999996, +32.99999999999999289]),\n",
       " ('entended div',\n",
       "  [+₀.₀9999999999999999, +₀.1₀₀₀₀₀₀₀₀₀₀₀₀₀₀₀9],\n",
       "  [             -∞,              +∞],\n",
       "  [+₀.5₀₀₀₀₀₀₀₀₀₀₀₀₀₀₀₀,              +∞],\n",
       "  [-∞, -1.₀₀₀₀₀₀₀₀₀₀₀₀₀₀₀₀₀]∪[+₀.5₀₀₀₀₀₀₀₀₀₀₀₀₀₀₀₀, +∞],\n",
       "  [             -∞, -1.₀₀₀₀₀₀₀₀₀₀₀₀₀₀₀₀₀],\n",
       "  [             -∞, -1.₀₀₀₀₀₀₀₀₀₀₀₀₀₀₀₀₀],\n",
       "  [-∞, -1.₀₀₀₀₀₀₀₀₀₀₀₀₀₀₀₀₀]∪[+1.₀₀₀₀₀₀₀₀₀₀₀₀₀₀₀₀₀, +∞],\n",
       "  [+1.₀₀₀₀₀₀₀₀₀₀₀₀₀₀₀₀₀,              +∞],\n",
       "  ∅))"
      ]
     },
     "execution_count": 32,
     "metadata": {},
     "output_type": "execute_result"
    }
   ],
   "source": [
    "(\n",
    "    \"plus\",\n",
    "    I(0.1, 4) + I(0.2, 0.4),\n",
    "    I(0.1, 4) + 3.3,\n",
    "    3.3 + I(0.1, 4),\n",
    "), (\n",
    "    \"minus\",\n",
    "    I(4, 5) - I(2, 3),\n",
    "    I(0.1, 4) - 3.3,\n",
    "    3.3 - I(0.1, 4),\n",
    "), (\n",
    "    \"mult\",\n",
    "    I(4, 5) * I(2, 3),\n",
    "    I(0.1, 4) * 3.3,\n",
    "    3.3 * I(0.1, 4),\n",
    "), (\n",
    "    \"div\",\n",
    "    I(4, 5) / I(2, 3),\n",
    "    I(0.1, 4) / 3.3,\n",
    "    3.3 / I(0.1, 4),\n",
    "), (\n",
    "    \"entended div\",\n",
    "    I(1, 1)/I(10, 10),\n",
    "    I(-1, 1)/I( -1, 1),\n",
    "    I(-2, -1)/I( -2, 0),\n",
    "    I(-2, -1)/I( -2, 1),\n",
    "    I(-2, -1)/I( 0, 1),\n",
    "    I(1, 2)/I( -1, 0),\n",
    "    I(1, 2)/I( -1, 1),\n",
    "    I(1, 2)/I( 0, 1),\n",
    "    I(1,1)/I(0,0),\n",
    "\n",
    "\n",
    ")\n"
   ]
  },
  {
   "cell_type": "code",
   "execution_count": 33,
   "metadata": {},
   "outputs": [
    {
     "data": {
      "text/plain": [
       "(('le le ge ge', True, False, True, True, True, False, False, True),\n",
       " ('mag mig abs exp',\n",
       "  3,\n",
       "  0.0,\n",
       "  0.0,\n",
       "  [+₀.₀₀₀₀₀₀₀₀₀₀₀₀₀₀₀₀₀, +3.₀₀₀₀₀₀₀₀₀₀₀₀₀₀₀₀₀],\n",
       "  [+1.₀₀₀₀₀₀₀₀₀₀₀₀₀₀₀₀₀, +3.₀₀₀₀₀₀₀₀₀₀₀₀₀₀₀₀₀],\n",
       "  [+7.389₀56₀9893₀64952, +2₀.₀8553692318766792]),\n",
       " ('exp sqrt log atan pow ∅',\n",
       "  [+2.718281828459₀45₀9, +7.389₀56₀9893₀65₀41],\n",
       "  [+1.₀₀₀₀₀₀₀₀₀₀₀₀₀₀₀₀₀, +1.414213562373₀9515],\n",
       "  [-₀.₀₀₀₀₀₀₀₀₀₀₀₀₀₀₀₀₀, +₀.69314718₀5599454₀],\n",
       "  [+₀.78539816339744828, +1.1₀7148717794₀9₀63],\n",
       "  [+₀.₀₀₀₀₀₀₀₀₀₀₀₀₀₀₀₀₀, +9.₀₀₀₀₀₀₀₀₀₀₀₀₀₀₀₀₀],\n",
       "  ∅))"
      ]
     },
     "execution_count": 33,
     "metadata": {},
     "output_type": "execute_result"
    }
   ],
   "source": [
    "\n",
    "(\n",
    "    \"le le ge ge\",\n",
    "    I(-5, -4) <= I(2, 3),\n",
    "    I(4, 5) < I(2, 3),\n",
    "    I(4, 5) >= I(2, 3),\n",
    "    I(4, 5) > I(2, 3),\n",
    "    1 <= I(2, 3),\n",
    "    I(4, 5) < 2,\n",
    "    2 >= I(2, 3),\n",
    "    I(4, 5) > 3,\n",
    "\n",
    "), (\n",
    "    \"mag mig abs exp\",\n",
    "    mag(I(-2, 3)),\n",
    "    mig(I(-2, 3)),\n",
    "    mig(I(0, 1)),\n",
    "    abs(I(-2, 3)),\n",
    "    abs(I(1, 3)),\n",
    "    exp(I(2, 3)),\n",
    "), (\n",
    "    \"exp sqrt log atan pow ∅\",\n",
    "    exp(I(1, 2)),\n",
    "    sqrt(I(1, 2)),\n",
    "    log(I(1, 2)),\n",
    "    atan(I(1, 2)),\n",
    "    I(-2, 3) ** 2,\n",
    "    I(),\n",
    ")\n"
   ]
  },
  {
   "cell_type": "code",
   "execution_count": 34,
   "metadata": {},
   "outputs": [
    {
     "data": {
      "text/plain": [
       "([+₀.84147₀9848₀795635, +1.₀₀₀₀₀₀₀₀₀₀₀₀₀₀₀₀₀],\n",
       " [-₀.41614683654714268, +₀.54₀3₀23₀586813599])"
      ]
     },
     "execution_count": 34,
     "metadata": {},
     "output_type": "execute_result"
    }
   ],
   "source": [
    "sin(I(1, 2)), cos(I(1, 2))"
   ]
  },
  {
   "cell_type": "code",
   "execution_count": 35,
   "metadata": {},
   "outputs": [],
   "source": [
    "a, b, c = I(3, 4), I(2, 5), I(1)"
   ]
  },
  {
   "cell_type": "code",
   "execution_count": 36,
   "metadata": {},
   "outputs": [
    {
     "data": {
      "text/plain": [
       "([+3.₀₀₀₀₀₀₀₀₀₀₀₀₀₀₀₀₀, +4.₀₀₀₀₀₀₀₀₀₀₀₀₀₀₀₀₀],\n",
       " [+2.₀₀₀₀₀₀₀₀₀₀₀₀₀₀₀₀₀, +5.₀₀₀₀₀₀₀₀₀₀₀₀₀₀₀₀₀],\n",
       " [+1.₀₀₀₀₀₀₀₀₀₀₀₀₀₀₀₀₀, +1.₀₀₀₀₀₀₀₀₀₀₀₀₀₀₀₀₀])"
      ]
     },
     "execution_count": 36,
     "metadata": {},
     "output_type": "execute_result"
    }
   ],
   "source": [
    "a, b, c"
   ]
  },
  {
   "cell_type": "code",
   "execution_count": 37,
   "metadata": {},
   "outputs": [
    {
     "data": {
      "text/plain": [
       "([+5.₀₀₀₀₀₀₀₀₀₀₀₀₀₀₀₀₀, +9.₀₀₀₀₀₀₀₀₀₀₀₀₀₀₀₀₀],\n",
       " [-2.₀₀₀₀₀₀₀₀₀₀₀₀₀₀₀₀₀, +2.₀₀₀₀₀₀₀₀₀₀₀₀₀₀₀₀₀],\n",
       " [+6.₀₀₀₀₀₀₀₀₀₀₀₀₀₀₀₀₀, +2₀.₀₀₀₀₀₀₀₀₀₀₀₀₀₀₀₀₀],\n",
       " [+₀.59999999999999998, +2.₀₀₀₀₀₀₀₀₀₀₀₀₀₀₀₀₀])"
      ]
     },
     "execution_count": 37,
     "metadata": {},
     "output_type": "execute_result"
    }
   ],
   "source": [
    "(\n",
    "    a + b,\n",
    "    a - b,\n",
    "    a * b,\n",
    "    a / b,\n",
    ")"
   ]
  },
  {
   "cell_type": "code",
   "execution_count": 38,
   "metadata": {},
   "outputs": [
    {
     "data": {
      "text/plain": [
       "[+₀.₀9999999999999999, +₀.1₀₀₀₀₀₀₀₀₀₀₀₀₀₀₀9]"
      ]
     },
     "execution_count": 38,
     "metadata": {},
     "output_type": "execute_result"
    }
   ],
   "source": [
    "I(1) / 10"
   ]
  },
  {
   "cell_type": "code",
   "execution_count": 39,
   "metadata": {},
   "outputs": [],
   "source": [
    "c = I(0.25, 0.5)\n"
   ]
  },
  {
   "cell_type": "code",
   "execution_count": 40,
   "metadata": {},
   "outputs": [
    {
     "data": {
      "text/plain": [
       "([+6.75₀₀₀₀₀₀₀₀₀₀₀₀₀₀₀, +22.₀₀₀₀₀₀₀₀₀₀₀₀₀₀₀₀₀],\n",
       " [+6.75₀₀₀₀₀₀₀₀₀₀₀₀₀₀₀, +22.₀₀₀₀₀₀₀₀₀₀₀₀₀₀₀₀₀])"
      ]
     },
     "execution_count": 40,
     "metadata": {},
     "output_type": "execute_result"
    }
   ],
   "source": [
    "(\n",
    "    a * (b + c),\n",
    "    a * b + a * c,\n",
    ")"
   ]
  },
  {
   "cell_type": "code",
   "execution_count": 41,
   "metadata": {},
   "outputs": [
    {
     "data": {
      "text/plain": [
       "([+3.₀₀₀₀₀₀₀₀₀₀₀₀₀₀₀₀₀, +4.₀₀₀₀₀₀₀₀₀₀₀₀₀₀₀₀₀],\n",
       " [+2.₀₀₀₀₀₀₀₀₀₀₀₀₀₀₀₀₀, +5.₀₀₀₀₀₀₀₀₀₀₀₀₀₀₀₀₀],\n",
       " [+₀.25₀₀₀₀₀₀₀₀₀₀₀₀₀₀₀, +₀.5₀₀₀₀₀₀₀₀₀₀₀₀₀₀₀₀])"
      ]
     },
     "execution_count": 41,
     "metadata": {},
     "output_type": "execute_result"
    }
   ],
   "source": [
    "a, b, c"
   ]
  },
  {
   "cell_type": "code",
   "execution_count": 42,
   "metadata": {},
   "outputs": [
    {
     "data": {
      "text/plain": [
       "([+3.₀₀₀₀₀₀₀₀₀₀₀₀₀₀₀₀₀, +4.₀₀₀₀₀₀₀₀₀₀₀₀₀₀₀₀₀],\n",
       " [+2.₀₀₀₀₀₀₀₀₀₀₀₀₀₀₀₀₀, +5.₀₀₀₀₀₀₀₀₀₀₀₀₀₀₀₀₀],\n",
       " [+₀.25₀₀₀₀₀₀₀₀₀₀₀₀₀₀₀, +₀.5₀₀₀₀₀₀₀₀₀₀₀₀₀₀₀₀],\n",
       " '',\n",
       " [+2.25₀₀₀₀₀₀₀₀₀₀₀₀₀₀₀, +5.5₀₀₀₀₀₀₀₀₀₀₀₀₀₀₀₀],\n",
       " [+6.75₀₀₀₀₀₀₀₀₀₀₀₀₀₀₀, +22.₀₀₀₀₀₀₀₀₀₀₀₀₀₀₀₀₀])"
      ]
     },
     "execution_count": 42,
     "metadata": {},
     "output_type": "execute_result"
    }
   ],
   "source": [
    "(\n",
    "    a,\n",
    "    b,\n",
    "    c,\n",
    "    \"\",\n",
    "    b + c,\n",
    "    a * (b + c),\n",
    ")"
   ]
  },
  {
   "cell_type": "code",
   "execution_count": 43,
   "metadata": {},
   "outputs": [
    {
     "data": {
      "text/plain": [
       "([+3.₀₀₀₀₀₀₀₀₀₀₀₀₀₀₀₀₀, +4.₀₀₀₀₀₀₀₀₀₀₀₀₀₀₀₀₀],\n",
       " [+2.₀₀₀₀₀₀₀₀₀₀₀₀₀₀₀₀₀, +5.₀₀₀₀₀₀₀₀₀₀₀₀₀₀₀₀₀],\n",
       " [+₀.25₀₀₀₀₀₀₀₀₀₀₀₀₀₀₀, +₀.5₀₀₀₀₀₀₀₀₀₀₀₀₀₀₀₀],\n",
       " '',\n",
       " [+6.₀₀₀₀₀₀₀₀₀₀₀₀₀₀₀₀₀, +2₀.₀₀₀₀₀₀₀₀₀₀₀₀₀₀₀₀₀],\n",
       " [+₀.75₀₀₀₀₀₀₀₀₀₀₀₀₀₀₀, +2.₀₀₀₀₀₀₀₀₀₀₀₀₀₀₀₀₀],\n",
       " '',\n",
       " [+6.75₀₀₀₀₀₀₀₀₀₀₀₀₀₀₀, +22.₀₀₀₀₀₀₀₀₀₀₀₀₀₀₀₀₀])"
      ]
     },
     "execution_count": 43,
     "metadata": {},
     "output_type": "execute_result"
    }
   ],
   "source": [
    "(\n",
    "    a,\n",
    "    b,\n",
    "    c,\n",
    "    \"\",\n",
    "    a * b,\n",
    "    a * c,\n",
    "    \"\",\n",
    "    a * b + a * c,\n",
    ")"
   ]
  },
  {
   "cell_type": "code",
   "execution_count": 44,
   "metadata": {},
   "outputs": [
    {
     "data": {
      "text/plain": [
       "(False, False, True, True, False, True, False, False)"
      ]
     },
     "execution_count": 44,
     "metadata": {},
     "output_type": "execute_result"
    }
   ],
   "source": [
    "a, b, c = I(1, 10), I(-2, 3), I(3, 5)\n",
    "(a == b, a == c, a != b, a != c, a <= b, b <= a, a < c, c < a)"
   ]
  },
  {
   "cell_type": "code",
   "execution_count": 45,
   "metadata": {},
   "outputs": [
    {
     "data": {
      "text/plain": [
       "(∅,\n",
       " [+2.₀₀₀₀₀₀₀₀₀₀₀₀₀₀₀₀₀, +3.₀₀₀₀₀₀₀₀₀₀₀₀₀₀₀₀₀],\n",
       " True,\n",
       " False,\n",
       " [+1.₀₀₀₀₀₀₀₀₀₀₀₀₀₀₀₀₀, +5.₀₀₀₀₀₀₀₀₀₀₀₀₀₀₀₀₀],\n",
       " [+1.₀₀₀₀₀₀₀₀₀₀₀₀₀₀₀₀₀, +5.₀₀₀₀₀₀₀₀₀₀₀₀₀₀₀₀₀])"
      ]
     },
     "execution_count": 45,
     "metadata": {},
     "output_type": "execute_result"
    }
   ],
   "source": [
    "a, b, c = I(1, 3), I(4, 5), I(2, 5)\n",
    "(\n",
    "    a & b,\n",
    "    a & c,\n",
    "    (a & b).isempty,\n",
    "    (a & c).isempty,\n",
    "    a | b,\n",
    "    a | c,\n",
    ")"
   ]
  },
  {
   "cell_type": "markdown",
   "metadata": {},
   "source": [
    "# TODO\n",
    "- tests\n",
    "- deal with empty set\n",
    "- extened division ?\n",
    "- numpy arrays..."
   ]
  },
  {
   "cell_type": "code",
   "execution_count": 46,
   "metadata": {},
   "outputs": [
    {
     "name": "stdout",
     "output_type": "stream",
     "text": [
      "[0.1 0.1]\n",
      "[0.09999999 0.09999999]\n",
      "[0.1 0.1]\n"
     ]
    },
    {
     "data": {
      "text/plain": [
       "0"
      ]
     },
     "execution_count": 46,
     "metadata": {},
     "output_type": "execute_result"
    }
   ],
   "source": [
    "a = np.array([1, 1], dtype=np.float32)\n",
    "b = np.array([10, 10], dtype=np.float32)\n",
    "c = np.array([0, 0], dtype=np.float32)\n",
    "print(a/b)\n",
    "round_down()\n",
    "print(a/b)\n",
    "round_up()\n",
    "print(a/b)\n",
    "round_nearest()\n"
   ]
  },
  {
   "cell_type": "code",
   "execution_count": 47,
   "metadata": {},
   "outputs": [],
   "source": [
    "f1 = lambda x: 1 - x**2\n",
    "f2 = lambda x: 1 - x * x\n",
    "f3 = lambda x: (1 - x) * (1 + x)"
   ]
  },
  {
   "cell_type": "code",
   "execution_count": 48,
   "metadata": {},
   "outputs": [
    {
     "data": {
      "text/plain": [
       "([-₀.₀₀₀₀₀₀₀₀₀₀₀₀₀₀₀₀₀, +1.₀₀₀₀₀₀₀₀₀₀₀₀₀₀₀₀₀],\n",
       " [-₀.₀₀₀₀₀₀₀₀₀₀₀₀₀₀₀₀₀, +2.₀₀₀₀₀₀₀₀₀₀₀₀₀₀₀₀₀],\n",
       " [+₀.₀₀₀₀₀₀₀₀₀₀₀₀₀₀₀₀₀, +4.₀₀₀₀₀₀₀₀₀₀₀₀₀₀₀₀₀])"
      ]
     },
     "execution_count": 48,
     "metadata": {},
     "output_type": "execute_result"
    }
   ],
   "source": [
    "(\n",
    "    f1(I(-1, 1)),\n",
    "    f2(I(-1, 1)),\n",
    "    f3(I(-1, 1)),\n",
    ")"
   ]
  },
  {
   "cell_type": "code",
   "execution_count": 49,
   "metadata": {},
   "outputs": [
    {
     "data": {
      "text/plain": [
       "[+2.718281828459₀45₀9, +2.718281828459₀4553]"
      ]
     },
     "execution_count": 49,
     "metadata": {},
     "output_type": "execute_result"
    }
   ],
   "source": [
    "exp(I(1))"
   ]
  },
  {
   "cell_type": "code",
   "execution_count": 50,
   "metadata": {},
   "outputs": [
    {
     "data": {
      "text/plain": [
       "[+1.414213562373₀9492, +1.414213562373₀9515]"
      ]
     },
     "execution_count": 50,
     "metadata": {},
     "output_type": "execute_result"
    }
   ],
   "source": [
    "sqrt(I(2))"
   ]
  },
  {
   "cell_type": "code",
   "execution_count": 51,
   "metadata": {},
   "outputs": [
    {
     "data": {
      "text/plain": [
       "[+₀.₀9999999999999999, +₀.1₀₀₀₀₀₀₀₀₀₀₀₀₀₀₀9]"
      ]
     },
     "execution_count": 51,
     "metadata": {},
     "output_type": "execute_result"
    }
   ],
   "source": [
    "1/I(10)"
   ]
  },
  {
   "cell_type": "code",
   "execution_count": 52,
   "metadata": {},
   "outputs": [],
   "source": [
    "def f(x):\n",
    "    return x /(1+x**2)"
   ]
  },
  {
   "cell_type": "code",
   "execution_count": 53,
   "metadata": {},
   "outputs": [
    {
     "data": {
      "text/plain": [
       "[+₀.19999999999999998, +1.₀₀₀₀₀₀₀₀₀₀₀₀₀₀₀₀₀]"
      ]
     },
     "execution_count": 53,
     "metadata": {},
     "output_type": "execute_result"
    }
   ],
   "source": [
    "f(I(1,2))"
   ]
  },
  {
   "cell_type": "code",
   "execution_count": 54,
   "metadata": {},
   "outputs": [
    {
     "data": {
      "text/plain": [
       "[-₀.₀₀₀₀₀₀₀₀₀₀₀₀₀₀₀₀₀, +1.₀₀₀₀₀₀₀₀₀₀₀₀₀₀₀₀₀]"
      ]
     },
     "execution_count": 54,
     "metadata": {},
     "output_type": "execute_result"
    }
   ],
   "source": [
    "1-I(-1,1)**2"
   ]
  },
  {
   "cell_type": "code",
   "execution_count": 55,
   "metadata": {},
   "outputs": [
    {
     "data": {
      "text/plain": [
       "[-₀.₀₀₀₀₀₀₀₀₀₀₀₀₀₀₀₀₀, +2.₀₀₀₀₀₀₀₀₀₀₀₀₀₀₀₀₀]"
      ]
     },
     "execution_count": 55,
     "metadata": {},
     "output_type": "execute_result"
    }
   ],
   "source": [
    "1-I(-1,1)*I(-1,1)"
   ]
  },
  {
   "cell_type": "code",
   "execution_count": 56,
   "metadata": {},
   "outputs": [
    {
     "data": {
      "text/plain": [
       "[+₀.₀₀₀₀₀₀₀₀₀₀₀₀₀₀₀₀₀, +4.₀₀₀₀₀₀₀₀₀₀₀₀₀₀₀₀₀]"
      ]
     },
     "execution_count": 56,
     "metadata": {},
     "output_type": "execute_result"
    }
   ],
   "source": [
    "(1-I(-1,1))*(1+I(-1,1))"
   ]
  },
  {
   "cell_type": "code",
   "execution_count": 57,
   "metadata": {},
   "outputs": [
    {
     "data": {
      "text/plain": [
       "[             -∞,              +∞]"
      ]
     },
     "execution_count": 57,
     "metadata": {},
     "output_type": "execute_result"
    }
   ],
   "source": [
    "def F(x):\n",
    "    pi = I(*_pi_)\n",
    "    return (x * pi).sin() / x\n",
    "\n",
    "F(I(-1,1))"
   ]
  },
  {
   "cell_type": "code",
   "execution_count": 58,
   "metadata": {},
   "outputs": [
    {
     "data": {
      "text/plain": [
       "[+₀.65818692141777924, +1.4794255386₀42₀3₀1]"
      ]
     },
     "execution_count": 58,
     "metadata": {},
     "output_type": "execute_result"
    }
   ],
   "source": [
    "def F(x):\n",
    "    return (sin(x)-x**2+1)*cos(x)\n",
    "\n",
    "F(I(0,0.5))"
   ]
  },
  {
   "cell_type": "code",
   "execution_count": 59,
   "metadata": {},
   "outputs": [
    {
     "name": "stdout",
     "output_type": "stream",
     "text": [
      "NotImplementedError: extended sqrt\n"
     ]
    }
   ],
   "source": [
    "def F(x):\n",
    "    return sqrt(x+sin(2*x))\n",
    "\n",
    "try:\n",
    "    F(I(0,2))\n",
    "except NotImplementedError as e:\n",
    "    print(f\"NotImplementedError: {e}\")"
   ]
  },
  {
   "cell_type": "code",
   "execution_count": 60,
   "metadata": {},
   "outputs": [
    {
     "data": {
      "text/plain": [
       "([+₀.₀₀₀₀₀₀₀₀₀₀₀₀₀₀₀₀₀, +1.414213562373₀9515],\n",
       " [+₀.49315₀59₀27853819, +1.7₀566627₀64783161])"
      ]
     },
     "execution_count": 60,
     "metadata": {},
     "output_type": "execute_result"
    }
   ],
   "source": [
    "F(I(0,1)), F(I(1,2))"
   ]
  },
  {
   "cell_type": "code",
   "execution_count": 61,
   "metadata": {},
   "outputs": [
    {
     "data": {
      "text/plain": [
       "[+₀.₀₀₀₀₀₀₀₀₀₀₀₀₀₀₀₀₀, +1.7₀566627₀64783161]"
      ]
     },
     "execution_count": 61,
     "metadata": {},
     "output_type": "execute_result"
    }
   ],
   "source": [
    "F(I(0,1)) | F(I(1,2))"
   ]
  },
  {
   "cell_type": "code",
   "execution_count": 62,
   "metadata": {},
   "outputs": [
    {
     "data": {
      "text/html": [
       "\n",
       "  <div id=\"b054ff17-5a55-4c61-8349-b4eb694f5bdd\" data-root-id=\"p1001\" style=\"display: contents;\"></div>\n"
      ]
     },
     "metadata": {},
     "output_type": "display_data"
    },
    {
     "data": {
      "application/javascript": "(function(root) {\n  function embed_document(root) {\n  const docs_json = {\"0643edb6-4090-4c53-8c63-e3e5e5f09060\":{\"version\":\"3.2.1\",\"title\":\"Bokeh Application\",\"roots\":[{\"type\":\"object\",\"name\":\"Figure\",\"id\":\"p1001\",\"attributes\":{\"width\":800,\"height\":400,\"x_range\":{\"type\":\"object\",\"name\":\"DataRange1d\",\"id\":\"p1002\"},\"y_range\":{\"type\":\"object\",\"name\":\"DataRange1d\",\"id\":\"p1003\"},\"x_scale\":{\"type\":\"object\",\"name\":\"LinearScale\",\"id\":\"p1010\"},\"y_scale\":{\"type\":\"object\",\"name\":\"LinearScale\",\"id\":\"p1011\"},\"title\":{\"type\":\"object\",\"name\":\"Title\",\"id\":\"p1008\"},\"renderers\":[{\"type\":\"object\",\"name\":\"GlyphRenderer\",\"id\":\"p1035\",\"attributes\":{\"data_source\":{\"type\":\"object\",\"name\":\"ColumnDataSource\",\"id\":\"p1029\",\"attributes\":{\"selected\":{\"type\":\"object\",\"name\":\"Selection\",\"id\":\"p1030\",\"attributes\":{\"indices\":[],\"line_indices\":[]}},\"selection_policy\":{\"type\":\"object\",\"name\":\"UnionRenderers\",\"id\":\"p1031\"},\"data\":{\"type\":\"map\",\"entries\":[[\"x\",{\"type\":\"ndarray\",\"array\":{\"type\":\"bytes\",\"data\":\"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\"},\"shape\":[1000],\"dtype\":\"float64\",\"order\":\"little\"}],[\"y\",{\"type\":\"ndarray\",\"array\":{\"type\":\"bytes\",\"data\":\"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\"},\"shape\":[1000],\"dtype\":\"float64\",\"order\":\"little\"}]]}}},\"view\":{\"type\":\"object\",\"name\":\"CDSView\",\"id\":\"p1036\",\"attributes\":{\"filter\":{\"type\":\"object\",\"name\":\"AllIndices\",\"id\":\"p1037\"}}},\"glyph\":{\"type\":\"object\",\"name\":\"Line\",\"id\":\"p1032\",\"attributes\":{\"x\":{\"type\":\"field\",\"field\":\"x\"},\"y\":{\"type\":\"field\",\"field\":\"y\"},\"line_color\":\"#1f77b4\"}},\"nonselection_glyph\":{\"type\":\"object\",\"name\":\"Line\",\"id\":\"p1033\",\"attributes\":{\"x\":{\"type\":\"field\",\"field\":\"x\"},\"y\":{\"type\":\"field\",\"field\":\"y\"},\"line_color\":\"#1f77b4\",\"line_alpha\":0.1}},\"muted_glyph\":{\"type\":\"object\",\"name\":\"Line\",\"id\":\"p1034\",\"attributes\":{\"x\":{\"type\":\"field\",\"field\":\"x\"},\"y\":{\"type\":\"field\",\"field\":\"y\"},\"line_color\":\"#1f77b4\",\"line_alpha\":0.2}}}}],\"toolbar\":{\"type\":\"object\",\"name\":\"Toolbar\",\"id\":\"p1009\",\"attributes\":{\"tools\":[{\"type\":\"object\",\"name\":\"PanTool\",\"id\":\"p1022\"},{\"type\":\"object\",\"name\":\"WheelZoomTool\",\"id\":\"p1023\"},{\"type\":\"object\",\"name\":\"BoxZoomTool\",\"id\":\"p1024\",\"attributes\":{\"overlay\":{\"type\":\"object\",\"name\":\"BoxAnnotation\",\"id\":\"p1025\",\"attributes\":{\"syncable\":false,\"level\":\"overlay\",\"visible\":false,\"left_units\":\"canvas\",\"right_units\":\"canvas\",\"bottom_units\":\"canvas\",\"top_units\":\"canvas\",\"line_color\":\"black\",\"line_alpha\":1.0,\"line_width\":2,\"line_dash\":[4,4],\"fill_color\":\"lightgrey\",\"fill_alpha\":0.5}}}},{\"type\":\"object\",\"name\":\"SaveTool\",\"id\":\"p1026\"},{\"type\":\"object\",\"name\":\"ResetTool\",\"id\":\"p1027\"},{\"type\":\"object\",\"name\":\"HelpTool\",\"id\":\"p1028\"}]}},\"left\":[{\"type\":\"object\",\"name\":\"LinearAxis\",\"id\":\"p1017\",\"attributes\":{\"ticker\":{\"type\":\"object\",\"name\":\"BasicTicker\",\"id\":\"p1018\",\"attributes\":{\"mantissas\":[1,2,5]}},\"formatter\":{\"type\":\"object\",\"name\":\"BasicTickFormatter\",\"id\":\"p1019\"},\"major_label_policy\":{\"type\":\"object\",\"name\":\"AllLabels\",\"id\":\"p1020\"}}}],\"below\":[{\"type\":\"object\",\"name\":\"LinearAxis\",\"id\":\"p1012\",\"attributes\":{\"ticker\":{\"type\":\"object\",\"name\":\"BasicTicker\",\"id\":\"p1013\",\"attributes\":{\"mantissas\":[1,2,5]}},\"formatter\":{\"type\":\"object\",\"name\":\"BasicTickFormatter\",\"id\":\"p1014\"},\"major_label_policy\":{\"type\":\"object\",\"name\":\"AllLabels\",\"id\":\"p1015\"}}}],\"center\":[{\"type\":\"object\",\"name\":\"Grid\",\"id\":\"p1016\",\"attributes\":{\"axis\":{\"id\":\"p1012\"}}},{\"type\":\"object\",\"name\":\"Grid\",\"id\":\"p1021\",\"attributes\":{\"dimension\":1,\"axis\":{\"id\":\"p1017\"}}}]}}]}};\n  const render_items = [{\"docid\":\"0643edb6-4090-4c53-8c63-e3e5e5f09060\",\"roots\":{\"p1001\":\"b054ff17-5a55-4c61-8349-b4eb694f5bdd\"},\"root_ids\":[\"p1001\"]}];\n  root.Bokeh.embed.embed_items_notebook(docs_json, render_items);\n  }\n  if (root.Bokeh !== undefined) {\n    embed_document(root);\n  } else {\n    let attempts = 0;\n    const timer = setInterval(function(root) {\n      if (root.Bokeh !== undefined) {\n        clearInterval(timer);\n        embed_document(root);\n      } else {\n        attempts++;\n        if (attempts > 100) {\n          clearInterval(timer);\n          console.log(\"Bokeh: ERROR: Unable to run BokehJS code because BokehJS library is missing\");\n        }\n      }\n    }, 10, root)\n  }\n})(window);",
      "application/vnd.bokehjs_exec.v0+json": ""
     },
     "metadata": {
      "application/vnd.bokehjs_exec.v0+json": {
       "id": "p1001"
      }
     },
     "output_type": "display_data"
    }
   ],
   "source": [
    "x = np.linspace(-5, 5, 1000)\n",
    "\n",
    "f = lambda x: cos(x) ** 3 + sin(x)\n",
    "\n",
    "\n",
    "fig = figure(width=800, height=400)\n",
    "fig.line(x, f(x))\n",
    "show(fig)"
   ]
  },
  {
   "cell_type": "markdown",
   "metadata": {},
   "source": [
    "# AD"
   ]
  },
  {
   "cell_type": "markdown",
   "metadata": {},
   "source": [
    "$$ \\vec{u} = (u,u') $$\n",
    "\n",
    "$$ \\vec{u} + \\vec{v} = (u+v, u'+v') $$\n",
    "$$ \\vec{u} - \\vec{v} = (u-v, u'-v') $$\n",
    "$$ \\vec{u} × \\vec{v} = (uv, uv'+u'v) $$\n",
    "$$ \\vec{u} ÷ \\vec{v} = (u/v, (u'v-uv')/v^2) = (u/v, (u'-(u/v)v')/v), v ≠ 0 \\tag{4.2}$$"
   ]
  },
  {
   "cell_type": "markdown",
   "metadata": {},
   "source": [
    "$$ \\vec{x} = (x, 1) $$\n",
    "$$ \\vec{c} = (c, 0) \\tag{4.3} $$"
   ]
  },
  {
   "cell_type": "code",
   "execution_count": null,
   "metadata": {},
   "outputs": [],
   "source": []
  },
  {
   "cell_type": "code",
   "execution_count": 63,
   "metadata": {},
   "outputs": [
    {
     "data": {
      "text/plain": [
       "False"
      ]
     },
     "execution_count": 63,
     "metadata": {},
     "output_type": "execute_result"
    }
   ],
   "source": [
    "f(D(3, 1)) == D(2/3, 13/18)"
   ]
  },
  {
   "cell_type": "code",
   "execution_count": 64,
   "metadata": {},
   "outputs": [
    {
     "data": {
      "text/plain": [
       "dual(4, 5)"
      ]
     },
     "execution_count": 64,
     "metadata": {},
     "output_type": "execute_result"
    }
   ],
   "source": [
    "(D(3,1) + D(1,0))*(D(3,1) -D(2,0))"
   ]
  },
  {
   "cell_type": "code",
   "execution_count": 65,
   "metadata": {},
   "outputs": [
    {
     "data": {
      "text/plain": [
       "(dual(₀.6666666666666666, ₀.7222222222222222),\n",
       " dual(₀.6666666666666665, ₀.7222222222222222))"
      ]
     },
     "execution_count": 65,
     "metadata": {},
     "output_type": "execute_result"
    }
   ],
   "source": [
    "def f1(x):\n",
    "    return (x+1)*(x-2)/(x+3)\n",
    "\n",
    "def f2(x):\n",
    "    return x-(4*x+2)/(x+3)\n",
    "\n",
    "f1(D(3,1)), f2(D(3,1))\n"
   ]
  },
  {
   "cell_type": "markdown",
   "metadata": {},
   "source": [
    "# Taylor Series expansion with Intervals..."
   ]
  },
  {
   "cell_type": "code",
   "execution_count": null,
   "metadata": {},
   "outputs": [],
   "source": []
  },
  {
   "cell_type": "markdown",
   "metadata": {},
   "source": [
    "# Bisect method for root finding"
   ]
  },
  {
   "cell_type": "code",
   "execution_count": 66,
   "metadata": {},
   "outputs": [
    {
     "data": {
      "text/plain": [
       "(83,\n",
       " [[-9.53125₀₀₀₀₀₀₀₀₀₀₀₀, -9.375₀₀₀₀₀₀₀₀₀₀₀₀₀₀],\n",
       "  [-6.4₀625₀₀₀₀₀₀₀₀₀₀₀₀, -6.25₀₀₀₀₀₀₀₀₀₀₀₀₀₀₀],\n",
       "  [-3.28125₀₀₀₀₀₀₀₀₀₀₀₀, -3.125₀₀₀₀₀₀₀₀₀₀₀₀₀₀],\n",
       "  [-₀.15625₀₀₀₀₀₀₀₀₀₀₀₀, +₀.₀₀₀₀₀₀₀₀₀₀₀₀₀₀₀₀₀],\n",
       "  [+₀.₀₀₀₀₀₀₀₀₀₀₀₀₀₀₀₀₀, +₀.15625₀₀₀₀₀₀₀₀₀₀₀₀],\n",
       "  [+₀.625₀₀₀₀₀₀₀₀₀₀₀₀₀₀, +₀.78125₀₀₀₀₀₀₀₀₀₀₀₀],\n",
       "  [+3.125₀₀₀₀₀₀₀₀₀₀₀₀₀₀, +3.28125₀₀₀₀₀₀₀₀₀₀₀₀],\n",
       "  [+6.25₀₀₀₀₀₀₀₀₀₀₀₀₀₀₀, +6.4₀625₀₀₀₀₀₀₀₀₀₀₀₀],\n",
       "  [+9.375₀₀₀₀₀₀₀₀₀₀₀₀₀₀, +9.53125₀₀₀₀₀₀₀₀₀₀₀₀]],\n",
       " 9)"
      ]
     },
     "execution_count": 66,
     "metadata": {},
     "output_type": "execute_result"
    }
   ],
   "source": [
    "roots = []\n",
    "icount = 0\n",
    "\n",
    "\n",
    "def bisect(f, x: Interval, tol):\n",
    "    global roots, icount\n",
    "    icount += 1\n",
    "    if f(x).has_zero:\n",
    "        diam = x.rad * 2\n",
    "        if diam < tol:\n",
    "            roots.append(x)\n",
    "        else:\n",
    "            _x, x_ = x\n",
    "            m = x.mid\n",
    "            bisect(f, I(_x, m), tol)\n",
    "            bisect(f, I(m, x_), tol)\n",
    "\n",
    "\n",
    "def f(x):\n",
    "    return sin(x) * (x - cos(x))\n",
    "\n",
    "\n",
    "bisect(f, I(-10, 10), 0.2)\n",
    "icount, roots, len(roots)"
   ]
  },
  {
   "cell_type": "code",
   "execution_count": 67,
   "metadata": {},
   "outputs": [
    {
     "data": {
      "text/html": [
       "\n",
       "  <div id=\"a68a3453-e705-4a1a-9d2a-f3945dd06915\" data-root-id=\"p1040\" style=\"display: contents;\"></div>\n"
      ]
     },
     "metadata": {},
     "output_type": "display_data"
    },
    {
     "data": {
      "application/javascript": "(function(root) {\n  function embed_document(root) {\n  const docs_json = {\"9365b657-5619-4cde-b63b-00c85d213ed2\":{\"version\":\"3.2.1\",\"title\":\"Bokeh Application\",\"roots\":[{\"type\":\"object\",\"name\":\"Figure\",\"id\":\"p1040\",\"attributes\":{\"width\":800,\"height\":400,\"x_range\":{\"type\":\"object\",\"name\":\"DataRange1d\",\"id\":\"p1041\"},\"y_range\":{\"type\":\"object\",\"name\":\"DataRange1d\",\"id\":\"p1042\"},\"x_scale\":{\"type\":\"object\",\"name\":\"LinearScale\",\"id\":\"p1049\"},\"y_scale\":{\"type\":\"object\",\"name\":\"LinearScale\",\"id\":\"p1050\"},\"title\":{\"type\":\"object\",\"name\":\"Title\",\"id\":\"p1047\"},\"renderers\":[{\"type\":\"object\",\"name\":\"GlyphRenderer\",\"id\":\"p1074\",\"attributes\":{\"data_source\":{\"type\":\"object\",\"name\":\"ColumnDataSource\",\"id\":\"p1068\",\"attributes\":{\"selected\":{\"type\":\"object\",\"name\":\"Selection\",\"id\":\"p1069\",\"attributes\":{\"indices\":[],\"line_indices\":[]}},\"selection_policy\":{\"type\":\"object\",\"name\":\"UnionRenderers\",\"id\":\"p1070\"},\"data\":{\"type\":\"map\",\"entries\":[[\"x\",{\"type\":\"ndarray\",\"array\":{\"type\":\"bytes\",\"data\":\"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\"},\"shape\":[1000],\"dtype\":\"float64\",\"order\":\"little\"}],[\"y\",{\"type\":\"ndarray\",\"array\":{\"type\":\"bytes\",\"data\":\"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\"},\"shape\":[1000],\"dtype\":\"float64\",\"order\":\"little\"}]]}}},\"view\":{\"type\":\"object\",\"name\":\"CDSView\",\"id\":\"p1075\",\"attributes\":{\"filter\":{\"type\":\"object\",\"name\":\"AllIndices\",\"id\":\"p1076\"}}},\"glyph\":{\"type\":\"object\",\"name\":\"Line\",\"id\":\"p1071\",\"attributes\":{\"x\":{\"type\":\"field\",\"field\":\"x\"},\"y\":{\"type\":\"field\",\"field\":\"y\"},\"line_color\":\"#1f77b4\"}},\"nonselection_glyph\":{\"type\":\"object\",\"name\":\"Line\",\"id\":\"p1072\",\"attributes\":{\"x\":{\"type\":\"field\",\"field\":\"x\"},\"y\":{\"type\":\"field\",\"field\":\"y\"},\"line_color\":\"#1f77b4\",\"line_alpha\":0.1}},\"muted_glyph\":{\"type\":\"object\",\"name\":\"Line\",\"id\":\"p1073\",\"attributes\":{\"x\":{\"type\":\"field\",\"field\":\"x\"},\"y\":{\"type\":\"field\",\"field\":\"y\"},\"line_color\":\"#1f77b4\",\"line_alpha\":0.2}}}},{\"type\":\"object\",\"name\":\"GlyphRenderer\",\"id\":\"p1084\",\"attributes\":{\"data_source\":{\"type\":\"object\",\"name\":\"ColumnDataSource\",\"id\":\"p1078\",\"attributes\":{\"selected\":{\"type\":\"object\",\"name\":\"Selection\",\"id\":\"p1079\",\"attributes\":{\"indices\":[],\"line_indices\":[]}},\"selection_policy\":{\"type\":\"object\",\"name\":\"UnionRenderers\",\"id\":\"p1080\"},\"data\":{\"type\":\"map\"}}},\"view\":{\"type\":\"object\",\"name\":\"CDSView\",\"id\":\"p1085\",\"attributes\":{\"filter\":{\"type\":\"object\",\"name\":\"AllIndices\",\"id\":\"p1086\"}}},\"glyph\":{\"type\":\"object\",\"name\":\"Segment\",\"id\":\"p1081\",\"attributes\":{\"x0\":{\"type\":\"value\",\"value\":-9.53125},\"y0\":{\"type\":\"value\",\"value\":0},\"x1\":{\"type\":\"value\",\"value\":-9.375},\"y1\":{\"type\":\"value\",\"value\":0},\"line_color\":{\"type\":\"value\",\"value\":\"red\"},\"line_width\":{\"type\":\"value\",\"value\":10}}},\"nonselection_glyph\":{\"type\":\"object\",\"name\":\"Segment\",\"id\":\"p1082\",\"attributes\":{\"x0\":{\"type\":\"value\",\"value\":-9.53125},\"y0\":{\"type\":\"value\",\"value\":0},\"x1\":{\"type\":\"value\",\"value\":-9.375},\"y1\":{\"type\":\"value\",\"value\":0},\"line_color\":{\"type\":\"value\",\"value\":\"red\"},\"line_alpha\":{\"type\":\"value\",\"value\":0.1},\"line_width\":{\"type\":\"value\",\"value\":10}}},\"muted_glyph\":{\"type\":\"object\",\"name\":\"Segment\",\"id\":\"p1083\",\"attributes\":{\"x0\":{\"type\":\"value\",\"value\":-9.53125},\"y0\":{\"type\":\"value\",\"value\":0},\"x1\":{\"type\":\"value\",\"value\":-9.375},\"y1\":{\"type\":\"value\",\"value\":0},\"line_color\":{\"type\":\"value\",\"value\":\"red\"},\"line_alpha\":{\"type\":\"value\",\"value\":0.2},\"line_width\":{\"type\":\"value\",\"value\":10}}}}},{\"type\":\"object\",\"name\":\"GlyphRenderer\",\"id\":\"p1093\",\"attributes\":{\"data_source\":{\"type\":\"object\",\"name\":\"ColumnDataSource\",\"id\":\"p1087\",\"attributes\":{\"selected\":{\"type\":\"object\",\"name\":\"Selection\",\"id\":\"p1088\",\"attributes\":{\"indices\":[],\"line_indices\":[]}},\"selection_policy\":{\"type\":\"object\",\"name\":\"UnionRenderers\",\"id\":\"p1089\"},\"data\":{\"type\":\"map\"}}},\"view\":{\"type\":\"object\",\"name\":\"CDSView\",\"id\":\"p1094\",\"attributes\":{\"filter\":{\"type\":\"object\",\"name\":\"AllIndices\",\"id\":\"p1095\"}}},\"glyph\":{\"type\":\"object\",\"name\":\"Segment\",\"id\":\"p1090\",\"attributes\":{\"x0\":{\"type\":\"value\",\"value\":-6.40625},\"y0\":{\"type\":\"value\",\"value\":0},\"x1\":{\"type\":\"value\",\"value\":-6.25},\"y1\":{\"type\":\"value\",\"value\":0},\"line_color\":{\"type\":\"value\",\"value\":\"red\"},\"line_width\":{\"type\":\"value\",\"value\":10}}},\"nonselection_glyph\":{\"type\":\"object\",\"name\":\"Segment\",\"id\":\"p1091\",\"attributes\":{\"x0\":{\"type\":\"value\",\"value\":-6.40625},\"y0\":{\"type\":\"value\",\"value\":0},\"x1\":{\"type\":\"value\",\"value\":-6.25},\"y1\":{\"type\":\"value\",\"value\":0},\"line_color\":{\"type\":\"value\",\"value\":\"red\"},\"line_alpha\":{\"type\":\"value\",\"value\":0.1},\"line_width\":{\"type\":\"value\",\"value\":10}}},\"muted_glyph\":{\"type\":\"object\",\"name\":\"Segment\",\"id\":\"p1092\",\"attributes\":{\"x0\":{\"type\":\"value\",\"value\":-6.40625},\"y0\":{\"type\":\"value\",\"value\":0},\"x1\":{\"type\":\"value\",\"value\":-6.25},\"y1\":{\"type\":\"value\",\"value\":0},\"line_color\":{\"type\":\"value\",\"value\":\"red\"},\"line_alpha\":{\"type\":\"value\",\"value\":0.2},\"line_width\":{\"type\":\"value\",\"value\":10}}}}},{\"type\":\"object\",\"name\":\"GlyphRenderer\",\"id\":\"p1102\",\"attributes\":{\"data_source\":{\"type\":\"object\",\"name\":\"ColumnDataSource\",\"id\":\"p1096\",\"attributes\":{\"selected\":{\"type\":\"object\",\"name\":\"Selection\",\"id\":\"p1097\",\"attributes\":{\"indices\":[],\"line_indices\":[]}},\"selection_policy\":{\"type\":\"object\",\"name\":\"UnionRenderers\",\"id\":\"p1098\"},\"data\":{\"type\":\"map\"}}},\"view\":{\"type\":\"object\",\"name\":\"CDSView\",\"id\":\"p1103\",\"attributes\":{\"filter\":{\"type\":\"object\",\"name\":\"AllIndices\",\"id\":\"p1104\"}}},\"glyph\":{\"type\":\"object\",\"name\":\"Segment\",\"id\":\"p1099\",\"attributes\":{\"x0\":{\"type\":\"value\",\"value\":-3.28125},\"y0\":{\"type\":\"value\",\"value\":0},\"x1\":{\"type\":\"value\",\"value\":-3.125},\"y1\":{\"type\":\"value\",\"value\":0},\"line_color\":{\"type\":\"value\",\"value\":\"red\"},\"line_width\":{\"type\":\"value\",\"value\":10}}},\"nonselection_glyph\":{\"type\":\"object\",\"name\":\"Segment\",\"id\":\"p1100\",\"attributes\":{\"x0\":{\"type\":\"value\",\"value\":-3.28125},\"y0\":{\"type\":\"value\",\"value\":0},\"x1\":{\"type\":\"value\",\"value\":-3.125},\"y1\":{\"type\":\"value\",\"value\":0},\"line_color\":{\"type\":\"value\",\"value\":\"red\"},\"line_alpha\":{\"type\":\"value\",\"value\":0.1},\"line_width\":{\"type\":\"value\",\"value\":10}}},\"muted_glyph\":{\"type\":\"object\",\"name\":\"Segment\",\"id\":\"p1101\",\"attributes\":{\"x0\":{\"type\":\"value\",\"value\":-3.28125},\"y0\":{\"type\":\"value\",\"value\":0},\"x1\":{\"type\":\"value\",\"value\":-3.125},\"y1\":{\"type\":\"value\",\"value\":0},\"line_color\":{\"type\":\"value\",\"value\":\"red\"},\"line_alpha\":{\"type\":\"value\",\"value\":0.2},\"line_width\":{\"type\":\"value\",\"value\":10}}}}},{\"type\":\"object\",\"name\":\"GlyphRenderer\",\"id\":\"p1111\",\"attributes\":{\"data_source\":{\"type\":\"object\",\"name\":\"ColumnDataSource\",\"id\":\"p1105\",\"attributes\":{\"selected\":{\"type\":\"object\",\"name\":\"Selection\",\"id\":\"p1106\",\"attributes\":{\"indices\":[],\"line_indices\":[]}},\"selection_policy\":{\"type\":\"object\",\"name\":\"UnionRenderers\",\"id\":\"p1107\"},\"data\":{\"type\":\"map\"}}},\"view\":{\"type\":\"object\",\"name\":\"CDSView\",\"id\":\"p1112\",\"attributes\":{\"filter\":{\"type\":\"object\",\"name\":\"AllIndices\",\"id\":\"p1113\"}}},\"glyph\":{\"type\":\"object\",\"name\":\"Segment\",\"id\":\"p1108\",\"attributes\":{\"x0\":{\"type\":\"value\",\"value\":-0.15625},\"y0\":{\"type\":\"value\",\"value\":0},\"x1\":{\"type\":\"value\",\"value\":0.0},\"y1\":{\"type\":\"value\",\"value\":0},\"line_color\":{\"type\":\"value\",\"value\":\"red\"},\"line_width\":{\"type\":\"value\",\"value\":10}}},\"nonselection_glyph\":{\"type\":\"object\",\"name\":\"Segment\",\"id\":\"p1109\",\"attributes\":{\"x0\":{\"type\":\"value\",\"value\":-0.15625},\"y0\":{\"type\":\"value\",\"value\":0},\"x1\":{\"type\":\"value\",\"value\":0.0},\"y1\":{\"type\":\"value\",\"value\":0},\"line_color\":{\"type\":\"value\",\"value\":\"red\"},\"line_alpha\":{\"type\":\"value\",\"value\":0.1},\"line_width\":{\"type\":\"value\",\"value\":10}}},\"muted_glyph\":{\"type\":\"object\",\"name\":\"Segment\",\"id\":\"p1110\",\"attributes\":{\"x0\":{\"type\":\"value\",\"value\":-0.15625},\"y0\":{\"type\":\"value\",\"value\":0},\"x1\":{\"type\":\"value\",\"value\":0.0},\"y1\":{\"type\":\"value\",\"value\":0},\"line_color\":{\"type\":\"value\",\"value\":\"red\"},\"line_alpha\":{\"type\":\"value\",\"value\":0.2},\"line_width\":{\"type\":\"value\",\"value\":10}}}}},{\"type\":\"object\",\"name\":\"GlyphRenderer\",\"id\":\"p1120\",\"attributes\":{\"data_source\":{\"type\":\"object\",\"name\":\"ColumnDataSource\",\"id\":\"p1114\",\"attributes\":{\"selected\":{\"type\":\"object\",\"name\":\"Selection\",\"id\":\"p1115\",\"attributes\":{\"indices\":[],\"line_indices\":[]}},\"selection_policy\":{\"type\":\"object\",\"name\":\"UnionRenderers\",\"id\":\"p1116\"},\"data\":{\"type\":\"map\"}}},\"view\":{\"type\":\"object\",\"name\":\"CDSView\",\"id\":\"p1121\",\"attributes\":{\"filter\":{\"type\":\"object\",\"name\":\"AllIndices\",\"id\":\"p1122\"}}},\"glyph\":{\"type\":\"object\",\"name\":\"Segment\",\"id\":\"p1117\",\"attributes\":{\"x0\":{\"type\":\"value\",\"value\":0.0},\"y0\":{\"type\":\"value\",\"value\":0},\"x1\":{\"type\":\"value\",\"value\":0.15625},\"y1\":{\"type\":\"value\",\"value\":0},\"line_color\":{\"type\":\"value\",\"value\":\"red\"},\"line_width\":{\"type\":\"value\",\"value\":10}}},\"nonselection_glyph\":{\"type\":\"object\",\"name\":\"Segment\",\"id\":\"p1118\",\"attributes\":{\"x0\":{\"type\":\"value\",\"value\":0.0},\"y0\":{\"type\":\"value\",\"value\":0},\"x1\":{\"type\":\"value\",\"value\":0.15625},\"y1\":{\"type\":\"value\",\"value\":0},\"line_color\":{\"type\":\"value\",\"value\":\"red\"},\"line_alpha\":{\"type\":\"value\",\"value\":0.1},\"line_width\":{\"type\":\"value\",\"value\":10}}},\"muted_glyph\":{\"type\":\"object\",\"name\":\"Segment\",\"id\":\"p1119\",\"attributes\":{\"x0\":{\"type\":\"value\",\"value\":0.0},\"y0\":{\"type\":\"value\",\"value\":0},\"x1\":{\"type\":\"value\",\"value\":0.15625},\"y1\":{\"type\":\"value\",\"value\":0},\"line_color\":{\"type\":\"value\",\"value\":\"red\"},\"line_alpha\":{\"type\":\"value\",\"value\":0.2},\"line_width\":{\"type\":\"value\",\"value\":10}}}}},{\"type\":\"object\",\"name\":\"GlyphRenderer\",\"id\":\"p1129\",\"attributes\":{\"data_source\":{\"type\":\"object\",\"name\":\"ColumnDataSource\",\"id\":\"p1123\",\"attributes\":{\"selected\":{\"type\":\"object\",\"name\":\"Selection\",\"id\":\"p1124\",\"attributes\":{\"indices\":[],\"line_indices\":[]}},\"selection_policy\":{\"type\":\"object\",\"name\":\"UnionRenderers\",\"id\":\"p1125\"},\"data\":{\"type\":\"map\"}}},\"view\":{\"type\":\"object\",\"name\":\"CDSView\",\"id\":\"p1130\",\"attributes\":{\"filter\":{\"type\":\"object\",\"name\":\"AllIndices\",\"id\":\"p1131\"}}},\"glyph\":{\"type\":\"object\",\"name\":\"Segment\",\"id\":\"p1126\",\"attributes\":{\"x0\":{\"type\":\"value\",\"value\":0.625},\"y0\":{\"type\":\"value\",\"value\":0},\"x1\":{\"type\":\"value\",\"value\":0.78125},\"y1\":{\"type\":\"value\",\"value\":0},\"line_color\":{\"type\":\"value\",\"value\":\"red\"},\"line_width\":{\"type\":\"value\",\"value\":10}}},\"nonselection_glyph\":{\"type\":\"object\",\"name\":\"Segment\",\"id\":\"p1127\",\"attributes\":{\"x0\":{\"type\":\"value\",\"value\":0.625},\"y0\":{\"type\":\"value\",\"value\":0},\"x1\":{\"type\":\"value\",\"value\":0.78125},\"y1\":{\"type\":\"value\",\"value\":0},\"line_color\":{\"type\":\"value\",\"value\":\"red\"},\"line_alpha\":{\"type\":\"value\",\"value\":0.1},\"line_width\":{\"type\":\"value\",\"value\":10}}},\"muted_glyph\":{\"type\":\"object\",\"name\":\"Segment\",\"id\":\"p1128\",\"attributes\":{\"x0\":{\"type\":\"value\",\"value\":0.625},\"y0\":{\"type\":\"value\",\"value\":0},\"x1\":{\"type\":\"value\",\"value\":0.78125},\"y1\":{\"type\":\"value\",\"value\":0},\"line_color\":{\"type\":\"value\",\"value\":\"red\"},\"line_alpha\":{\"type\":\"value\",\"value\":0.2},\"line_width\":{\"type\":\"value\",\"value\":10}}}}},{\"type\":\"object\",\"name\":\"GlyphRenderer\",\"id\":\"p1138\",\"attributes\":{\"data_source\":{\"type\":\"object\",\"name\":\"ColumnDataSource\",\"id\":\"p1132\",\"attributes\":{\"selected\":{\"type\":\"object\",\"name\":\"Selection\",\"id\":\"p1133\",\"attributes\":{\"indices\":[],\"line_indices\":[]}},\"selection_policy\":{\"type\":\"object\",\"name\":\"UnionRenderers\",\"id\":\"p1134\"},\"data\":{\"type\":\"map\"}}},\"view\":{\"type\":\"object\",\"name\":\"CDSView\",\"id\":\"p1139\",\"attributes\":{\"filter\":{\"type\":\"object\",\"name\":\"AllIndices\",\"id\":\"p1140\"}}},\"glyph\":{\"type\":\"object\",\"name\":\"Segment\",\"id\":\"p1135\",\"attributes\":{\"x0\":{\"type\":\"value\",\"value\":3.125},\"y0\":{\"type\":\"value\",\"value\":0},\"x1\":{\"type\":\"value\",\"value\":3.28125},\"y1\":{\"type\":\"value\",\"value\":0},\"line_color\":{\"type\":\"value\",\"value\":\"red\"},\"line_width\":{\"type\":\"value\",\"value\":10}}},\"nonselection_glyph\":{\"type\":\"object\",\"name\":\"Segment\",\"id\":\"p1136\",\"attributes\":{\"x0\":{\"type\":\"value\",\"value\":3.125},\"y0\":{\"type\":\"value\",\"value\":0},\"x1\":{\"type\":\"value\",\"value\":3.28125},\"y1\":{\"type\":\"value\",\"value\":0},\"line_color\":{\"type\":\"value\",\"value\":\"red\"},\"line_alpha\":{\"type\":\"value\",\"value\":0.1},\"line_width\":{\"type\":\"value\",\"value\":10}}},\"muted_glyph\":{\"type\":\"object\",\"name\":\"Segment\",\"id\":\"p1137\",\"attributes\":{\"x0\":{\"type\":\"value\",\"value\":3.125},\"y0\":{\"type\":\"value\",\"value\":0},\"x1\":{\"type\":\"value\",\"value\":3.28125},\"y1\":{\"type\":\"value\",\"value\":0},\"line_color\":{\"type\":\"value\",\"value\":\"red\"},\"line_alpha\":{\"type\":\"value\",\"value\":0.2},\"line_width\":{\"type\":\"value\",\"value\":10}}}}},{\"type\":\"object\",\"name\":\"GlyphRenderer\",\"id\":\"p1147\",\"attributes\":{\"data_source\":{\"type\":\"object\",\"name\":\"ColumnDataSource\",\"id\":\"p1141\",\"attributes\":{\"selected\":{\"type\":\"object\",\"name\":\"Selection\",\"id\":\"p1142\",\"attributes\":{\"indices\":[],\"line_indices\":[]}},\"selection_policy\":{\"type\":\"object\",\"name\":\"UnionRenderers\",\"id\":\"p1143\"},\"data\":{\"type\":\"map\"}}},\"view\":{\"type\":\"object\",\"name\":\"CDSView\",\"id\":\"p1148\",\"attributes\":{\"filter\":{\"type\":\"object\",\"name\":\"AllIndices\",\"id\":\"p1149\"}}},\"glyph\":{\"type\":\"object\",\"name\":\"Segment\",\"id\":\"p1144\",\"attributes\":{\"x0\":{\"type\":\"value\",\"value\":6.25},\"y0\":{\"type\":\"value\",\"value\":0},\"x1\":{\"type\":\"value\",\"value\":6.40625},\"y1\":{\"type\":\"value\",\"value\":0},\"line_color\":{\"type\":\"value\",\"value\":\"red\"},\"line_width\":{\"type\":\"value\",\"value\":10}}},\"nonselection_glyph\":{\"type\":\"object\",\"name\":\"Segment\",\"id\":\"p1145\",\"attributes\":{\"x0\":{\"type\":\"value\",\"value\":6.25},\"y0\":{\"type\":\"value\",\"value\":0},\"x1\":{\"type\":\"value\",\"value\":6.40625},\"y1\":{\"type\":\"value\",\"value\":0},\"line_color\":{\"type\":\"value\",\"value\":\"red\"},\"line_alpha\":{\"type\":\"value\",\"value\":0.1},\"line_width\":{\"type\":\"value\",\"value\":10}}},\"muted_glyph\":{\"type\":\"object\",\"name\":\"Segment\",\"id\":\"p1146\",\"attributes\":{\"x0\":{\"type\":\"value\",\"value\":6.25},\"y0\":{\"type\":\"value\",\"value\":0},\"x1\":{\"type\":\"value\",\"value\":6.40625},\"y1\":{\"type\":\"value\",\"value\":0},\"line_color\":{\"type\":\"value\",\"value\":\"red\"},\"line_alpha\":{\"type\":\"value\",\"value\":0.2},\"line_width\":{\"type\":\"value\",\"value\":10}}}}},{\"type\":\"object\",\"name\":\"GlyphRenderer\",\"id\":\"p1156\",\"attributes\":{\"data_source\":{\"type\":\"object\",\"name\":\"ColumnDataSource\",\"id\":\"p1150\",\"attributes\":{\"selected\":{\"type\":\"object\",\"name\":\"Selection\",\"id\":\"p1151\",\"attributes\":{\"indices\":[],\"line_indices\":[]}},\"selection_policy\":{\"type\":\"object\",\"name\":\"UnionRenderers\",\"id\":\"p1152\"},\"data\":{\"type\":\"map\"}}},\"view\":{\"type\":\"object\",\"name\":\"CDSView\",\"id\":\"p1157\",\"attributes\":{\"filter\":{\"type\":\"object\",\"name\":\"AllIndices\",\"id\":\"p1158\"}}},\"glyph\":{\"type\":\"object\",\"name\":\"Segment\",\"id\":\"p1153\",\"attributes\":{\"x0\":{\"type\":\"value\",\"value\":9.375},\"y0\":{\"type\":\"value\",\"value\":0},\"x1\":{\"type\":\"value\",\"value\":9.53125},\"y1\":{\"type\":\"value\",\"value\":0},\"line_color\":{\"type\":\"value\",\"value\":\"red\"},\"line_width\":{\"type\":\"value\",\"value\":10}}},\"nonselection_glyph\":{\"type\":\"object\",\"name\":\"Segment\",\"id\":\"p1154\",\"attributes\":{\"x0\":{\"type\":\"value\",\"value\":9.375},\"y0\":{\"type\":\"value\",\"value\":0},\"x1\":{\"type\":\"value\",\"value\":9.53125},\"y1\":{\"type\":\"value\",\"value\":0},\"line_color\":{\"type\":\"value\",\"value\":\"red\"},\"line_alpha\":{\"type\":\"value\",\"value\":0.1},\"line_width\":{\"type\":\"value\",\"value\":10}}},\"muted_glyph\":{\"type\":\"object\",\"name\":\"Segment\",\"id\":\"p1155\",\"attributes\":{\"x0\":{\"type\":\"value\",\"value\":9.375},\"y0\":{\"type\":\"value\",\"value\":0},\"x1\":{\"type\":\"value\",\"value\":9.53125},\"y1\":{\"type\":\"value\",\"value\":0},\"line_color\":{\"type\":\"value\",\"value\":\"red\"},\"line_alpha\":{\"type\":\"value\",\"value\":0.2},\"line_width\":{\"type\":\"value\",\"value\":10}}}}}],\"toolbar\":{\"type\":\"object\",\"name\":\"Toolbar\",\"id\":\"p1048\",\"attributes\":{\"tools\":[{\"type\":\"object\",\"name\":\"PanTool\",\"id\":\"p1061\"},{\"type\":\"object\",\"name\":\"WheelZoomTool\",\"id\":\"p1062\"},{\"type\":\"object\",\"name\":\"BoxZoomTool\",\"id\":\"p1063\",\"attributes\":{\"overlay\":{\"type\":\"object\",\"name\":\"BoxAnnotation\",\"id\":\"p1064\",\"attributes\":{\"syncable\":false,\"level\":\"overlay\",\"visible\":false,\"left_units\":\"canvas\",\"right_units\":\"canvas\",\"bottom_units\":\"canvas\",\"top_units\":\"canvas\",\"line_color\":\"black\",\"line_alpha\":1.0,\"line_width\":2,\"line_dash\":[4,4],\"fill_color\":\"lightgrey\",\"fill_alpha\":0.5}}}},{\"type\":\"object\",\"name\":\"SaveTool\",\"id\":\"p1065\"},{\"type\":\"object\",\"name\":\"ResetTool\",\"id\":\"p1066\"},{\"type\":\"object\",\"name\":\"HelpTool\",\"id\":\"p1067\"}]}},\"left\":[{\"type\":\"object\",\"name\":\"LinearAxis\",\"id\":\"p1056\",\"attributes\":{\"ticker\":{\"type\":\"object\",\"name\":\"BasicTicker\",\"id\":\"p1057\",\"attributes\":{\"mantissas\":[1,2,5]}},\"formatter\":{\"type\":\"object\",\"name\":\"BasicTickFormatter\",\"id\":\"p1058\"},\"major_label_policy\":{\"type\":\"object\",\"name\":\"AllLabels\",\"id\":\"p1059\"}}}],\"below\":[{\"type\":\"object\",\"name\":\"LinearAxis\",\"id\":\"p1051\",\"attributes\":{\"ticker\":{\"type\":\"object\",\"name\":\"BasicTicker\",\"id\":\"p1052\",\"attributes\":{\"mantissas\":[1,2,5]}},\"formatter\":{\"type\":\"object\",\"name\":\"BasicTickFormatter\",\"id\":\"p1053\"},\"major_label_policy\":{\"type\":\"object\",\"name\":\"AllLabels\",\"id\":\"p1054\"}}}],\"center\":[{\"type\":\"object\",\"name\":\"Grid\",\"id\":\"p1055\",\"attributes\":{\"axis\":{\"id\":\"p1051\"}}},{\"type\":\"object\",\"name\":\"Grid\",\"id\":\"p1060\",\"attributes\":{\"dimension\":1,\"axis\":{\"id\":\"p1056\"}}},{\"type\":\"object\",\"name\":\"Span\",\"id\":\"p1077\",\"attributes\":{\"location\":0}}]}}]}};\n  const render_items = [{\"docid\":\"9365b657-5619-4cde-b63b-00c85d213ed2\",\"roots\":{\"p1040\":\"a68a3453-e705-4a1a-9d2a-f3945dd06915\"},\"root_ids\":[\"p1040\"]}];\n  root.Bokeh.embed.embed_items_notebook(docs_json, render_items);\n  }\n  if (root.Bokeh !== undefined) {\n    embed_document(root);\n  } else {\n    let attempts = 0;\n    const timer = setInterval(function(root) {\n      if (root.Bokeh !== undefined) {\n        clearInterval(timer);\n        embed_document(root);\n      } else {\n        attempts++;\n        if (attempts > 100) {\n          clearInterval(timer);\n          console.log(\"Bokeh: ERROR: Unable to run BokehJS code because BokehJS library is missing\");\n        }\n      }\n    }, 10, root)\n  }\n})(window);",
      "application/vnd.bokehjs_exec.v0+json": ""
     },
     "metadata": {
      "application/vnd.bokehjs_exec.v0+json": {
       "id": "p1040"
      }
     },
     "output_type": "display_data"
    }
   ],
   "source": [
    "fig = figure(width=800, height=400)\n",
    "x = np.linspace(-10, 10, 1000)\n",
    "fig.line(x, f(x))\n",
    "fig.add_layout(Span(location=0, dimension='width'))\n",
    "for r in roots:\n",
    "    _r, r_ = r\n",
    "    fig.segment(x0=_r, y0=0, x1=r_, y1=0, color='red', line_width=10)\n",
    "show(fig)"
   ]
  },
  {
   "cell_type": "markdown",
   "metadata": {},
   "source": [
    "# Newton method for root finding"
   ]
  },
  {
   "cell_type": "code",
   "execution_count": 68,
   "metadata": {},
   "outputs": [
    {
     "data": {
      "text/html": [
       "\n",
       "  <div id=\"a2c62607-f651-4735-b5af-889b32478cdb\" data-root-id=\"p1161\" style=\"display: contents;\"></div>\n"
      ]
     },
     "metadata": {},
     "output_type": "display_data"
    },
    {
     "data": {
      "application/javascript": "(function(root) {\n  function embed_document(root) {\n  const docs_json = {\"9a80c083-1f4c-472f-814a-4fa8c3387e4b\":{\"version\":\"3.2.1\",\"title\":\"Bokeh Application\",\"roots\":[{\"type\":\"object\",\"name\":\"Figure\",\"id\":\"p1161\",\"attributes\":{\"height\":300,\"x_range\":{\"type\":\"object\",\"name\":\"DataRange1d\",\"id\":\"p1162\"},\"y_range\":{\"type\":\"object\",\"name\":\"DataRange1d\",\"id\":\"p1163\"},\"x_scale\":{\"type\":\"object\",\"name\":\"LinearScale\",\"id\":\"p1170\"},\"y_scale\":{\"type\":\"object\",\"name\":\"LinearScale\",\"id\":\"p1171\"},\"title\":{\"type\":\"object\",\"name\":\"Title\",\"id\":\"p1168\"},\"renderers\":[{\"type\":\"object\",\"name\":\"GlyphRenderer\",\"id\":\"p1195\",\"attributes\":{\"data_source\":{\"type\":\"object\",\"name\":\"ColumnDataSource\",\"id\":\"p1189\",\"attributes\":{\"selected\":{\"type\":\"object\",\"name\":\"Selection\",\"id\":\"p1190\",\"attributes\":{\"indices\":[],\"line_indices\":[]}},\"selection_policy\":{\"type\":\"object\",\"name\":\"UnionRenderers\",\"id\":\"p1191\"},\"data\":{\"type\":\"map\",\"entries\":[[\"x\",{\"type\":\"ndarray\",\"array\":{\"type\":\"bytes\",\"data\":\"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\"},\"shape\":[200],\"dtype\":\"float64\",\"order\":\"little\"}],[\"y\",{\"type\":\"ndarray\",\"array\":{\"type\":\"bytes\",\"data\":\"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\"},\"shape\":[200],\"dtype\":\"float64\",\"order\":\"little\"}]]}}},\"view\":{\"type\":\"object\",\"name\":\"CDSView\",\"id\":\"p1196\",\"attributes\":{\"filter\":{\"type\":\"object\",\"name\":\"AllIndices\",\"id\":\"p1197\"}}},\"glyph\":{\"type\":\"object\",\"name\":\"Line\",\"id\":\"p1192\",\"attributes\":{\"x\":{\"type\":\"field\",\"field\":\"x\"},\"y\":{\"type\":\"field\",\"field\":\"y\"},\"line_color\":\"#1f77b4\"}},\"nonselection_glyph\":{\"type\":\"object\",\"name\":\"Line\",\"id\":\"p1193\",\"attributes\":{\"x\":{\"type\":\"field\",\"field\":\"x\"},\"y\":{\"type\":\"field\",\"field\":\"y\"},\"line_color\":\"#1f77b4\",\"line_alpha\":0.1}},\"muted_glyph\":{\"type\":\"object\",\"name\":\"Line\",\"id\":\"p1194\",\"attributes\":{\"x\":{\"type\":\"field\",\"field\":\"x\"},\"y\":{\"type\":\"field\",\"field\":\"y\"},\"line_color\":\"#1f77b4\",\"line_alpha\":0.2}}}}],\"toolbar\":{\"type\":\"object\",\"name\":\"Toolbar\",\"id\":\"p1169\",\"attributes\":{\"tools\":[{\"type\":\"object\",\"name\":\"PanTool\",\"id\":\"p1182\"},{\"type\":\"object\",\"name\":\"WheelZoomTool\",\"id\":\"p1183\"},{\"type\":\"object\",\"name\":\"BoxZoomTool\",\"id\":\"p1184\",\"attributes\":{\"overlay\":{\"type\":\"object\",\"name\":\"BoxAnnotation\",\"id\":\"p1185\",\"attributes\":{\"syncable\":false,\"level\":\"overlay\",\"visible\":false,\"left_units\":\"canvas\",\"right_units\":\"canvas\",\"bottom_units\":\"canvas\",\"top_units\":\"canvas\",\"line_color\":\"black\",\"line_alpha\":1.0,\"line_width\":2,\"line_dash\":[4,4],\"fill_color\":\"lightgrey\",\"fill_alpha\":0.5}}}},{\"type\":\"object\",\"name\":\"SaveTool\",\"id\":\"p1186\"},{\"type\":\"object\",\"name\":\"ResetTool\",\"id\":\"p1187\"},{\"type\":\"object\",\"name\":\"HelpTool\",\"id\":\"p1188\"}]}},\"left\":[{\"type\":\"object\",\"name\":\"LinearAxis\",\"id\":\"p1177\",\"attributes\":{\"ticker\":{\"type\":\"object\",\"name\":\"BasicTicker\",\"id\":\"p1178\",\"attributes\":{\"mantissas\":[1,2,5]}},\"formatter\":{\"type\":\"object\",\"name\":\"BasicTickFormatter\",\"id\":\"p1179\"},\"major_label_policy\":{\"type\":\"object\",\"name\":\"AllLabels\",\"id\":\"p1180\"}}}],\"below\":[{\"type\":\"object\",\"name\":\"LinearAxis\",\"id\":\"p1172\",\"attributes\":{\"ticker\":{\"type\":\"object\",\"name\":\"BasicTicker\",\"id\":\"p1173\",\"attributes\":{\"mantissas\":[1,2,5]}},\"formatter\":{\"type\":\"object\",\"name\":\"BasicTickFormatter\",\"id\":\"p1174\"},\"major_label_policy\":{\"type\":\"object\",\"name\":\"AllLabels\",\"id\":\"p1175\"}}}],\"center\":[{\"type\":\"object\",\"name\":\"Grid\",\"id\":\"p1176\",\"attributes\":{\"axis\":{\"id\":\"p1172\"}}},{\"type\":\"object\",\"name\":\"Grid\",\"id\":\"p1181\",\"attributes\":{\"dimension\":1,\"axis\":{\"id\":\"p1177\"}}}]}}]}};\n  const render_items = [{\"docid\":\"9a80c083-1f4c-472f-814a-4fa8c3387e4b\",\"roots\":{\"p1161\":\"a2c62607-f651-4735-b5af-889b32478cdb\"},\"root_ids\":[\"p1161\"]}];\n  root.Bokeh.embed.embed_items_notebook(docs_json, render_items);\n  }\n  if (root.Bokeh !== undefined) {\n    embed_document(root);\n  } else {\n    let attempts = 0;\n    const timer = setInterval(function(root) {\n      if (root.Bokeh !== undefined) {\n        clearInterval(timer);\n        embed_document(root);\n      } else {\n        attempts++;\n        if (attempts > 100) {\n          clearInterval(timer);\n          console.log(\"Bokeh: ERROR: Unable to run BokehJS code because BokehJS library is missing\");\n        }\n      }\n    }, 10, root)\n  }\n})(window);",
      "application/vnd.bokehjs_exec.v0+json": ""
     },
     "metadata": {
      "application/vnd.bokehjs_exec.v0+json": {
       "id": "p1161"
      }
     },
     "output_type": "display_data"
    }
   ],
   "source": [
    "def f(x):\n",
    "    return sin(exp(x) + 1)\n",
    "\n",
    "x = np.linspace(4, 7, 200)\n",
    "\n",
    "fig = figure(width=600, height=300)\n",
    "fig.line(x, f(x))\n",
    "\n",
    "show(fig)"
   ]
  },
  {
   "cell_type": "code",
   "execution_count": 69,
   "metadata": {},
   "outputs": [
    {
     "data": {
      "text/plain": [
       "(0.7615497828808945, 2.13117712108631)"
      ]
     },
     "execution_count": 69,
     "metadata": {},
     "output_type": "execute_result"
    }
   ],
   "source": [
    "def newton_step(f, x: AutoDiff):\n",
    "    xx = _ensure_AD(x, 1)\n",
    "    fx = f(xx)\n",
    "    return x - fx.x / fx.dx\n",
    "\n",
    "\n",
    "def newton(f, x, tol, dbg=False):\n",
    "    y = newton_step(f, x)\n",
    "    i = 0\n",
    "    acc = []\n",
    "    while abs(y - x) > tol:\n",
    "        if dbg:\n",
    "            print(f\"{i}: x={x}\")\n",
    "        x, y = y, newton_step(f, y)\n",
    "        acc.append(x)\n",
    "        i += 1\n",
    "    return y, acc\n",
    "\n",
    "\n",
    "newton(f, 1, 1e-10)[0], newton(f, 0, 1e-10)[0]"
   ]
  },
  {
   "cell_type": "code",
   "execution_count": 70,
   "metadata": {},
   "outputs": [
    {
     "name": "stdout",
     "output_type": "stream",
     "text": [
      "[-3.₀₀₀₀₀₀₀₀₀₀₀₀₀₀₀₀₀, +3.₀₀₀₀₀₀₀₀₀₀₀₀₀₀₀₀₀] +3\n",
      "[-3.₀₀₀₀₀₀₀₀₀₀₀₀₀₀₀₀₀, +3.₀₀₀₀₀₀₀₀₀₀₀₀₀₀₀₀₀] [-∞, -₀.₀83375₀₀₀₀₀₀₀₀₀₀₀]∪[+₀.66699999999999993, +∞]\n",
      "[-∞, -₀.₀83375₀₀₀₀₀₀₀₀₀₀₀]∪[+₀.66699999999999993, +∞] -0.375187\n",
      "extended interval\n"
     ]
    }
   ],
   "source": [
    "def interval_newton_step(f, x):\n",
    "    xx = _ensure_AD(x, 1)  # variable\n",
    "    fx = f(xx)\n",
    "    mx = I(mid(x))\n",
    "    nx = mx - f(mx) / fx.dx\n",
    "    print(x, nx)\n",
    "    return x & nx\n",
    "\n",
    "\n",
    "print_int = lambda x: print(f\"{x} {x.rad:+g}\")\n",
    "\n",
    "def interval_newton(f, x, tol):\n",
    "    x0 = x\n",
    "    while rad(x) * 2 > tol:\n",
    "        print_int(x)\n",
    "        x = interval_newton_step(f, x)\n",
    "        print_int(x)\n",
    "        if x.is_extended:\n",
    "            print(\"extended interval\")\n",
    "            return\n",
    "        if x.isempty:\n",
    "            print(\"no roots\")\n",
    "            return\n",
    "    if x in x0:\n",
    "        print('unique root')\n",
    "\n",
    "\n",
    "f = lambda x: -2.001 + 3 * x - x**3\n",
    "\n",
    "interval_newton(f, I(-3, 3), 0.01)"
   ]
  },
  {
   "cell_type": "code",
   "execution_count": 71,
   "metadata": {},
   "outputs": [
    {
     "data": {
      "text/html": [
       "\n",
       "  <div id=\"a4f13022-648a-4c01-bb0d-c59a01aa679d\" data-root-id=\"p1200\" style=\"display: contents;\"></div>\n"
      ]
     },
     "metadata": {},
     "output_type": "display_data"
    },
    {
     "data": {
      "application/javascript": "(function(root) {\n  function embed_document(root) {\n  const docs_json = {\"713d90ea-0e50-4d91-a093-9638cfba02c0\":{\"version\":\"3.2.1\",\"title\":\"Bokeh Application\",\"roots\":[{\"type\":\"object\",\"name\":\"Figure\",\"id\":\"p1200\",\"attributes\":{\"height\":300,\"x_range\":{\"type\":\"object\",\"name\":\"DataRange1d\",\"id\":\"p1201\"},\"y_range\":{\"type\":\"object\",\"name\":\"DataRange1d\",\"id\":\"p1202\"},\"x_scale\":{\"type\":\"object\",\"name\":\"LinearScale\",\"id\":\"p1209\"},\"y_scale\":{\"type\":\"object\",\"name\":\"LinearScale\",\"id\":\"p1210\"},\"title\":{\"type\":\"object\",\"name\":\"Title\",\"id\":\"p1207\"},\"renderers\":[{\"type\":\"object\",\"name\":\"GlyphRenderer\",\"id\":\"p1234\",\"attributes\":{\"data_source\":{\"type\":\"object\",\"name\":\"ColumnDataSource\",\"id\":\"p1228\",\"attributes\":{\"selected\":{\"type\":\"object\",\"name\":\"Selection\",\"id\":\"p1229\",\"attributes\":{\"indices\":[],\"line_indices\":[]}},\"selection_policy\":{\"type\":\"object\",\"name\":\"UnionRenderers\",\"id\":\"p1230\"},\"data\":{\"type\":\"map\",\"entries\":[[\"x\",{\"type\":\"ndarray\",\"array\":{\"type\":\"bytes\",\"data\":\"AAAAAAAACMDByyl4OQUHwIOXU/ByCgbARGN9aKwPBcAFL6fg5RQEwMb60FgfGgPAiMb60FgfAsBJkiRJkiQBwApeTsHLKQDAmFPwcgpe/r8a60NjfWj8v52Cl1Pwcvq/IBrrQ2N9+L+isT401of2vyVJkiRJkvS/p+DlFLyc8r8qeDkFL6fwv1gfGutDY+2/YE7Byyl46b9kfWisD43lv2isD431oeG/4LZt27Zt27/oFLycgpfTv+DlFLycgse/AIjG+tBYr7/Ah8b60FivP+DlFLycgsc/6BS8nIKX0z/Ytm3btm3bP2isD431oeE/ZH1orA+N5T9cTsHLKXjpP1gfGutDY+0/KHg5BS+n8D+o4OUUvJzyPyRJkiRJkvQ/oLE+NNaH9j8gGutDY334P5yCl1Pwcvo/GOtDY31o/D+YU/ByCl7+PwpeTsHLKQBASJIkSZIkAUCIxvrQWB8CQMb60FgfGgNABC+n4OUUBEBEY31orA8FQIKXU/ByCgZAwMspeDkFB0AAAAAAAAAIQA==\"},\"shape\":[50],\"dtype\":\"float64\",\"order\":\"little\"}],[\"y\",{\"type\":\"ndarray\",\"array\":{\"type\":\"bytes\",\"data\":\"c2iR7Xz/L0Bu1Utz/GIqQAPL1s4GSyVAqCKsIvixIEDMa4siWSQZQH68OnoAzBFA5NSzIj2fBkBgonKzro/2P8A/1TYCtMc/oPIi2V9067+M9QLTgK/7v0yAVaxIiwPANWfdNEAOCMB+yTF5NncLwBhBa++63A3AAmiiDV1VD8Aw2O9JrPcPwJ4rbBo42g/AQvwv9Y8TD8AX5FNQQ7oNwBN98KHh5AvAM2EeYPqpCcBqKvYAHSAHwLNykPrYXQTACtQFw715AcDF0N2gtRT9v26TyDF/TPe/ACT9JPfH8b/nbFnNeGjpv1z9EMbbfOC/msIGGapO0r8QBZjIExG+v0BmSIQ88JS/AHPICZPYeL8QjUq6cNe1v4DaSyDtOtG/pMsLaYgz4r/QVF16YdfvvzZ4Ps6f8fi/nUHzKVgsAsDB/yudACcJwDQIcVusvxDAxgaX9velFcCmSBTbqlEbwFqN+mEG5yDA/eQitjKTJMDCUYlH/rIowBf6s/MMTC3AQoIUTAEyMcDGSzeJQQA0wA==\"},\"shape\":[50],\"dtype\":\"float64\",\"order\":\"little\"}]]}}},\"view\":{\"type\":\"object\",\"name\":\"CDSView\",\"id\":\"p1235\",\"attributes\":{\"filter\":{\"type\":\"object\",\"name\":\"AllIndices\",\"id\":\"p1236\"}}},\"glyph\":{\"type\":\"object\",\"name\":\"Line\",\"id\":\"p1231\",\"attributes\":{\"x\":{\"type\":\"field\",\"field\":\"x\"},\"y\":{\"type\":\"field\",\"field\":\"y\"},\"line_color\":\"#1f77b4\"}},\"nonselection_glyph\":{\"type\":\"object\",\"name\":\"Line\",\"id\":\"p1232\",\"attributes\":{\"x\":{\"type\":\"field\",\"field\":\"x\"},\"y\":{\"type\":\"field\",\"field\":\"y\"},\"line_color\":\"#1f77b4\",\"line_alpha\":0.1}},\"muted_glyph\":{\"type\":\"object\",\"name\":\"Line\",\"id\":\"p1233\",\"attributes\":{\"x\":{\"type\":\"field\",\"field\":\"x\"},\"y\":{\"type\":\"field\",\"field\":\"y\"},\"line_color\":\"#1f77b4\",\"line_alpha\":0.2}}}},{\"type\":\"object\",\"name\":\"GlyphRenderer\",\"id\":\"p1243\",\"attributes\":{\"data_source\":{\"type\":\"object\",\"name\":\"ColumnDataSource\",\"id\":\"p1237\",\"attributes\":{\"selected\":{\"type\":\"object\",\"name\":\"Selection\",\"id\":\"p1238\",\"attributes\":{\"indices\":[],\"line_indices\":[]}},\"selection_policy\":{\"type\":\"object\",\"name\":\"UnionRenderers\",\"id\":\"p1239\"},\"data\":{\"type\":\"map\",\"entries\":[[\"x\",{\"type\":\"ndarray\",\"array\":{\"type\":\"bytes\",\"data\":\"AAAAAAAACMDByyl4OQUHwIOXU/ByCgbARGN9aKwPBcAFL6fg5RQEwMb60FgfGgPAiMb60FgfAsBJkiRJkiQBwApeTsHLKQDAmFPwcgpe/r8a60NjfWj8v52Cl1Pwcvq/IBrrQ2N9+L+isT401of2vyVJkiRJkvS/p+DlFLyc8r8qeDkFL6fwv1gfGutDY+2/YE7Byyl46b9kfWisD43lv2isD431oeG/4LZt27Zt27/oFLycgpfTv+DlFLycgse/AIjG+tBYr7/Ah8b60FivP+DlFLycgsc/6BS8nIKX0z/Ytm3btm3bP2isD431oeE/ZH1orA+N5T9cTsHLKXjpP1gfGutDY+0/KHg5BS+n8D+o4OUUvJzyPyRJkiRJkvQ/oLE+NNaH9j8gGutDY334P5yCl1Pwcvo/GOtDY31o/D+YU/ByCl7+PwpeTsHLKQBASJIkSZIkAUCIxvrQWB8CQMb60FgfGgNABC+n4OUUBEBEY31orA8FQIKXU/ByCgZAwMspeDkFB0AAAAAAAAAIQA==\"},\"shape\":[50],\"dtype\":\"float64\",\"order\":\"little\"}],[\"y\",{\"type\":\"ndarray\",\"array\":{\"type\":\"bytes\",\"data\":\"AAAAAAAAOMC0Q6UyRdc1wO352C2SxTPApyKb8ebKMcDIe9f7hs4vwEqXlaVPNSzA1Jdw4CfKKMBifWisD40lwPdHfQkHfiLAKO9d7xs6H8BqGPvtSNQZwLwL0g6VyhTAGMniUQAdEMAAoVpuFZcHwNiHxvrQWP+/4PW+ofPz8L/gYPSMlvzPv/DVatZFEd4/1M7sM7mX8T8GwFdppDr6P4LE7YqJtgBA5BS8nIKXA0Ax0RZqPcAFQGT5/fK5MAdAfY1xN/joB0B9jXE3+OgHQGT5/fK5MAdAMdEWaj3ABUDnFLycgpcDQILE7YqJtgBABsBXaaQ6+j/ezuwzuZfxP/DVatZFEd4/gGD0jJb8z7/k9b6h8/Pwv9CHxvrQWP+/+KBabhWXB8AYyeJRAB0QwLgL0g6VyhTAZhj77UjUGcAo713vGzofwPdHfQkHfiLAYH1orA+NJcDUl3DgJ8oowEqXlaVPNSzAxHvX+4bOL8CnIpvx5soxwOv52C2SxTPAskOlMkXXNcAAAAAAAAA4wA==\"},\"shape\":[50],\"dtype\":\"float64\",\"order\":\"little\"}]]}}},\"view\":{\"type\":\"object\",\"name\":\"CDSView\",\"id\":\"p1244\",\"attributes\":{\"filter\":{\"type\":\"object\",\"name\":\"AllIndices\",\"id\":\"p1245\"}}},\"glyph\":{\"type\":\"object\",\"name\":\"Line\",\"id\":\"p1240\",\"attributes\":{\"x\":{\"type\":\"field\",\"field\":\"x\"},\"y\":{\"type\":\"field\",\"field\":\"y\"},\"line_color\":\"red\"}},\"nonselection_glyph\":{\"type\":\"object\",\"name\":\"Line\",\"id\":\"p1241\",\"attributes\":{\"x\":{\"type\":\"field\",\"field\":\"x\"},\"y\":{\"type\":\"field\",\"field\":\"y\"},\"line_color\":\"red\",\"line_alpha\":0.1}},\"muted_glyph\":{\"type\":\"object\",\"name\":\"Line\",\"id\":\"p1242\",\"attributes\":{\"x\":{\"type\":\"field\",\"field\":\"x\"},\"y\":{\"type\":\"field\",\"field\":\"y\"},\"line_color\":\"red\",\"line_alpha\":0.2}}}}],\"toolbar\":{\"type\":\"object\",\"name\":\"Toolbar\",\"id\":\"p1208\",\"attributes\":{\"tools\":[{\"type\":\"object\",\"name\":\"PanTool\",\"id\":\"p1221\"},{\"type\":\"object\",\"name\":\"WheelZoomTool\",\"id\":\"p1222\"},{\"type\":\"object\",\"name\":\"BoxZoomTool\",\"id\":\"p1223\",\"attributes\":{\"overlay\":{\"type\":\"object\",\"name\":\"BoxAnnotation\",\"id\":\"p1224\",\"attributes\":{\"syncable\":false,\"level\":\"overlay\",\"visible\":false,\"left_units\":\"canvas\",\"right_units\":\"canvas\",\"bottom_units\":\"canvas\",\"top_units\":\"canvas\",\"line_color\":\"black\",\"line_alpha\":1.0,\"line_width\":2,\"line_dash\":[4,4],\"fill_color\":\"lightgrey\",\"fill_alpha\":0.5}}}},{\"type\":\"object\",\"name\":\"SaveTool\",\"id\":\"p1225\"},{\"type\":\"object\",\"name\":\"ResetTool\",\"id\":\"p1226\"},{\"type\":\"object\",\"name\":\"HelpTool\",\"id\":\"p1227\"}]}},\"left\":[{\"type\":\"object\",\"name\":\"LinearAxis\",\"id\":\"p1216\",\"attributes\":{\"ticker\":{\"type\":\"object\",\"name\":\"BasicTicker\",\"id\":\"p1217\",\"attributes\":{\"mantissas\":[1,2,5]}},\"formatter\":{\"type\":\"object\",\"name\":\"BasicTickFormatter\",\"id\":\"p1218\"},\"major_label_policy\":{\"type\":\"object\",\"name\":\"AllLabels\",\"id\":\"p1219\"}}}],\"below\":[{\"type\":\"object\",\"name\":\"LinearAxis\",\"id\":\"p1211\",\"attributes\":{\"ticker\":{\"type\":\"object\",\"name\":\"BasicTicker\",\"id\":\"p1212\",\"attributes\":{\"mantissas\":[1,2,5]}},\"formatter\":{\"type\":\"object\",\"name\":\"BasicTickFormatter\",\"id\":\"p1213\"},\"major_label_policy\":{\"type\":\"object\",\"name\":\"AllLabels\",\"id\":\"p1214\"}}}],\"center\":[{\"type\":\"object\",\"name\":\"Grid\",\"id\":\"p1215\",\"attributes\":{\"axis\":{\"id\":\"p1211\"}}},{\"type\":\"object\",\"name\":\"Grid\",\"id\":\"p1220\",\"attributes\":{\"dimension\":1,\"axis\":{\"id\":\"p1216\"}}},{\"type\":\"object\",\"name\":\"Span\",\"id\":\"p1246\",\"attributes\":{\"location\":0}}]}}]}};\n  const render_items = [{\"docid\":\"713d90ea-0e50-4d91-a093-9638cfba02c0\",\"roots\":{\"p1200\":\"a4f13022-648a-4c01-bb0d-c59a01aa679d\"},\"root_ids\":[\"p1200\"]}];\n  root.Bokeh.embed.embed_items_notebook(docs_json, render_items);\n  }\n  if (root.Bokeh !== undefined) {\n    embed_document(root);\n  } else {\n    let attempts = 0;\n    const timer = setInterval(function(root) {\n      if (root.Bokeh !== undefined) {\n        clearInterval(timer);\n        embed_document(root);\n      } else {\n        attempts++;\n        if (attempts > 100) {\n          clearInterval(timer);\n          console.log(\"Bokeh: ERROR: Unable to run BokehJS code because BokehJS library is missing\");\n        }\n      }\n    }, 10, root)\n  }\n})(window);",
      "application/vnd.bokehjs_exec.v0+json": ""
     },
     "metadata": {
      "application/vnd.bokehjs_exec.v0+json": {
       "id": "p1200"
      }
     },
     "output_type": "display_data"
    }
   ],
   "source": [
    "fig = figure(width=600, height=300)\n",
    "x = np.linspace(-3, 3)\n",
    "y, dy = f(AutoDiff(x, 1))\n",
    "fig.line(x, y)\n",
    "fig.line(x, dy, color='red')\n",
    "fig.add_layout(Span(location=0, dimension='width'))\n",
    "show(fig)"
   ]
  },
  {
   "cell_type": "code",
   "execution_count": 72,
   "metadata": {},
   "outputs": [
    {
     "name": "stdout",
     "output_type": "stream",
     "text": [
      "\n",
      "(0, 1, 'R'): x0: [-3.₀₀₀₀₀₀₀₀₀₀₀₀₀₀₀₀₀, +3.₀₀₀₀₀₀₀₀₀₀₀₀₀₀₀₀₀]\n",
      "(0, 1, 'R'): nx: [-∞, -₀.₀83375₀₀₀₀₀₀₀₀₀₀₀]∪[+₀.66699999999999993, +∞]\n",
      "\n",
      "(1, 2, 'L'): x0: [-3.₀₀₀₀₀₀₀₀₀₀₀₀₀₀₀₀₀, -₀.₀83375₀₀₀₀₀₀₀₀₀₀₀]\n",
      "(1, 2, 'L'): nx: [-∞, -1.665₀94963₀8427929]∪[-₀.54751692732723711, +∞]\n",
      "\n",
      "(2, 3, 'L'): x0: [-3.₀₀₀₀₀₀₀₀₀₀₀₀₀₀₀₀₀, -1.665₀94963₀8427929]\n",
      "(2, 3, 'L'): nx: [-2.1787₀456478₀59493, -1.6382₀914456321187]\n",
      "(2, 3, 'L'): x: [-2.1787₀456478₀59493, -1.665₀94963₀8427929] +0.256805\n",
      "(2, 3, 'L'): nx: [-2.₀4747853₀66389318, -1.9813₀947359721432]\n",
      "(2, 3, 'L'): x: [-2.₀4747853₀66389318, -1.9813₀947359721432] +0.0330845\n",
      "(2, 3, 'L'): ℝ f([-2.₀4747853₀66389318, -1.9813₀947359721432])=[-₀.36563242343139724, +₀.638446239₀39192₀6]\n",
      "\n",
      "(2, 3, 'R'): x0: [-₀.54751692732723711, -₀.₀83375₀₀₀₀₀₀₀₀₀₀₀]\n",
      "(2, 3, 'R'): nx: [+₀.66334₀992₀4536945, +1.₀7265461512881544]\n",
      "(2, 3, 'R'): x: ∅ +nan\n",
      "(2, 3, 'R'): no roots ∅\n",
      "\n",
      "(1, 2, 'R'): x0: [+₀.66699999999999993, +3.₀₀₀₀₀₀₀₀₀₀₀₀₀₀₀₀₀]\n",
      "(1, 2, 'R'): nx: [-∞, +1.72249₀927276₀4181]∪[+3.43331₀81583983355, +∞]\n",
      "\n",
      "(2, 3, 'L'): x0: [+₀.66699999999999993, +1.72249₀927276₀4181]\n",
      "(2, 3, 'L'): nx: [-∞, +1.174₀43₀71418₀2255]∪[+1.2681₀2121719139₀5, +∞]\n",
      "\n",
      "(3, 4, 'L'): x0: [+₀.66699999999999993, +1.174₀43₀71418₀2255]\n",
      "(3, 4, 'L'): nx: [-∞, +₀.9₀3388341₀8952426]∪[+₀.932199937₀8924753, +∞]\n",
      "\n",
      "(4, 5, 'L'): x0: [+₀.66699999999999993, +₀.9₀3388341₀8952426]\n",
      "(4, 5, 'L'): nx: [+₀.86296429843723421, +1.₀1996₀4418522763₀]\n",
      "(4, 5, 'L'): x: [+₀.86296429843723421, +₀.9₀3388341₀8952426] +0.020212\n",
      "(4, 5, 'L'): no roots [+₀.86296429843723421, +₀.9₀3388341₀8952426]\n",
      "\n",
      "(4, 5, 'R'): x0: [+₀.932199937₀8924753, +1.174₀43₀71418₀2255]\n",
      "(4, 5, 'R'): nx: [-∞, +1.₀4465₀6₀3₀8515589]∪[+1.₀77588₀3187763₀3₀, +∞]\n",
      "\n",
      "(5, 6, 'L'): x0: [+₀.932199937₀8924753, +1.₀4465₀6₀3₀8515589]\n",
      "(5, 6, 'L'): maybe ℝ f([+₀.932199937₀8924753, +1.₀4465₀6₀3₀8515589])=[-₀.344422₀459₀6976₀₀, +₀.322873119₀1519211]\n",
      "\n",
      "(5, 6, 'R'): x0: [+1.₀77588₀3187763₀3₀, +1.174₀43₀71418₀2255]\n",
      "(5, 6, 'R'): maybe ℝ f([+1.₀77588₀3187763₀3₀, +1.174₀43₀71418₀2255])=[-₀.38651₀₀278₀625654, +₀.26983833814738256]\n",
      "\n",
      "(3, 4, 'R'): x0: [+1.2681₀2121719139₀5, +1.72249₀927276₀4181]\n",
      "(3, 4, 'R'): nx: [+1.₀24713₀5292488₀69, +1.349817397537₀₀136]\n",
      "(3, 4, 'R'): x: [+1.2681₀2121719139₀5, +1.349817397537₀₀136] +0.0408576\n",
      "(3, 4, 'R'): no roots [+1.2681₀2121719139₀5, +1.349817397537₀₀136]\n",
      "\n",
      "(2, 3, 'R'): x0: ∅\n",
      "(2, 3, 'R') empty\n"
     ]
    },
    {
     "data": {
      "text/plain": [
       "[[-2.₀4747853₀66389318, -1.9813₀947359721432],\n",
       " [+₀.932199937₀8924753, +1.₀4465₀6₀3₀8515589],\n",
       " [+1.₀77588₀3187763₀3₀, +1.174₀43₀71418₀2255]]"
      ]
     },
     "execution_count": 72,
     "metadata": {},
     "output_type": "execute_result"
    }
   ],
   "source": [
    "dbg = True\n",
    "\n",
    "def prn(*x):\n",
    "    global dbg\n",
    "    if dbg: \n",
    "        print(*x)\n",
    "\n",
    "def Nx(f, x):\n",
    "    xx = _ensure_AD(x, 1)  # variable\n",
    "    fx = f(xx)\n",
    "    mx = I(mid(x))\n",
    "    nx = mx - f(mx) / fx.dx\n",
    "    return nx\n",
    "\n",
    "acc = []\n",
    "\n",
    "def interval_newton_ext(f, x, tol, prev=0, left=None):\n",
    "    global acc\n",
    "    l = prev\n",
    "    l += 1\n",
    "    x0 = x\n",
    "    left = \"L\" if left else \"R\"\n",
    "    prn(f\"\\n{(prev,l,left)}: x0: {x0}\")\n",
    "    if x0.isempty:\n",
    "        prn(f\"{(prev,l,left)} empty\")\n",
    "        return\n",
    "    while rad(x) > tol:\n",
    "        nx = Nx(f, x)\n",
    "        prn(f\"{(prev,l,left)}: nx: {nx}\")\n",
    "        if nx.is_extended:\n",
    "            xl, xr = (x & I(-np.inf, nx.x_)), (x & I(nx._x, np.inf))\n",
    "            interval_newton_ext(f, xl, tol, l, True)\n",
    "            interval_newton_ext(f, xr, tol, l, False)\n",
    "            return\n",
    "        x = x & nx\n",
    "        prn(f\"{(prev,l,left)}: x: {x} {x.rad:+g}\")\n",
    "        if x.isempty:\n",
    "            prn(f\"{(prev,l,left)}: no roots {x}\")\n",
    "            return\n",
    "    if (x in x0) and (f(x).has_zero) and (not (Nx(f, x) & x).isempty):\n",
    "        maybe = \"maybe \" if x == x0 else \"\"\n",
    "        print(f\"{(prev,l,left)}: {maybe}ℝ f({x})={f(x)}\")\n",
    "        acc.append(x)\n",
    "    else:\n",
    "        prn(f\"{(prev,l,left)}: no roots {x}\")\n",
    "\n",
    "\n",
    "f = lambda x: -2.001 + 3 * x - x**3\n",
    "\n",
    "interval_newton_ext(f, I(-3, +3), 0.1)\n",
    "acc"
   ]
  },
  {
   "cell_type": "code",
   "execution_count": 73,
   "metadata": {},
   "outputs": [
    {
     "name": "stdout",
     "output_type": "stream",
     "text": [
      "(2, 3, 'L'): ℝ f([-2.₀4747853₀66389318, -1.9813₀947359721432])=[-₀.36563242343139724, +₀.638446239₀39192₀6]\n",
      "(5, 6, 'L'): maybe ℝ f([+₀.932199937₀8924753, +1.₀4465₀6₀3₀8515589])=[-₀.344422₀459₀6976₀₀, +₀.322873119₀1519211]\n",
      "(5, 6, 'R'): maybe ℝ f([+1.₀77588₀3187763₀3₀, +1.174₀43₀71418₀2255])=[-₀.38651₀₀278₀625654, +₀.26983833814738256]\n"
     ]
    },
    {
     "data": {
      "text/plain": [
       "[[-2.₀4747853₀66389318, -1.9813₀947359721432],\n",
       " [+₀.932199937₀8924753, +1.₀4465₀6₀3₀8515589],\n",
       " [+1.₀77588₀3187763₀3₀, +1.174₀43₀71418₀2255]]"
      ]
     },
     "execution_count": 73,
     "metadata": {},
     "output_type": "execute_result"
    }
   ],
   "source": [
    "# f = lambda x: sin(x)*(x+cos(x))\n",
    "f = lambda x: -2.001 + 3 * x - x**3\n",
    "l, dbg = 0, False\n",
    "acc = []\n",
    "interval_newton_ext(f, I(-3, 3), 0.1)\n",
    "acc"
   ]
  },
  {
   "cell_type": "code",
   "execution_count": 74,
   "metadata": {},
   "outputs": [
    {
     "name": "stdout",
     "output_type": "stream",
     "text": [
      "\n",
      "(0, 1, 'R'): x0: [+₀.₀₀₀₀₀₀₀₀₀₀₀₀₀₀₀₀₀, +4.₀₀₀₀₀₀₀₀₀₀₀₀₀₀₀₀₀]\n",
      "(0, 1, 'R'): nx: [+1.5₀₀₀₀₀₀₀₀₀₀₀₀₀₀₀₀, +1.5₀₀₀₀₀₀₀₀₀₀₀₀₀₀₀₀]\n",
      "(0, 1, 'R'): x: [+1.5₀₀₀₀₀₀₀₀₀₀₀₀₀₀₀₀, +1.5₀₀₀₀₀₀₀₀₀₀₀₀₀₀₀₀] +0\n",
      "(0, 1, 'R'): no roots [+1.5₀₀₀₀₀₀₀₀₀₀₀₀₀₀₀₀, +1.5₀₀₀₀₀₀₀₀₀₀₀₀₀₀₀₀]\n"
     ]
    },
    {
     "data": {
      "text/plain": [
       "[]"
      ]
     },
     "execution_count": 74,
     "metadata": {},
     "output_type": "execute_result"
    }
   ],
   "source": [
    "f = lambda x: x**2-4*x+3\n",
    "l = 0\n",
    "dbg = True\n",
    "acc = []\n",
    "interval_newton_ext(f, I(0, 4), 0.01)\n",
    "acc"
   ]
  },
  {
   "cell_type": "markdown",
   "metadata": {},
   "source": [
    "# Why there is no 1 as a root?"
   ]
  },
  {
   "cell_type": "code",
   "execution_count": 75,
   "metadata": {},
   "outputs": [
    {
     "data": {
      "text/html": [
       "\n",
       "  <div id=\"a00d473d-3ba1-4922-9c99-cc5bc404d7d5\" data-root-id=\"p1251\" style=\"display: contents;\"></div>\n"
      ]
     },
     "metadata": {},
     "output_type": "display_data"
    },
    {
     "data": {
      "application/javascript": "(function(root) {\n  function embed_document(root) {\n  const docs_json = {\"5c39092b-d73a-40a8-a77b-5d905677c237\":{\"version\":\"3.2.1\",\"title\":\"Bokeh Application\",\"roots\":[{\"type\":\"object\",\"name\":\"Figure\",\"id\":\"p1251\",\"attributes\":{\"width\":800,\"height\":400,\"x_range\":{\"type\":\"object\",\"name\":\"DataRange1d\",\"id\":\"p1252\"},\"y_range\":{\"type\":\"object\",\"name\":\"DataRange1d\",\"id\":\"p1253\"},\"x_scale\":{\"type\":\"object\",\"name\":\"LinearScale\",\"id\":\"p1260\"},\"y_scale\":{\"type\":\"object\",\"name\":\"LinearScale\",\"id\":\"p1261\"},\"title\":{\"type\":\"object\",\"name\":\"Title\",\"id\":\"p1258\"},\"renderers\":[{\"type\":\"object\",\"name\":\"GlyphRenderer\",\"id\":\"p1285\",\"attributes\":{\"data_source\":{\"type\":\"object\",\"name\":\"ColumnDataSource\",\"id\":\"p1279\",\"attributes\":{\"selected\":{\"type\":\"object\",\"name\":\"Selection\",\"id\":\"p1280\",\"attributes\":{\"indices\":[],\"line_indices\":[]}},\"selection_policy\":{\"type\":\"object\",\"name\":\"UnionRenderers\",\"id\":\"p1281\"},\"data\":{\"type\":\"map\",\"entries\":[[\"x\",{\"type\":\"ndarray\",\"array\":{\"type\":\"bytes\",\"data\":\"AAAAAAAACMDFvJ0hMW8HwIl5O0Ni3gbATjbZZJNNBsAS83aGxLwFwNevFKj1KwXAm2yyySabBMBgKVDrVwoEwCTm7QyJeQPA6aKLLrroAsCtXylQ61cCwHIcx3EcxwHANtlkk002AcD7lQK1fqUAwMBSoNavFADACB988MEH/7+RmLczJOb9vxoS83aGxPy/o4suuuii+78sBWr9SoH6v7V+pUCtX/m/Pvjggw8++L/HcRzHcRz3v1DrVwrU+vW/2mSTTTbZ9L9j3s6QmLfzv+xXCtT6lfK/ddFFF1108b/+SoFav1LwvwyJeTtDYu6/IHzwwQcf7L8wb2dIzNvpv0Ri3s6QmOe/WFVVVVVV5b9oSMzbGRLjv3w7Q2LezuC/GF100UUX3b9AQ2LezpDYv2ApUOtXCtS/EB988MEHz79Q61cK1PrFv0BvZ0jM27m/AB988MEHn79Av1Kg1q+kPyDHcRzHcbw/QBdddNFFxz+ApUCtXynQP1i/UqDWr9Q/MNlkk0022T8Q83aGxLzdP3SGxLydIeE/ZJNNNtlk4z9QoNavFKjlP0CtXylQ6+c/LLrooosu6j8cx3Ecx3HsPwjU+pUCte4/fPDBBx988D/0dobEvJ3xP2j9SoFav/I/4IMPPvjg8z9YCtT6lQL1P9CQmLczJPY/RBdddNFF9z+8nSExb2f4PzQk5u0Mifk/qKqqqqqq+j8gMW9nSMz7P5i3MyTm7fw/ED744IMP/j+ExLydITH/P36lQK1fKQBAuuiiiy66AED2KwVq/UoBQDBvZ0jM2wFAbLLJJptsAkCo9SsFav0CQOQ4juM4jgNAHnzwwQcfBEBav1Kg1q8EQJYCtX6lQAVA0EUXXXTRBUAMiXk7Q2IGQEjM2xkS8wZAhA8++OCDB0C+UqDWrxQIQPqVArV+pQhANtlkk002CUByHMdxHMcJQKxfKVDrVwpA6KKLLrroCkAk5u0MiXkLQGApUOtXCgxAmmyyySabDEDWrxSo9SsNQBLzdobEvA1ATDbZZJNNDkCIeTtDYt4OQMS8nSExbw9AAAAAAAAAEEA=\"},\"shape\":[100],\"dtype\":\"float64\",\"order\":\"little\"}],[\"y\",{\"type\":\"ndarray\",\"array\":{\"type\":\"bytes\",\"data\":\"AAAAAAAAOEDCkIoPRUw3QBrrH2oZmzZADA/AD33sNUCU/GoAcEA1QLWzIDzyljRAbDThwgPwM0C8fqyUpEszQKOSgrHUqTJAInBjGZQKMkA4F0/M4m0xQOeHRcrA0zBALMJGEy48MEAVjKVOVU4vQAAn0wxtKS5AGlUWYaMJLUBjFm9L+O4rQNtq3ctr2SpAg1Jh4v3IKUBazfqOrr0oQGHbqdF9tydAl3xuqmu2JkD9sEgZeLolQJJ4OB6jwyRAVtM9uezRI0BKwVjqVOUiQG1CibHb/SFAv1bPDoEbIUBA/ioCRT4gQOFxOBdPzB5Aow1GVlEmHUDBz37BkIobQEC44lgN+RlAHsdxHMdxGEBY/CsMvvQWQPRXESjygRVA69khcGMZFEBEgl3kEbsSQPlQxIT9ZhFAD0ZWUSYdEEACwyaUGLsNQKlG991eUAtACRcegB/6CEArNJt6WrgGQAaebs0PiwRAolSYeD9yAkD4Vxh86W0AQB5Q3a8b/Pw/xok2GFlF+T/jXDwxi7f1P4HJ7vqxUvI/KJ+b6pot7j9Q3rJAuwfoP2BQI/jEM+I/4OrZIXBj2T/ANT8sUgbOP2DDXjTTGrU/gJruyWWPrr8g48H5do3Iv9Cp0X23F9S/OPwPvOBE279Y9M2bG+fgv6C3Onjd2eO/7EdO87V65r9IpQgNpcnov7DPacWqxuq/GMdxHMdx7L+UiyAS+srtvxgddqZD0u6/qHty2aOH779ApxWrGuvvv+CfXxuo/O+/kGVQKky8779I+OfXBirvvwhYJiTYRe6/0IQLD8AP7b+ofpeYvofrv4hFysDTrem/eNmjh/+B579oOiTtQQTlv2hoS/GaNOK/8MYyKBUm3r8QVxyrIT/Xv4ACp9a2aM+/gBZhowkXvr8AvlXFlcqUPwDHasjPhcU/ANHHLvnc1D9gpAw83ZrfP8DuAQZKfuU/YL5Wzw6B6z94YAJ93urwP0D7BUMqPvQ/eC+2uWq69z8w/RLhn1/7P2hkHLnJLf8/hDLpIHSSAUCcf5q9faIDQHAZorIBxwVAAAAAAAAACEA=\"},\"shape\":[100],\"dtype\":\"float64\",\"order\":\"little\"}]]}}},\"view\":{\"type\":\"object\",\"name\":\"CDSView\",\"id\":\"p1286\",\"attributes\":{\"filter\":{\"type\":\"object\",\"name\":\"AllIndices\",\"id\":\"p1287\"}}},\"glyph\":{\"type\":\"object\",\"name\":\"Line\",\"id\":\"p1282\",\"attributes\":{\"x\":{\"type\":\"field\",\"field\":\"x\"},\"y\":{\"type\":\"field\",\"field\":\"y\"},\"line_color\":\"#1f77b4\"}},\"nonselection_glyph\":{\"type\":\"object\",\"name\":\"Line\",\"id\":\"p1283\",\"attributes\":{\"x\":{\"type\":\"field\",\"field\":\"x\"},\"y\":{\"type\":\"field\",\"field\":\"y\"},\"line_color\":\"#1f77b4\",\"line_alpha\":0.1}},\"muted_glyph\":{\"type\":\"object\",\"name\":\"Line\",\"id\":\"p1284\",\"attributes\":{\"x\":{\"type\":\"field\",\"field\":\"x\"},\"y\":{\"type\":\"field\",\"field\":\"y\"},\"line_color\":\"#1f77b4\",\"line_alpha\":0.2}}}},{\"type\":\"object\",\"name\":\"GlyphRenderer\",\"id\":\"p1294\",\"attributes\":{\"data_source\":{\"type\":\"object\",\"name\":\"ColumnDataSource\",\"id\":\"p1288\",\"attributes\":{\"selected\":{\"type\":\"object\",\"name\":\"Selection\",\"id\":\"p1289\",\"attributes\":{\"indices\":[],\"line_indices\":[]}},\"selection_policy\":{\"type\":\"object\",\"name\":\"UnionRenderers\",\"id\":\"p1290\"},\"data\":{\"type\":\"map\",\"entries\":[[\"x\",{\"type\":\"ndarray\",\"array\":{\"type\":\"bytes\",\"data\":\"AAAAAAAACMDFvJ0hMW8HwIl5O0Ni3gbATjbZZJNNBsAS83aGxLwFwNevFKj1KwXAm2yyySabBMBgKVDrVwoEwCTm7QyJeQPA6aKLLrroAsCtXylQ61cCwHIcx3EcxwHANtlkk002AcD7lQK1fqUAwMBSoNavFADACB988MEH/7+RmLczJOb9vxoS83aGxPy/o4suuuii+78sBWr9SoH6v7V+pUCtX/m/Pvjggw8++L/HcRzHcRz3v1DrVwrU+vW/2mSTTTbZ9L9j3s6QmLfzv+xXCtT6lfK/ddFFF1108b/+SoFav1LwvwyJeTtDYu6/IHzwwQcf7L8wb2dIzNvpv0Ri3s6QmOe/WFVVVVVV5b9oSMzbGRLjv3w7Q2LezuC/GF100UUX3b9AQ2LezpDYv2ApUOtXCtS/EB988MEHz79Q61cK1PrFv0BvZ0jM27m/AB988MEHn79Av1Kg1q+kPyDHcRzHcbw/QBdddNFFxz+ApUCtXynQP1i/UqDWr9Q/MNlkk0022T8Q83aGxLzdP3SGxLydIeE/ZJNNNtlk4z9QoNavFKjlP0CtXylQ6+c/LLrooosu6j8cx3Ecx3HsPwjU+pUCte4/fPDBBx988D/0dobEvJ3xP2j9SoFav/I/4IMPPvjg8z9YCtT6lQL1P9CQmLczJPY/RBdddNFF9z+8nSExb2f4PzQk5u0Mifk/qKqqqqqq+j8gMW9nSMz7P5i3MyTm7fw/ED744IMP/j+ExLydITH/P36lQK1fKQBAuuiiiy66AED2KwVq/UoBQDBvZ0jM2wFAbLLJJptsAkCo9SsFav0CQOQ4juM4jgNAHnzwwQcfBEBav1Kg1q8EQJYCtX6lQAVA0EUXXXTRBUAMiXk7Q2IGQEjM2xkS8wZAhA8++OCDB0C+UqDWrxQIQPqVArV+pQhANtlkk002CUByHMdxHMcJQKxfKVDrVwpA6KKLLrroCkAk5u0MiXkLQGApUOtXCgxAmmyyySabDEDWrxSo9SsNQBLzdobEvA1ATDbZZJNNDkCIeTtDYt4OQMS8nSExbw9AAAAAAAAAEEA=\"},\"shape\":[100],\"dtype\":\"float64\",\"order\":\"little\"}],[\"y\",{\"type\":\"ndarray\",\"array\":{\"type\":\"bytes\",\"data\":\"AAAAAAAAJMBi3s6QmLcjwMS8nSExbyPAJ5tssskmI8CJeTtDYt4iwOxXCtT6lSLATjbZZJNNIsCwFKj1KwUiwBLzdobEvCHAdNFFF110IcDWrxSo9SshwDmO4ziO4yDAm2yyySabIMD+SoFav1IgwGApUOtXCiDAhA8++OCDH8BIzNsZEvMewA2JeTtDYh7A0kUXXXTRHcCWArV+pUAdwFq/UqDWrxzAH3zwwQcfHMDkOI7jOI4bwKj1KwVq/RrAbbLJJptsGsAyb2dIzNsZwPYrBWr9ShnAuuiiiy66GMB/pUCtXykYwENi3s6QmBfACB988MEHF8DM2xkS83YWwJGYtzMk5hXAVlVVVVVVFcAaEvN2hsQUwN/OkJi3MxTAo4suuuiiE8BoSMzbGRITwCwFav1KgRLA8cEHH3zwEcC1fqVArV8RwHo7Q2LezhDAPvjggw8+EMAGav1KgVoPwI7jOI7jOA7AGF100UUXDcCg1q8UqPULwCpQ61cK1ArAtMkmm2yyCcA8Q2LezpAIwMa8nSExbwfATjbZZJNNBsDYrxSo9SsFwGApUOtXCgTA6qKLLrroAsByHMdxHMcBwPyVArV+pQDACB988MEH/78YEvN2hsT8vzAFav1Kgfq/QPjggw8++L9Q61cK1Pr1v2DezpCYt/O/eNFFF1108b8QiXk7Q2LuvzBvZ0jM2+m/YFVVVVVV5b+AO0Ni3s7gv0BDYt7OkNi/AB988MEHz7+Ab2dIzNu5vwC/UqDWr6Q/QBdddNFFxz9gv1Kg1q/UPwDzdobEvN0/YJNNNtlk4z9ArV8pUOvnPyDHcRzHcew/ePDBBx988D9o/UqBWr/yP1gK1PqVAvU/QBdddNFF9z8wJObtDIn5PyAxb2dIzPs/ED744IMP/j98pUCtXykAQPQrBWr9SgFAbLLJJptsAkDkOI7jOI4DQFi/UqDWrwRA0EUXXXTRBUBIzNsZEvMGQMBSoNavFAhANNlkk002CUCsXylQ61cKQCTm7QyJeQtAmGyyySabDEAQ83aGxLwNQIh5O0Ni3g5AAAAAAAAAEEA=\"},\"shape\":[100],\"dtype\":\"float64\",\"order\":\"little\"}]]}}},\"view\":{\"type\":\"object\",\"name\":\"CDSView\",\"id\":\"p1295\",\"attributes\":{\"filter\":{\"type\":\"object\",\"name\":\"AllIndices\",\"id\":\"p1296\"}}},\"glyph\":{\"type\":\"object\",\"name\":\"Line\",\"id\":\"p1291\",\"attributes\":{\"x\":{\"type\":\"field\",\"field\":\"x\"},\"y\":{\"type\":\"field\",\"field\":\"y\"},\"line_color\":\"red\"}},\"nonselection_glyph\":{\"type\":\"object\",\"name\":\"Line\",\"id\":\"p1292\",\"attributes\":{\"x\":{\"type\":\"field\",\"field\":\"x\"},\"y\":{\"type\":\"field\",\"field\":\"y\"},\"line_color\":\"red\",\"line_alpha\":0.1}},\"muted_glyph\":{\"type\":\"object\",\"name\":\"Line\",\"id\":\"p1293\",\"attributes\":{\"x\":{\"type\":\"field\",\"field\":\"x\"},\"y\":{\"type\":\"field\",\"field\":\"y\"},\"line_color\":\"red\",\"line_alpha\":0.2}}}}],\"toolbar\":{\"type\":\"object\",\"name\":\"Toolbar\",\"id\":\"p1259\",\"attributes\":{\"tools\":[{\"type\":\"object\",\"name\":\"PanTool\",\"id\":\"p1272\"},{\"type\":\"object\",\"name\":\"WheelZoomTool\",\"id\":\"p1273\"},{\"type\":\"object\",\"name\":\"BoxZoomTool\",\"id\":\"p1274\",\"attributes\":{\"overlay\":{\"type\":\"object\",\"name\":\"BoxAnnotation\",\"id\":\"p1275\",\"attributes\":{\"syncable\":false,\"level\":\"overlay\",\"visible\":false,\"left_units\":\"canvas\",\"right_units\":\"canvas\",\"bottom_units\":\"canvas\",\"top_units\":\"canvas\",\"line_color\":\"black\",\"line_alpha\":1.0,\"line_width\":2,\"line_dash\":[4,4],\"fill_color\":\"lightgrey\",\"fill_alpha\":0.5}}}},{\"type\":\"object\",\"name\":\"SaveTool\",\"id\":\"p1276\"},{\"type\":\"object\",\"name\":\"ResetTool\",\"id\":\"p1277\"},{\"type\":\"object\",\"name\":\"HelpTool\",\"id\":\"p1278\"}]}},\"left\":[{\"type\":\"object\",\"name\":\"LinearAxis\",\"id\":\"p1267\",\"attributes\":{\"ticker\":{\"type\":\"object\",\"name\":\"BasicTicker\",\"id\":\"p1268\",\"attributes\":{\"mantissas\":[1,2,5]}},\"formatter\":{\"type\":\"object\",\"name\":\"BasicTickFormatter\",\"id\":\"p1269\"},\"major_label_policy\":{\"type\":\"object\",\"name\":\"AllLabels\",\"id\":\"p1270\"}}}],\"below\":[{\"type\":\"object\",\"name\":\"LinearAxis\",\"id\":\"p1262\",\"attributes\":{\"ticker\":{\"type\":\"object\",\"name\":\"BasicTicker\",\"id\":\"p1263\",\"attributes\":{\"mantissas\":[1,2,5]}},\"formatter\":{\"type\":\"object\",\"name\":\"BasicTickFormatter\",\"id\":\"p1264\"},\"major_label_policy\":{\"type\":\"object\",\"name\":\"AllLabels\",\"id\":\"p1265\"}}}],\"center\":[{\"type\":\"object\",\"name\":\"Grid\",\"id\":\"p1266\",\"attributes\":{\"axis\":{\"id\":\"p1262\"}}},{\"type\":\"object\",\"name\":\"Grid\",\"id\":\"p1271\",\"attributes\":{\"dimension\":1,\"axis\":{\"id\":\"p1267\"}}},{\"type\":\"object\",\"name\":\"Span\",\"id\":\"p1297\",\"attributes\":{\"location\":0,\"line_color\":\"green\"}}]}}]}};\n  const render_items = [{\"docid\":\"5c39092b-d73a-40a8-a77b-5d905677c237\",\"roots\":{\"p1251\":\"a00d473d-3ba1-4922-9c99-cc5bc404d7d5\"},\"root_ids\":[\"p1251\"]}];\n  root.Bokeh.embed.embed_items_notebook(docs_json, render_items);\n  }\n  if (root.Bokeh !== undefined) {\n    embed_document(root);\n  } else {\n    let attempts = 0;\n    const timer = setInterval(function(root) {\n      if (root.Bokeh !== undefined) {\n        clearInterval(timer);\n        embed_document(root);\n      } else {\n        attempts++;\n        if (attempts > 100) {\n          clearInterval(timer);\n          console.log(\"Bokeh: ERROR: Unable to run BokehJS code because BokehJS library is missing\");\n        }\n      }\n    }, 10, root)\n  }\n})(window);",
      "application/vnd.bokehjs_exec.v0+json": ""
     },
     "metadata": {
      "application/vnd.bokehjs_exec.v0+json": {
       "id": "p1251"
      }
     },
     "output_type": "display_data"
    }
   ],
   "source": [
    "x = np.linspace(-3, 4, 100)\n",
    "\n",
    "fig = figure(width=800, height=400)\n",
    "y, dy = f(AutoDiff(x, 1))\n",
    "fig.line(x, y)\n",
    "fig.line(x, dy, color='red')\n",
    "fig.add_layout(Span(location=0, dimension='width', line_color='green'))\n",
    "for r in acc:\n",
    "    _r, r_ = r\n",
    "    fig.segment(x0=_r, y0=0, x1=r_, y1=0, color='red', line_width=10)\n",
    "show(fig)\n"
   ]
  },
  {
   "cell_type": "code",
   "execution_count": 76,
   "metadata": {},
   "outputs": [
    {
     "name": "stdout",
     "output_type": "stream",
     "text": [
      "\n",
      "t1:438605750846393197247330254848.00000000000000000\n",
      "t2:-7917111779274714316500642684286795776.00000000000000000\n",
      "t3:7917111340668962079495381909214593024.00000000000000000\n",
      "t4:1.17260394005317869\n",
      "f:-1180591620717411303424.00000000000000000\n",
      "\n"
     ]
    }
   ],
   "source": [
    "a = 77617.0\n",
    "b = 33096.0\n",
    "t1 = 333.75*b**6\n",
    "t2 = a**2*(11*a**2*b**2-b**6-121*b**4-2)\n",
    "t3 = 5.5*b**8\n",
    "t4 = a /(2*b)\n",
    "f = t1 + t2 + t3 + t4\n",
    "\n",
    "print(f\"\"\"\n",
    "t1:{t1:17.17f}\n",
    "t2:{t2:17.17f}\n",
    "t3:{t3:17.17f}\n",
    "t4:{t4:17.17f}\n",
    "f:{f:17.17f}\n",
    "\"\"\")"
   ]
  },
  {
   "cell_type": "code",
   "execution_count": 77,
   "metadata": {},
   "outputs": [
    {
     "name": "stdout",
     "output_type": "stream",
     "text": [
      "\n",
      "t1:[+4386₀575₀846393126878586₀77184.₀₀₀₀₀₀₀₀₀₀₀₀₀₀₀₀₀, +4386₀575₀84639319724733₀254848.₀₀₀₀₀₀₀₀₀₀₀₀₀₀₀₀₀]\n",
      "t2:[-7917111779274715497₀922634₀1698₀992₀₀.₀₀₀₀₀₀₀₀₀₀₀₀₀₀₀₀₀, -79171117792747₀9594134159814641582₀8₀.₀₀₀₀₀₀₀₀₀₀₀₀₀₀₀₀₀]\n",
      "t3:[+791711134₀66896₀8989₀37611918₀32896₀₀.₀₀₀₀₀₀₀₀₀₀₀₀₀₀₀₀₀, +791711134₀668962₀794953819₀9214593₀24.₀₀₀₀₀₀₀₀₀₀₀₀₀₀₀₀₀]\n",
      "t4:[+1.1726₀394₀₀5317847, +1.1726₀394₀₀5317847]\n",
      "t1+t2+t3:[-4722366482869645213696.₀₀₀₀₀₀₀₀₀₀₀₀₀₀₀₀₀, +354177486215223443456₀.₀₀₀₀₀₀₀₀₀₀₀₀₀₀₀₀₀]\n",
      "f:[-4722366482869645213696.₀₀₀₀₀₀₀₀₀₀₀₀₀₀₀₀₀, +354177486215223443456₀.₀₀₀₀₀₀₀₀₀₀₀₀₀₀₀₀₀]\n",
      "\n"
     ]
    }
   ],
   "source": [
    "a = I(77617.0)\n",
    "b = I(33096.0)\n",
    "t1 = 333.75*b**6\n",
    "t2 = a**2*(11*a**2*b**2-b**6-121*b**4-2)\n",
    "t3 = 5.5*b**8\n",
    "t4 = a /(2*b)\n",
    "f = t1 + t2 + t3 + t4\n",
    "\n",
    "print(f\"\"\"\n",
    "t1:{t1}\n",
    "t2:{t2}\n",
    "t3:{t3}\n",
    "t4:{t4}\n",
    "t1+t2+t3:{t1+t2+t3+t4}\n",
    "f:{f}\n",
    "\"\"\")"
   ]
  },
  {
   "cell_type": "code",
   "execution_count": 78,
   "metadata": {},
   "outputs": [
    {
     "data": {
      "text/plain": [
       "[-4722366482869645213696.₀₀₀₀₀₀₀₀₀₀₀₀₀₀₀₀₀, +354177486215223443456₀.₀₀₀₀₀₀₀₀₀₀₀₀₀₀₀₀₀]"
      ]
     },
     "execution_count": 78,
     "metadata": {},
     "output_type": "execute_result"
    }
   ],
   "source": [
    "a = I(77617.0)\n",
    "b = I(33096.0)\n",
    "333.75*b**6 + a**2*(11*a**2*b**2-b**6-121*b**4-2) + 5.5*b**8 + a /(2*b)"
   ]
  },
  {
   "cell_type": "code",
   "execution_count": 79,
   "metadata": {},
   "outputs": [
    {
     "data": {
      "text/plain": [
       "([             -∞, +21.₀₀₀₀₀₀₀₀₀₀₀₀₀₀₀₀₀],\n",
       " [+12.₀₀₀₀₀₀₀₀₀₀₀₀₀₀₀₀₀,              +∞],\n",
       " [             -∞,              +∞])"
      ]
     },
     "execution_count": 79,
     "metadata": {},
     "output_type": "execute_result"
    }
   ],
   "source": [
    "l = I(10, 20) + I(-inf, 1)\n",
    "r = I(10, 20) + I(2, +inf)\n",
    "l, r, l | r"
   ]
  },
  {
   "cell_type": "code",
   "execution_count": 80,
   "metadata": {},
   "outputs": [
    {
     "data": {
      "text/plain": [
       "False"
      ]
     },
     "execution_count": 80,
     "metadata": {},
     "output_type": "execute_result"
    }
   ],
   "source": [
    "1e40+2446-1e40+1e28+6333-1e28 == 2446+6333"
   ]
  },
  {
   "cell_type": "code",
   "execution_count": 81,
   "metadata": {},
   "outputs": [
    {
     "data": {
      "text/plain": [
       "7.700000000000728"
      ]
     },
     "execution_count": 81,
     "metadata": {},
     "output_type": "execute_result"
    }
   ],
   "source": [
    "x = 0.10005*1e5\n",
    "y = 0.99973*1e4\n",
    "x-y"
   ]
  },
  {
   "cell_type": "code",
   "execution_count": 82,
   "metadata": {},
   "outputs": [
    {
     "data": {
      "text/plain": [
       "8.140196999998807"
      ]
     },
     "execution_count": 82,
     "metadata": {},
     "output_type": "execute_result"
    }
   ],
   "source": [
    "x = 0.1000548241*1e5\n",
    "y = 0.9997342213*1e4\n",
    "x-y"
   ]
  },
  {
   "cell_type": "code",
   "execution_count": 83,
   "metadata": {},
   "outputs": [
    {
     "data": {
      "text/plain": [
       "'0.10000000000000001'"
      ]
     },
     "execution_count": 83,
     "metadata": {},
     "output_type": "execute_result"
    }
   ],
   "source": [
    "f\"{1/10:17.17f}\""
   ]
  },
  {
   "cell_type": "code",
   "execution_count": 84,
   "metadata": {},
   "outputs": [
    {
     "data": {
      "text/plain": [
       "'0.00000000000000000'"
      ]
     },
     "execution_count": 84,
     "metadata": {},
     "output_type": "execute_result"
    }
   ],
   "source": [
    "f\"{40-1e40+1e40:17.17f}\""
   ]
  },
  {
   "cell_type": "code",
   "execution_count": null,
   "metadata": {},
   "outputs": [],
   "source": []
  }
 ],
 "metadata": {
  "kernelspec": {
   "display_name": "cuda_learn",
   "language": "python",
   "name": "python3"
  },
  "language_info": {
   "codemirror_mode": {
    "name": "ipython",
    "version": 3
   },
   "file_extension": ".py",
   "mimetype": "text/x-python",
   "name": "python",
   "nbconvert_exporter": "python",
   "pygments_lexer": "ipython3",
   "version": "3.11.4"
  },
  "orig_nbformat": 4
 },
 "nbformat": 4,
 "nbformat_minor": 2
}
