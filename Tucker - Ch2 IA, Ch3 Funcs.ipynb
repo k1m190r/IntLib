{
 "cells": [
  {
   "cell_type": "code",
   "execution_count": 45,
   "metadata": {},
   "outputs": [
    {
     "data": {
      "text/html": [
       "    <style>\n",
       "        .bk-notebook-logo {\n",
       "            display: block;\n",
       "            width: 20px;\n",
       "            height: 20px;\n",
       "            background-image: url(data:image/png;base64,iVBORw0KGgoAAAANSUhEUgAAABQAAAAUCAYAAACNiR0NAAAABHNCSVQICAgIfAhkiAAAAAlwSFlzAAALEgAACxIB0t1+/AAAABx0RVh0U29mdHdhcmUAQWRvYmUgRmlyZXdvcmtzIENTNui8sowAAAOkSURBVDiNjZRtaJVlGMd/1/08zzln5zjP1LWcU9N0NkN8m2CYjpgQYQXqSs0I84OLIC0hkEKoPtiH3gmKoiJDU7QpLgoLjLIQCpEsNJ1vqUOdO7ppbuec5+V+rj4ctwzd8IIbbi6u+8f1539dt3A78eXC7QizUF7gyV1fD1Yqg4JWz84yffhm0qkFqBogB9rM8tZdtwVsPUhWhGcFJngGeWrPzHm5oaMmkfEg1usvLFyc8jLRqDOMru7AyC8saQr7GG7f5fvDeH7Ej8CM66nIF+8yngt6HWaKh7k49Soy9nXurCi1o3qUbS3zWfrYeQDTB/Qj6kX6Ybhw4B+bOYoLKCC9H3Nu/leUTZ1JdRWkkn2ldcCamzrcf47KKXdAJllSlxAOkRgyHsGC/zRday5Qld9DyoM4/q/rUoy/CXh3jzOu3bHUVZeU+DEn8FInkPBFlu3+nW3Nw0mk6vCDiWg8CeJaxEwuHS3+z5RgY+YBR6V1Z1nxSOfoaPa4LASWxxdNp+VWTk7+4vzaou8v8PN+xo+KY2xsw6une2frhw05CTYOmQvsEhjhWjn0bmXPjpE1+kplmmkP3suftwTubK9Vq22qKmrBhpY4jvd5afdRA3wGjFAgcnTK2s4hY0/GPNIb0nErGMCRxWOOX64Z8RAC4oCXdklmEvcL8o0BfkNK4lUg9HTl+oPlQxdNo3Mg4Nv175e/1LDGzZen30MEjRUtmXSfiTVu1kK8W4txyV6BMKlbgk3lMwYCiusNy9fVfvvwMxv8Ynl6vxoByANLTWplvuj/nF9m2+PDtt1eiHPBr1oIfhCChQMBw6Aw0UulqTKZdfVvfG7VcfIqLG9bcldL/+pdWTLxLUy8Qq38heUIjh4XlzZxzQm19lLFlr8vdQ97rjZVOLf8nclzckbcD4wxXMidpX30sFd37Fv/GtwwhzhxGVAprjbg0gCAEeIgwCZyTV2Z1REEW8O4py0wsjeloKoMr6iCY6dP92H6Vw/oTyICIthibxjm/DfN9lVz8IqtqKYLUXfoKVMVQVVJOElGjrnnUt9T9wbgp8AyYKaGlqingHZU/uG2NTZSVqwHQTWkx9hxjkpWDaCg6Ckj5qebgBVbT3V3NNXMSiWSDdGV3hrtzla7J+duwPOToIg42ChPQOQjspnSlp1V+Gjdged7+8UN5CRAV7a5EdFNwCjEaBR27b3W890TE7g24NAP/mMDXRWrGoFPQI9ls/MWO2dWFAar/xcOIImbbpA3zgAAAABJRU5ErkJggg==);\n",
       "        }\n",
       "    </style>\n",
       "    <div>\n",
       "        <a href=\"https://bokeh.org\" target=\"_blank\" class=\"bk-notebook-logo\"></a>\n",
       "        <span id=\"ca8a8a6f-4d67-4e3c-aeb8-80fdfb561e48\">Loading BokehJS ...</span>\n",
       "    </div>\n"
      ]
     },
     "metadata": {},
     "output_type": "display_data"
    },
    {
     "data": {
      "application/javascript": "'use strict';\n(function(root) {\n  function now() {\n    return new Date();\n  }\n\n  const force = true;\n\n  if (typeof root._bokeh_onload_callbacks === \"undefined\" || force === true) {\n    root._bokeh_onload_callbacks = [];\n    root._bokeh_is_loading = undefined;\n  }\n\nconst JS_MIME_TYPE = 'application/javascript';\n  const HTML_MIME_TYPE = 'text/html';\n  const EXEC_MIME_TYPE = 'application/vnd.bokehjs_exec.v0+json';\n  const CLASS_NAME = 'output_bokeh rendered_html';\n\n  /**\n   * Render data to the DOM node\n   */\n  function render(props, node) {\n    const script = document.createElement(\"script\");\n    node.appendChild(script);\n  }\n\n  /**\n   * Handle when an output is cleared or removed\n   */\n  function handleClearOutput(event, handle) {\n    function drop(id) {\n      const view = Bokeh.index.get_by_id(id)\n      if (view != null) {\n        view.model.document.clear()\n        Bokeh.index.delete(view)\n      }\n    }\n\n    const cell = handle.cell;\n\n    const id = cell.output_area._bokeh_element_id;\n    const server_id = cell.output_area._bokeh_server_id;\n\n    // Clean up Bokeh references\n    if (id != null) {\n      drop(id)\n    }\n\n    if (server_id !== undefined) {\n      // Clean up Bokeh references\n      const cmd_clean = \"from bokeh.io.state import curstate; print(curstate().uuid_to_server['\" + server_id + \"'].get_sessions()[0].document.roots[0]._id)\";\n      cell.notebook.kernel.execute(cmd_clean, {\n        iopub: {\n          output: function(msg) {\n            const id = msg.content.text.trim()\n            drop(id)\n          }\n        }\n      });\n      // Destroy server and session\n      const cmd_destroy = \"import bokeh.io.notebook as ion; ion.destroy_server('\" + server_id + \"')\";\n      cell.notebook.kernel.execute(cmd_destroy);\n    }\n  }\n\n  /**\n   * Handle when a new output is added\n   */\n  function handleAddOutput(event, handle) {\n    const output_area = handle.output_area;\n    const output = handle.output;\n\n    // limit handleAddOutput to display_data with EXEC_MIME_TYPE content only\n    if ((output.output_type != \"display_data\") || (!Object.prototype.hasOwnProperty.call(output.data, EXEC_MIME_TYPE))) {\n      return\n    }\n\n    const toinsert = output_area.element.find(\".\" + CLASS_NAME.split(' ')[0]);\n\n    if (output.metadata[EXEC_MIME_TYPE][\"id\"] !== undefined) {\n      toinsert[toinsert.length - 1].firstChild.textContent = output.data[JS_MIME_TYPE];\n      // store reference to embed id on output_area\n      output_area._bokeh_element_id = output.metadata[EXEC_MIME_TYPE][\"id\"];\n    }\n    if (output.metadata[EXEC_MIME_TYPE][\"server_id\"] !== undefined) {\n      const bk_div = document.createElement(\"div\");\n      bk_div.innerHTML = output.data[HTML_MIME_TYPE];\n      const script_attrs = bk_div.children[0].attributes;\n      for (let i = 0; i < script_attrs.length; i++) {\n        toinsert[toinsert.length - 1].firstChild.setAttribute(script_attrs[i].name, script_attrs[i].value);\n        toinsert[toinsert.length - 1].firstChild.textContent = bk_div.children[0].textContent\n      }\n      // store reference to server id on output_area\n      output_area._bokeh_server_id = output.metadata[EXEC_MIME_TYPE][\"server_id\"];\n    }\n  }\n\n  function register_renderer(events, OutputArea) {\n\n    function append_mime(data, metadata, element) {\n      // create a DOM node to render to\n      const toinsert = this.create_output_subarea(\n        metadata,\n        CLASS_NAME,\n        EXEC_MIME_TYPE\n      );\n      this.keyboard_manager.register_events(toinsert);\n      // Render to node\n      const props = {data: data, metadata: metadata[EXEC_MIME_TYPE]};\n      render(props, toinsert[toinsert.length - 1]);\n      element.append(toinsert);\n      return toinsert\n    }\n\n    /* Handle when an output is cleared or removed */\n    events.on('clear_output.CodeCell', handleClearOutput);\n    events.on('delete.Cell', handleClearOutput);\n\n    /* Handle when a new output is added */\n    events.on('output_added.OutputArea', handleAddOutput);\n\n    /**\n     * Register the mime type and append_mime function with output_area\n     */\n    OutputArea.prototype.register_mime_type(EXEC_MIME_TYPE, append_mime, {\n      /* Is output safe? */\n      safe: true,\n      /* Index of renderer in `output_area.display_order` */\n      index: 0\n    });\n  }\n\n  // register the mime type if in Jupyter Notebook environment and previously unregistered\n  if (root.Jupyter !== undefined) {\n    const events = require('base/js/events');\n    const OutputArea = require('notebook/js/outputarea').OutputArea;\n\n    if (OutputArea.prototype.mime_types().indexOf(EXEC_MIME_TYPE) == -1) {\n      register_renderer(events, OutputArea);\n    }\n  }\n  if (typeof (root._bokeh_timeout) === \"undefined\" || force === true) {\n    root._bokeh_timeout = Date.now() + 5000;\n    root._bokeh_failed_load = false;\n  }\n\n  const NB_LOAD_WARNING = {'data': {'text/html':\n     \"<div style='background-color: #fdd'>\\n\"+\n     \"<p>\\n\"+\n     \"BokehJS does not appear to have successfully loaded. If loading BokehJS from CDN, this \\n\"+\n     \"may be due to a slow or bad network connection. Possible fixes:\\n\"+\n     \"</p>\\n\"+\n     \"<ul>\\n\"+\n     \"<li>re-rerun `output_notebook()` to attempt to load from CDN again, or</li>\\n\"+\n     \"<li>use INLINE resources instead, as so:</li>\\n\"+\n     \"</ul>\\n\"+\n     \"<code>\\n\"+\n     \"from bokeh.resources import INLINE\\n\"+\n     \"output_notebook(resources=INLINE)\\n\"+\n     \"</code>\\n\"+\n     \"</div>\"}};\n\n  function display_loaded(error = null) {\n    const el = document.getElementById(\"ca8a8a6f-4d67-4e3c-aeb8-80fdfb561e48\");\n    if (el != null) {\n      const html = (() => {\n        if (typeof root.Bokeh === \"undefined\") {\n          if (error == null) {\n            return \"BokehJS is loading ...\";\n          } else {\n            return \"BokehJS failed to load.\";\n          }\n        } else {\n          const prefix = `BokehJS ${root.Bokeh.version}`;\n          if (error == null) {\n            return `${prefix} successfully loaded.`;\n          } else {\n            return `${prefix} <b>encountered errors</b> while loading and may not function as expected.`;\n          }\n        }\n      })();\n      el.innerHTML = html;\n\n      if (error != null) {\n        const wrapper = document.createElement(\"div\");\n        wrapper.style.overflow = \"auto\";\n        wrapper.style.height = \"5em\";\n        wrapper.style.resize = \"vertical\";\n        const content = document.createElement(\"div\");\n        content.style.fontFamily = \"monospace\";\n        content.style.whiteSpace = \"pre-wrap\";\n        content.style.backgroundColor = \"rgb(255, 221, 221)\";\n        content.textContent = error.stack ?? error.toString();\n        wrapper.append(content);\n        el.append(wrapper);\n      }\n    } else if (Date.now() < root._bokeh_timeout) {\n      setTimeout(() => display_loaded(error), 100);\n    }\n  }\n\n  function run_callbacks() {\n    try {\n      root._bokeh_onload_callbacks.forEach(function(callback) {\n        if (callback != null)\n          callback();\n      });\n    } finally {\n      delete root._bokeh_onload_callbacks\n    }\n    console.debug(\"Bokeh: all callbacks have finished\");\n  }\n\n  function load_libs(css_urls, js_urls, callback) {\n    if (css_urls == null) css_urls = [];\n    if (js_urls == null) js_urls = [];\n\n    root._bokeh_onload_callbacks.push(callback);\n    if (root._bokeh_is_loading > 0) {\n      console.debug(\"Bokeh: BokehJS is being loaded, scheduling callback at\", now());\n      return null;\n    }\n    if (js_urls == null || js_urls.length === 0) {\n      run_callbacks();\n      return null;\n    }\n    console.debug(\"Bokeh: BokehJS not loaded, scheduling load and callback at\", now());\n    root._bokeh_is_loading = css_urls.length + js_urls.length;\n\n    function on_load() {\n      root._bokeh_is_loading--;\n      if (root._bokeh_is_loading === 0) {\n        console.debug(\"Bokeh: all BokehJS libraries/stylesheets loaded\");\n        run_callbacks()\n      }\n    }\n\n    function on_error(url) {\n      console.error(\"failed to load \" + url);\n    }\n\n    for (let i = 0; i < css_urls.length; i++) {\n      const url = css_urls[i];\n      const element = document.createElement(\"link\");\n      element.onload = on_load;\n      element.onerror = on_error.bind(null, url);\n      element.rel = \"stylesheet\";\n      element.type = \"text/css\";\n      element.href = url;\n      console.debug(\"Bokeh: injecting link tag for BokehJS stylesheet: \", url);\n      document.body.appendChild(element);\n    }\n\n    for (let i = 0; i < js_urls.length; i++) {\n      const url = js_urls[i];\n      const element = document.createElement('script');\n      element.onload = on_load;\n      element.onerror = on_error.bind(null, url);\n      element.async = false;\n      element.src = url;\n      console.debug(\"Bokeh: injecting script tag for BokehJS library: \", url);\n      document.head.appendChild(element);\n    }\n  };\n\n  function inject_raw_css(css) {\n    const element = document.createElement(\"style\");\n    element.appendChild(document.createTextNode(css));\n    document.body.appendChild(element);\n  }\n\n  const js_urls = [\"https://cdn.bokeh.org/bokeh/release/bokeh-3.4.2.min.js\", \"https://cdn.bokeh.org/bokeh/release/bokeh-gl-3.4.2.min.js\", \"https://cdn.bokeh.org/bokeh/release/bokeh-widgets-3.4.2.min.js\", \"https://cdn.bokeh.org/bokeh/release/bokeh-tables-3.4.2.min.js\", \"https://cdn.bokeh.org/bokeh/release/bokeh-mathjax-3.4.2.min.js\"];\n  const css_urls = [];\n\n  const inline_js = [    function(Bokeh) {\n      Bokeh.set_log_level(\"info\");\n    },\nfunction(Bokeh) {\n    }\n  ];\n\n  function run_inline_js() {\n    if (root.Bokeh !== undefined || force === true) {\n      try {\n            for (let i = 0; i < inline_js.length; i++) {\n      inline_js[i].call(root, root.Bokeh);\n    }\n\n      } catch (error) {display_loaded(error);throw error;\n      }if (force === true) {\n        display_loaded();\n      }} else if (Date.now() < root._bokeh_timeout) {\n      setTimeout(run_inline_js, 100);\n    } else if (!root._bokeh_failed_load) {\n      console.log(\"Bokeh: BokehJS failed to load within specified timeout.\");\n      root._bokeh_failed_load = true;\n    } else if (force !== true) {\n      const cell = $(document.getElementById(\"ca8a8a6f-4d67-4e3c-aeb8-80fdfb561e48\")).parents('.cell').data().cell;\n      cell.output_area.append_execute_result(NB_LOAD_WARNING)\n    }\n  }\n\n  if (root._bokeh_is_loading === 0) {\n    console.debug(\"Bokeh: BokehJS loaded, going straight to plotting\");\n    run_inline_js();\n  } else {\n    load_libs(css_urls, js_urls, function() {\n      console.debug(\"Bokeh: BokehJS plotting callback run at\", now());\n      run_inline_js();\n    });\n  }\n}(window));",
      "application/vnd.bokehjs_load.v0+json": ""
     },
     "metadata": {},
     "output_type": "display_data"
    }
   ],
   "source": [
    "import numpy as np\n",
    "from numpy import inf\n",
    "\n",
    "from bokeh.plotting import figure, output_notebook, show\n",
    "from bokeh.models import Span\n",
    "\n",
    "output_notebook()\n"
   ]
  },
  {
   "cell_type": "code",
   "execution_count": 46,
   "metadata": {},
   "outputs": [
    {
     "data": {
      "text/plain": [
       "<module 'GenFuncs' from 'c:\\\\Users\\\\k1m19\\\\OneDrive\\\\Desktop\\\\Numerical\\\\IntLib\\\\GenFuncs.py'>"
      ]
     },
     "execution_count": 46,
     "metadata": {},
     "output_type": "execute_result"
    }
   ],
   "source": [
    "# reload \n",
    "\n",
    "from importlib import reload\n",
    "\n",
    "import IntLib\n",
    "import AutoDiff\n",
    "import GenFuncs\n",
    "\n",
    "reload(IntLib)\n",
    "reload(AutoDiff)\n",
    "reload(GenFuncs)\n"
   ]
  },
  {
   "cell_type": "code",
   "execution_count": 47,
   "metadata": {},
   "outputs": [],
   "source": [
    "from IntLib import (\n",
    "    Interval,\n",
    "    round_down,\n",
    "    round_up,\n",
    "    round_nearest,\n",
    "    _pi_,\n",
    "    _e_,\n",
    "    _sqrt2_,\n",
    "    _has_zero,\n",
    "    _add,\n",
    "    _sub,\n",
    "    _mul,\n",
    "    _div_simple,\n",
    "    _div,\n",
    "    _sqrt,\n",
    "    _pow,\n",
    "    _exp,\n",
    "    _log,\n",
    "    _sin,\n",
    "    _cos,\n",
    ")\n",
    "\n",
    "from AutoDiff import (\n",
    "    AutoDiff,\n",
    "    _ensure_AD,\n",
    ")\n",
    "\n",
    "from GenFuncs import (\n",
    "    mag,\n",
    "    mig,\n",
    "    sqrt,\n",
    "    sin,\n",
    "    cos,\n",
    "    mid,\n",
    "    rad,\n",
    "    exp,\n",
    "    log,\n",
    "    atan,\n",
    ")\n",
    "\n",
    "\n",
    "IA = Interval"
   ]
  },
  {
   "cell_type": "code",
   "execution_count": 48,
   "metadata": {},
   "outputs": [
    {
     "data": {
      "text/plain": [
       "[-∞, -₀.₀₀₀₀₀₀₀₀₀₀₀₀₀₀₀₀₀]∪[+1.₀₀₀₀₀₀₀₀₀₀₀₀₀₀₀₀₀, +∞]"
      ]
     },
     "execution_count": 48,
     "metadata": {},
     "output_type": "execute_result"
    }
   ],
   "source": [
    "IA(-np.inf, 1) / IA(1, np.inf)\n",
    "IA(1, np.inf) / IA(-np.inf, 1)"
   ]
  },
  {
   "cell_type": "code",
   "execution_count": 49,
   "metadata": {},
   "outputs": [
    {
     "data": {
      "text/plain": [
       "(((np.float64(3.141592653589793), np.float64(3.141592653589794)),\n",
       "  (np.float64(2.718281828459045), np.float64(2.7182818284590455)),\n",
       "  (np.float64(1.414213562373095), np.float64(1.4142135623730951))),\n",
       " [False, True, False, True])"
      ]
     },
     "execution_count": 49,
     "metadata": {},
     "output_type": "execute_result"
    }
   ],
   "source": [
    "(    _pi_,\n",
    "    _e_,\n",
    "    _sqrt2_,\n",
    "), [_has_zero(a, b) for a, b in [(1, 2), (-1, 2), (1, -2), (-1, -2)]]"
   ]
  },
  {
   "cell_type": "code",
   "execution_count": 50,
   "metadata": {},
   "outputs": [
    {
     "data": {
      "text/plain": [
       "((1.0999999999999999, 1.1), (0.8999999999999999, 0.9))"
      ]
     },
     "execution_count": 50,
     "metadata": {},
     "output_type": "execute_result"
    }
   ],
   "source": [
    "(_add(0.1, 0.1, 1, 1), _sub(1, 1, 0.1, 0.1))"
   ]
  },
  {
   "cell_type": "code",
   "execution_count": 51,
   "metadata": {},
   "outputs": [
    {
     "data": {
      "text/plain": [
       "((0.1, 0.10000000000000009),\n",
       " (0.09999999999999999, 0.10000000000000009),\n",
       " (0.09999999999999999, 0.10000000000000009),\n",
       " (-inf, inf),\n",
       " (0.5, inf),\n",
       " (0.5, -1.0),\n",
       " (-inf, -1.0),\n",
       " (-inf, -1.0),\n",
       " (1.0, -1.0),\n",
       " (1.0, inf),\n",
       " (nan, nan))"
      ]
     },
     "execution_count": 51,
     "metadata": {},
     "output_type": "execute_result"
    }
   ],
   "source": [
    "(\n",
    "    _mul(0.1, 0.1, 1, 1),\n",
    "    _div_simple(1, 1, 10, 10),\n",
    "    _div(1, 1, 10, 10),\n",
    "    _div(-1, 1, -1, 1),\n",
    "    _div(-2, -1, -2, 0),\n",
    "    _div(-2, -1, -2, 1),\n",
    "    _div(-2, -1, 0, 1),\n",
    "    _div(1, 2, -1, 0),\n",
    "    _div(1, 2, -1, 1),\n",
    "    _div(1, 2, 0, 1),\n",
    "    _div(1,1,0,0),\n",
    ")"
   ]
  },
  {
   "cell_type": "code",
   "execution_count": 52,
   "metadata": {},
   "outputs": [
    {
     "data": {
      "text/plain": [
       "[-∞, -1.₀₀₀₀₀₀₀₀₀₀₀₀₀₀₀₀₀]∪[+9.₀₀₀₀₀₀₀₀₀₀₀₀₀₀₀₀₀, +∞]"
      ]
     },
     "execution_count": 52,
     "metadata": {},
     "output_type": "execute_result"
    }
   ],
   "source": [
    "# IA(0, 10) & IA(9, -1)\n",
    "IA(9, -1)"
   ]
  },
  {
   "cell_type": "code",
   "execution_count": 53,
   "metadata": {},
   "outputs": [
    {
     "data": {
      "text/plain": [
       "('union',\n",
       " [+1.₀₀₀₀₀₀₀₀₀₀₀₀₀₀₀₀₀, +7.₀₀₀₀₀₀₀₀₀₀₀₀₀₀₀₀₀],\n",
       " [+3.₀₀₀₀₀₀₀₀₀₀₀₀₀₀₀₀₀, +4.₀₀₀₀₀₀₀₀₀₀₀₀₀₀₀₀₀],\n",
       " [+3.₀₀₀₀₀₀₀₀₀₀₀₀₀₀₀₀₀, +4.₀₀₀₀₀₀₀₀₀₀₀₀₀₀₀₀₀],\n",
       " ∅,\n",
       " 'intersection',\n",
       " [+2.₀₀₀₀₀₀₀₀₀₀₀₀₀₀₀₀₀, +4.₀₀₀₀₀₀₀₀₀₀₀₀₀₀₀₀₀],\n",
       " ∅,\n",
       " ∅,\n",
       " ∅,\n",
       " ∅,\n",
       " 'dist',\n",
       " 3)"
      ]
     },
     "execution_count": 53,
     "metadata": {},
     "output_type": "execute_result"
    }
   ],
   "source": [
    "(\n",
    "    \"union\",\n",
    "    IA(1, 4) | IA(2, 7),  # [1, 4] ∪ [2, 7] = [1, 7],\n",
    "    IA() | IA(3, 4),  # ∅ ∪ [3, 4] = [3, 4],\n",
    "    IA(3, 4) | IA(),\n",
    "    IA() | IA(),  # ∅ ∪ ∅ = ∅,\n",
    "    \"intersection\",\n",
    "    IA(1, 4) & IA(2, 7),  # [1, 4] ∩ [2, 7] = [2, 4],\n",
    "    IA(1, 4) & IA(5, 7),  # [1, 4] ∩ [5, 7] = ∅,\n",
    "    IA(5, 7) & IA(1, 4),  # [5, 7] ∩ [1, 4] = ∅,\n",
    "    IA() & IA(3, 4),  # ∅ ∩ [3, 4] = ∅,\n",
    "    IA(3, 4) & IA(),  # ∅ ∩ [3, 4] = ∅,\n",
    "    \"dist\",\n",
    "    IA(3,4).dist(IA(5,7)), #\n",
    ")\n"
   ]
  },
  {
   "cell_type": "code",
   "execution_count": 54,
   "metadata": {},
   "outputs": [
    {
     "data": {
      "text/plain": [
       "('in', True, True, True, 'is_inclusion', True, False, True, True, True, True)"
      ]
     },
     "execution_count": 54,
     "metadata": {},
     "output_type": "execute_result"
    }
   ],
   "source": [
    "(\n",
    "    \"in\",\n",
    "    3 in IA(1, 4),  # 3 ∈ [1, 4] = True,\n",
    "    IA(3) in IA(1, 4),  # [3] ∈ [1, 4] = True,\n",
    "    3 in IA(2.9, 3.), \n",
    "    \"is_inclusion\",\n",
    "    IA(1,4).is_inclusion(3), # True\n",
    "    IA(1,4).is_inclusion(4), # False\n",
    "    0 in IA(-1,4), # True\n",
    "    0 in IA(0), # True\n",
    "    IA() in IA(0), # True\n",
    "    IA() in IA(), # True\n",
    "\n",
    ")"
   ]
  },
  {
   "cell_type": "code",
   "execution_count": 55,
   "metadata": {},
   "outputs": [
    {
     "data": {
      "text/plain": [
       "(('plus',\n",
       "  [+₀.29999999999999999, +4.4₀₀₀₀₀₀₀₀₀₀₀₀₀₀36],\n",
       "  [+3.39999999999999947, +7.29999999999999982],\n",
       "  [+3.39999999999999947, +7.29999999999999982]),\n",
       " ('minus',\n",
       "  [+1.₀₀₀₀₀₀₀₀₀₀₀₀₀₀₀₀₀, +3.₀₀₀₀₀₀₀₀₀₀₀₀₀₀₀₀₀],\n",
       "  [-3.2₀₀₀₀₀₀₀₀₀₀₀₀₀₀18, +₀.7₀₀₀₀₀₀₀₀₀₀₀₀₀₀18],\n",
       "  [-₀.7₀₀₀₀₀₀₀₀₀₀₀₀₀₀18, +3.2₀₀₀₀₀₀₀₀₀₀₀₀₀₀18]),\n",
       " ('mult',\n",
       "  [+8.₀₀₀₀₀₀₀₀₀₀₀₀₀₀₀₀₀, +15.₀₀₀₀₀₀₀₀₀₀₀₀₀₀₀₀₀],\n",
       "  [+₀.32999999999999996, +13.19999999999999929],\n",
       "  [+₀.32999999999999996, +13.19999999999999929]),\n",
       " ('div',\n",
       "  [+1.33333333333333326, +2.5₀₀₀₀₀₀₀₀₀₀₀₀₀₀₀₀],\n",
       "  [+₀.₀3₀3₀3₀3₀3₀3₀3₀3₀, +1.21212121212121238],\n",
       "  [+₀.82499999999999996, +32.99999999999999289]),\n",
       " ('entended div',\n",
       "  [+₀.₀9999999999999999, +₀.1₀₀₀₀₀₀₀₀₀₀₀₀₀₀₀9],\n",
       "  [             -∞,              +∞],\n",
       "  [+₀.5₀₀₀₀₀₀₀₀₀₀₀₀₀₀₀₀,              +∞],\n",
       "  [-∞, -1.₀₀₀₀₀₀₀₀₀₀₀₀₀₀₀₀₀]∪[+₀.5₀₀₀₀₀₀₀₀₀₀₀₀₀₀₀₀, +∞],\n",
       "  [             -∞, -1.₀₀₀₀₀₀₀₀₀₀₀₀₀₀₀₀₀],\n",
       "  [             -∞, -1.₀₀₀₀₀₀₀₀₀₀₀₀₀₀₀₀₀],\n",
       "  [-∞, -1.₀₀₀₀₀₀₀₀₀₀₀₀₀₀₀₀₀]∪[+1.₀₀₀₀₀₀₀₀₀₀₀₀₀₀₀₀₀, +∞],\n",
       "  [+1.₀₀₀₀₀₀₀₀₀₀₀₀₀₀₀₀₀,              +∞],\n",
       "  ∅))"
      ]
     },
     "execution_count": 55,
     "metadata": {},
     "output_type": "execute_result"
    }
   ],
   "source": [
    "(\n",
    "    \"plus\",\n",
    "    IA(0.1, 4) + IA(0.2, 0.4),\n",
    "    IA(0.1, 4) + 3.3,\n",
    "    3.3 + IA(0.1, 4),\n",
    "), (\n",
    "    \"minus\",\n",
    "    IA(4, 5) - IA(2, 3),\n",
    "    IA(0.1, 4) - 3.3,\n",
    "    3.3 - IA(0.1, 4),\n",
    "), (\n",
    "    \"mult\",\n",
    "    IA(4, 5) * IA(2, 3),\n",
    "    IA(0.1, 4) * 3.3,\n",
    "    3.3 * IA(0.1, 4),\n",
    "), (\n",
    "    \"div\",\n",
    "    IA(4, 5) / IA(2, 3),\n",
    "    IA(0.1, 4) / 3.3,\n",
    "    3.3 / IA(0.1, 4),\n",
    "), (\n",
    "    \"entended div\",\n",
    "    IA(1, 1)/IA(10, 10),\n",
    "    IA(-1, 1)/IA( -1, 1),\n",
    "    IA(-2, -1)/IA( -2, 0),\n",
    "    IA(-2, -1)/IA( -2, 1),\n",
    "    IA(-2, -1)/IA( 0, 1),\n",
    "    IA(1, 2)/IA( -1, 0),\n",
    "    IA(1, 2)/IA( -1, 1),\n",
    "    IA(1, 2)/IA( 0, 1),\n",
    "    IA(1,1)/IA(0,0),\n",
    "\n",
    "\n",
    ")\n"
   ]
  },
  {
   "cell_type": "code",
   "execution_count": 56,
   "metadata": {},
   "outputs": [
    {
     "data": {
      "text/plain": [
       "(('le le ge ge', True, False, True, True, True, False, False, True),\n",
       " ('mag mig abs exp',\n",
       "  3,\n",
       "  0.0,\n",
       "  0.0,\n",
       "  [+₀.₀₀₀₀₀₀₀₀₀₀₀₀₀₀₀₀₀, +3.₀₀₀₀₀₀₀₀₀₀₀₀₀₀₀₀₀],\n",
       "  [+1.₀₀₀₀₀₀₀₀₀₀₀₀₀₀₀₀₀, +3.₀₀₀₀₀₀₀₀₀₀₀₀₀₀₀₀₀],\n",
       "  [+7.389₀56₀9893₀64952, +2₀.₀8553692318766792]),\n",
       " ('exp sqrt log atan pow ∅',\n",
       "  [+2.718281828459₀45₀9, +7.389₀56₀9893₀65₀41],\n",
       "  [+1.₀₀₀₀₀₀₀₀₀₀₀₀₀₀₀₀₀, +1.414213562373₀9515],\n",
       "  [-₀.₀₀₀₀₀₀₀₀₀₀₀₀₀₀₀₀₀, +₀.69314718₀5599454₀],\n",
       "  [+₀.78539816339744828, +1.1₀7148717794₀9₀63],\n",
       "  [+₀.₀₀₀₀₀₀₀₀₀₀₀₀₀₀₀₀₀, +9.₀₀₀₀₀₀₀₀₀₀₀₀₀₀₀₀₀],\n",
       "  ∅))"
      ]
     },
     "execution_count": 56,
     "metadata": {},
     "output_type": "execute_result"
    }
   ],
   "source": [
    "\n",
    "(\n",
    "    \"le le ge ge\",\n",
    "    IA(-5, -4) <= IA(2, 3),\n",
    "    IA(4, 5) < IA(2, 3),\n",
    "    IA(4, 5) >= IA(2, 3),\n",
    "    IA(4, 5) > IA(2, 3),\n",
    "    1 <= IA(2, 3),\n",
    "    IA(4, 5) < 2,\n",
    "    2 >= IA(2, 3),\n",
    "    IA(4, 5) > 3,\n",
    "\n",
    "), (\n",
    "    \"mag mig abs exp\",\n",
    "    mag(IA(-2, 3)),\n",
    "    mig(IA(-2, 3)),\n",
    "    mig(IA(0, 1)),\n",
    "    abs(IA(-2, 3)),\n",
    "    abs(IA(1, 3)),\n",
    "    exp(IA(2, 3)),\n",
    "), (\n",
    "    \"exp sqrt log atan pow ∅\",\n",
    "    exp(IA(1, 2)),\n",
    "    sqrt(IA(1, 2)),\n",
    "    log(IA(1, 2)),\n",
    "    atan(IA(1, 2)),\n",
    "    IA(-2, 3) ** 2,\n",
    "    IA(),\n",
    ")\n"
   ]
  },
  {
   "cell_type": "code",
   "execution_count": 57,
   "metadata": {},
   "outputs": [
    {
     "data": {
      "text/plain": [
       "([+₀.84147₀9848₀795635, +1.₀₀₀₀₀₀₀₀₀₀₀₀₀₀₀₀₀],\n",
       " [-₀.41614683654714268, +₀.54₀3₀23₀586813599])"
      ]
     },
     "execution_count": 57,
     "metadata": {},
     "output_type": "execute_result"
    }
   ],
   "source": [
    "sin(IA(1, 2)), cos(IA(1, 2))"
   ]
  },
  {
   "cell_type": "code",
   "execution_count": 58,
   "metadata": {},
   "outputs": [],
   "source": [
    "a, b, c = IA(3, 4), IA(2, 5), IA(1)"
   ]
  },
  {
   "cell_type": "code",
   "execution_count": 59,
   "metadata": {},
   "outputs": [
    {
     "data": {
      "text/plain": [
       "([+3.₀₀₀₀₀₀₀₀₀₀₀₀₀₀₀₀₀, +4.₀₀₀₀₀₀₀₀₀₀₀₀₀₀₀₀₀],\n",
       " [+2.₀₀₀₀₀₀₀₀₀₀₀₀₀₀₀₀₀, +5.₀₀₀₀₀₀₀₀₀₀₀₀₀₀₀₀₀],\n",
       " [+1.₀₀₀₀₀₀₀₀₀₀₀₀₀₀₀₀₀, +1.₀₀₀₀₀₀₀₀₀₀₀₀₀₀₀₀₀])"
      ]
     },
     "execution_count": 59,
     "metadata": {},
     "output_type": "execute_result"
    }
   ],
   "source": [
    "a, b, c"
   ]
  },
  {
   "cell_type": "code",
   "execution_count": 60,
   "metadata": {},
   "outputs": [
    {
     "data": {
      "text/plain": [
       "([+5.₀₀₀₀₀₀₀₀₀₀₀₀₀₀₀₀₀, +9.₀₀₀₀₀₀₀₀₀₀₀₀₀₀₀₀₀],\n",
       " [-2.₀₀₀₀₀₀₀₀₀₀₀₀₀₀₀₀₀, +2.₀₀₀₀₀₀₀₀₀₀₀₀₀₀₀₀₀],\n",
       " [+6.₀₀₀₀₀₀₀₀₀₀₀₀₀₀₀₀₀, +2₀.₀₀₀₀₀₀₀₀₀₀₀₀₀₀₀₀₀],\n",
       " [+₀.59999999999999998, +2.₀₀₀₀₀₀₀₀₀₀₀₀₀₀₀₀₀])"
      ]
     },
     "execution_count": 60,
     "metadata": {},
     "output_type": "execute_result"
    }
   ],
   "source": [
    "(\n",
    "    a + b,\n",
    "    a - b,\n",
    "    a * b,\n",
    "    a / b,\n",
    ")"
   ]
  },
  {
   "cell_type": "code",
   "execution_count": 61,
   "metadata": {},
   "outputs": [
    {
     "data": {
      "text/plain": [
       "[+₀.₀9999999999999999, +₀.1₀₀₀₀₀₀₀₀₀₀₀₀₀₀₀9]"
      ]
     },
     "execution_count": 61,
     "metadata": {},
     "output_type": "execute_result"
    }
   ],
   "source": [
    "IA(1) / 10"
   ]
  },
  {
   "cell_type": "code",
   "execution_count": 62,
   "metadata": {},
   "outputs": [],
   "source": [
    "c = IA(0.25, 0.5)\n"
   ]
  },
  {
   "cell_type": "code",
   "execution_count": 63,
   "metadata": {},
   "outputs": [
    {
     "data": {
      "text/plain": [
       "([+6.75₀₀₀₀₀₀₀₀₀₀₀₀₀₀₀, +22.₀₀₀₀₀₀₀₀₀₀₀₀₀₀₀₀₀],\n",
       " [+6.75₀₀₀₀₀₀₀₀₀₀₀₀₀₀₀, +22.₀₀₀₀₀₀₀₀₀₀₀₀₀₀₀₀₀])"
      ]
     },
     "execution_count": 63,
     "metadata": {},
     "output_type": "execute_result"
    }
   ],
   "source": [
    "(\n",
    "    a * (b + c),\n",
    "    a * b + a * c,\n",
    ")"
   ]
  },
  {
   "cell_type": "code",
   "execution_count": 64,
   "metadata": {},
   "outputs": [
    {
     "data": {
      "text/plain": [
       "([+3.₀₀₀₀₀₀₀₀₀₀₀₀₀₀₀₀₀, +4.₀₀₀₀₀₀₀₀₀₀₀₀₀₀₀₀₀],\n",
       " [+2.₀₀₀₀₀₀₀₀₀₀₀₀₀₀₀₀₀, +5.₀₀₀₀₀₀₀₀₀₀₀₀₀₀₀₀₀],\n",
       " [+₀.25₀₀₀₀₀₀₀₀₀₀₀₀₀₀₀, +₀.5₀₀₀₀₀₀₀₀₀₀₀₀₀₀₀₀])"
      ]
     },
     "execution_count": 64,
     "metadata": {},
     "output_type": "execute_result"
    }
   ],
   "source": [
    "a, b, c"
   ]
  },
  {
   "cell_type": "code",
   "execution_count": 65,
   "metadata": {},
   "outputs": [
    {
     "data": {
      "text/plain": [
       "([+3.₀₀₀₀₀₀₀₀₀₀₀₀₀₀₀₀₀, +4.₀₀₀₀₀₀₀₀₀₀₀₀₀₀₀₀₀],\n",
       " [+2.₀₀₀₀₀₀₀₀₀₀₀₀₀₀₀₀₀, +5.₀₀₀₀₀₀₀₀₀₀₀₀₀₀₀₀₀],\n",
       " [+₀.25₀₀₀₀₀₀₀₀₀₀₀₀₀₀₀, +₀.5₀₀₀₀₀₀₀₀₀₀₀₀₀₀₀₀],\n",
       " '',\n",
       " [+2.25₀₀₀₀₀₀₀₀₀₀₀₀₀₀₀, +5.5₀₀₀₀₀₀₀₀₀₀₀₀₀₀₀₀],\n",
       " [+6.75₀₀₀₀₀₀₀₀₀₀₀₀₀₀₀, +22.₀₀₀₀₀₀₀₀₀₀₀₀₀₀₀₀₀])"
      ]
     },
     "execution_count": 65,
     "metadata": {},
     "output_type": "execute_result"
    }
   ],
   "source": [
    "(\n",
    "    a,\n",
    "    b,\n",
    "    c,\n",
    "    \"\",\n",
    "    b + c,\n",
    "    a * (b + c),\n",
    ")"
   ]
  },
  {
   "cell_type": "code",
   "execution_count": 66,
   "metadata": {},
   "outputs": [
    {
     "data": {
      "text/plain": [
       "([+3.₀₀₀₀₀₀₀₀₀₀₀₀₀₀₀₀₀, +4.₀₀₀₀₀₀₀₀₀₀₀₀₀₀₀₀₀],\n",
       " [+2.₀₀₀₀₀₀₀₀₀₀₀₀₀₀₀₀₀, +5.₀₀₀₀₀₀₀₀₀₀₀₀₀₀₀₀₀],\n",
       " [+₀.25₀₀₀₀₀₀₀₀₀₀₀₀₀₀₀, +₀.5₀₀₀₀₀₀₀₀₀₀₀₀₀₀₀₀],\n",
       " '',\n",
       " [+6.₀₀₀₀₀₀₀₀₀₀₀₀₀₀₀₀₀, +2₀.₀₀₀₀₀₀₀₀₀₀₀₀₀₀₀₀₀],\n",
       " [+₀.75₀₀₀₀₀₀₀₀₀₀₀₀₀₀₀, +2.₀₀₀₀₀₀₀₀₀₀₀₀₀₀₀₀₀],\n",
       " '',\n",
       " [+6.75₀₀₀₀₀₀₀₀₀₀₀₀₀₀₀, +22.₀₀₀₀₀₀₀₀₀₀₀₀₀₀₀₀₀])"
      ]
     },
     "execution_count": 66,
     "metadata": {},
     "output_type": "execute_result"
    }
   ],
   "source": [
    "(\n",
    "    a,\n",
    "    b,\n",
    "    c,\n",
    "    \"\",\n",
    "    a * b,\n",
    "    a * c,\n",
    "    \"\",\n",
    "    a * b + a * c,\n",
    ")"
   ]
  },
  {
   "cell_type": "code",
   "execution_count": 67,
   "metadata": {},
   "outputs": [
    {
     "data": {
      "text/plain": [
       "(False, False, True, True, False, True, False, False)"
      ]
     },
     "execution_count": 67,
     "metadata": {},
     "output_type": "execute_result"
    }
   ],
   "source": [
    "a, b, c = IA(1, 10), IA(-2, 3), IA(3, 5)\n",
    "(a == b, a == c, a != b, a != c, a <= b, b <= a, a < c, c < a)"
   ]
  },
  {
   "cell_type": "code",
   "execution_count": 68,
   "metadata": {},
   "outputs": [
    {
     "data": {
      "text/plain": [
       "(∅,\n",
       " [+2.₀₀₀₀₀₀₀₀₀₀₀₀₀₀₀₀₀, +3.₀₀₀₀₀₀₀₀₀₀₀₀₀₀₀₀₀],\n",
       " True,\n",
       " False,\n",
       " [+1.₀₀₀₀₀₀₀₀₀₀₀₀₀₀₀₀₀, +5.₀₀₀₀₀₀₀₀₀₀₀₀₀₀₀₀₀],\n",
       " [+1.₀₀₀₀₀₀₀₀₀₀₀₀₀₀₀₀₀, +5.₀₀₀₀₀₀₀₀₀₀₀₀₀₀₀₀₀])"
      ]
     },
     "execution_count": 68,
     "metadata": {},
     "output_type": "execute_result"
    }
   ],
   "source": [
    "a, b, c = IA(1, 3), IA(4, 5), IA(2, 5)\n",
    "(\n",
    "    a & b,\n",
    "    a & c,\n",
    "    (a & b).isempty,\n",
    "    (a & c).isempty,\n",
    "    a | b,\n",
    "    a | c,\n",
    ")"
   ]
  },
  {
   "cell_type": "markdown",
   "metadata": {},
   "source": [
    "# TODO\n",
    "- tests\n",
    "- deal with empty set\n",
    "- extened division ?\n",
    "- numpy arrays..."
   ]
  },
  {
   "cell_type": "code",
   "execution_count": 69,
   "metadata": {},
   "outputs": [
    {
     "name": "stdout",
     "output_type": "stream",
     "text": [
      "[0.1 0.1]\n",
      "[0.09999999 0.09999999]\n",
      "[0.1 0.1]\n"
     ]
    },
    {
     "data": {
      "text/plain": [
       "0"
      ]
     },
     "execution_count": 69,
     "metadata": {},
     "output_type": "execute_result"
    }
   ],
   "source": [
    "a = np.array([1, 1], dtype=np.float32)\n",
    "b = np.array([10, 10], dtype=np.float32)\n",
    "c = np.array([0, 0], dtype=np.float32)\n",
    "print(a/b)\n",
    "round_down()\n",
    "print(a/b)\n",
    "round_up()\n",
    "print(a/b)\n",
    "round_nearest()\n"
   ]
  },
  {
   "cell_type": "code",
   "execution_count": 70,
   "metadata": {},
   "outputs": [],
   "source": [
    "f1 = lambda x: 1 - x**2\n",
    "f2 = lambda x: 1 - x * x\n",
    "f3 = lambda x: (1 - x) * (1 + x)"
   ]
  },
  {
   "cell_type": "code",
   "execution_count": 71,
   "metadata": {},
   "outputs": [
    {
     "data": {
      "text/plain": [
       "([-₀.₀₀₀₀₀₀₀₀₀₀₀₀₀₀₀₀₀, +1.₀₀₀₀₀₀₀₀₀₀₀₀₀₀₀₀₀],\n",
       " [-₀.₀₀₀₀₀₀₀₀₀₀₀₀₀₀₀₀₀, +2.₀₀₀₀₀₀₀₀₀₀₀₀₀₀₀₀₀],\n",
       " [+₀.₀₀₀₀₀₀₀₀₀₀₀₀₀₀₀₀₀, +4.₀₀₀₀₀₀₀₀₀₀₀₀₀₀₀₀₀])"
      ]
     },
     "execution_count": 71,
     "metadata": {},
     "output_type": "execute_result"
    }
   ],
   "source": [
    "(\n",
    "    f1(IA(-1, 1)),\n",
    "    f2(IA(-1, 1)),\n",
    "    f3(IA(-1, 1)),\n",
    ")"
   ]
  },
  {
   "cell_type": "code",
   "execution_count": 72,
   "metadata": {},
   "outputs": [
    {
     "data": {
      "text/plain": [
       "[+2.718281828459₀45₀9, +2.718281828459₀4553]"
      ]
     },
     "execution_count": 72,
     "metadata": {},
     "output_type": "execute_result"
    }
   ],
   "source": [
    "exp(IA(1))"
   ]
  },
  {
   "cell_type": "code",
   "execution_count": 73,
   "metadata": {},
   "outputs": [
    {
     "data": {
      "text/plain": [
       "[+1.414213562373₀9492, +1.414213562373₀9515]"
      ]
     },
     "execution_count": 73,
     "metadata": {},
     "output_type": "execute_result"
    }
   ],
   "source": [
    "sqrt(IA(2))"
   ]
  },
  {
   "cell_type": "code",
   "execution_count": 74,
   "metadata": {},
   "outputs": [
    {
     "data": {
      "text/plain": [
       "[+₀.₀9999999999999999, +₀.1₀₀₀₀₀₀₀₀₀₀₀₀₀₀₀9]"
      ]
     },
     "execution_count": 74,
     "metadata": {},
     "output_type": "execute_result"
    }
   ],
   "source": [
    "1/IA(10)"
   ]
  },
  {
   "cell_type": "code",
   "execution_count": 75,
   "metadata": {},
   "outputs": [],
   "source": [
    "def f(x):\n",
    "    return x /(1+x**2)"
   ]
  },
  {
   "cell_type": "code",
   "execution_count": 76,
   "metadata": {},
   "outputs": [
    {
     "data": {
      "text/plain": [
       "[+₀.19999999999999998, +1.₀₀₀₀₀₀₀₀₀₀₀₀₀₀₀₀₀]"
      ]
     },
     "execution_count": 76,
     "metadata": {},
     "output_type": "execute_result"
    }
   ],
   "source": [
    "f(IA(1,2))"
   ]
  },
  {
   "cell_type": "code",
   "execution_count": 77,
   "metadata": {},
   "outputs": [
    {
     "data": {
      "text/plain": [
       "[-₀.₀₀₀₀₀₀₀₀₀₀₀₀₀₀₀₀₀, +1.₀₀₀₀₀₀₀₀₀₀₀₀₀₀₀₀₀]"
      ]
     },
     "execution_count": 77,
     "metadata": {},
     "output_type": "execute_result"
    }
   ],
   "source": [
    "1-IA(-1,1)**2"
   ]
  },
  {
   "cell_type": "code",
   "execution_count": 78,
   "metadata": {},
   "outputs": [
    {
     "data": {
      "text/plain": [
       "[-₀.₀₀₀₀₀₀₀₀₀₀₀₀₀₀₀₀₀, +2.₀₀₀₀₀₀₀₀₀₀₀₀₀₀₀₀₀]"
      ]
     },
     "execution_count": 78,
     "metadata": {},
     "output_type": "execute_result"
    }
   ],
   "source": [
    "1-IA(-1,1)*IA(-1,1)"
   ]
  },
  {
   "cell_type": "code",
   "execution_count": 79,
   "metadata": {},
   "outputs": [
    {
     "data": {
      "text/plain": [
       "[+₀.₀₀₀₀₀₀₀₀₀₀₀₀₀₀₀₀₀, +4.₀₀₀₀₀₀₀₀₀₀₀₀₀₀₀₀₀]"
      ]
     },
     "execution_count": 79,
     "metadata": {},
     "output_type": "execute_result"
    }
   ],
   "source": [
    "(1-IA(-1,1))*(1+IA(-1,1))"
   ]
  },
  {
   "cell_type": "code",
   "execution_count": 80,
   "metadata": {},
   "outputs": [
    {
     "data": {
      "text/plain": [
       "[             -∞,              +∞]"
      ]
     },
     "execution_count": 80,
     "metadata": {},
     "output_type": "execute_result"
    }
   ],
   "source": [
    "def F(x):\n",
    "    pi = IA(*_pi_)\n",
    "    return (x * pi).sin() / x\n",
    "\n",
    "F(IA(-1,1))"
   ]
  },
  {
   "cell_type": "code",
   "execution_count": 81,
   "metadata": {},
   "outputs": [
    {
     "data": {
      "text/plain": [
       "[+₀.65818692141777924, +1.4794255386₀42₀3₀1]"
      ]
     },
     "execution_count": 81,
     "metadata": {},
     "output_type": "execute_result"
    }
   ],
   "source": [
    "def F(x):\n",
    "    return (sin(x)-x**2+1)*cos(x)\n",
    "\n",
    "F(IA(0,0.5))"
   ]
  },
  {
   "cell_type": "code",
   "execution_count": 82,
   "metadata": {},
   "outputs": [
    {
     "name": "stdout",
     "output_type": "stream",
     "text": [
      "NotImplementedError: extended sqrt\n"
     ]
    }
   ],
   "source": [
    "def F(x):\n",
    "    return sqrt(x+sin(2*x))\n",
    "\n",
    "try:\n",
    "    F(IA(0,2))\n",
    "except NotImplementedError as e:\n",
    "    print(f\"NotImplementedError: {e}\")"
   ]
  },
  {
   "cell_type": "code",
   "execution_count": 83,
   "metadata": {},
   "outputs": [
    {
     "data": {
      "text/plain": [
       "([+₀.₀₀₀₀₀₀₀₀₀₀₀₀₀₀₀₀₀, +1.414213562373₀9515],\n",
       " [+₀.49315₀59₀27853819, +1.7₀566627₀64783161])"
      ]
     },
     "execution_count": 83,
     "metadata": {},
     "output_type": "execute_result"
    }
   ],
   "source": [
    "F(IA(0,1)), F(IA(1,2))"
   ]
  },
  {
   "cell_type": "code",
   "execution_count": 84,
   "metadata": {},
   "outputs": [
    {
     "data": {
      "text/plain": [
       "[+₀.₀₀₀₀₀₀₀₀₀₀₀₀₀₀₀₀₀, +1.7₀566627₀64783161]"
      ]
     },
     "execution_count": 84,
     "metadata": {},
     "output_type": "execute_result"
    }
   ],
   "source": [
    "F(IA(0,1)) | F(IA(1,2))"
   ]
  },
  {
   "cell_type": "code",
   "execution_count": 85,
   "metadata": {},
   "outputs": [
    {
     "data": {
      "text/html": [
       "\n",
       "  <div id=\"b1c98519-8e02-43fb-ad78-fa2a23b70d57\" data-root-id=\"p1044\" style=\"display: contents;\"></div>\n"
      ]
     },
     "metadata": {},
     "output_type": "display_data"
    },
    {
     "data": {
      "application/javascript": "(function(root) {\n  function embed_document(root) {\n  const docs_json = {\"a2f148c1-6575-448c-ad1d-30674e1bff82\":{\"version\":\"3.4.2\",\"title\":\"Bokeh Application\",\"roots\":[{\"type\":\"object\",\"name\":\"Figure\",\"id\":\"p1044\",\"attributes\":{\"width\":800,\"height\":400,\"x_range\":{\"type\":\"object\",\"name\":\"DataRange1d\",\"id\":\"p1045\"},\"y_range\":{\"type\":\"object\",\"name\":\"DataRange1d\",\"id\":\"p1046\"},\"x_scale\":{\"type\":\"object\",\"name\":\"LinearScale\",\"id\":\"p1053\"},\"y_scale\":{\"type\":\"object\",\"name\":\"LinearScale\",\"id\":\"p1054\"},\"title\":{\"type\":\"object\",\"name\":\"Title\",\"id\":\"p1051\"},\"renderers\":[{\"type\":\"object\",\"name\":\"GlyphRenderer\",\"id\":\"p1082\",\"attributes\":{\"data_source\":{\"type\":\"object\",\"name\":\"ColumnDataSource\",\"id\":\"p1076\",\"attributes\":{\"selected\":{\"type\":\"object\",\"name\":\"Selection\",\"id\":\"p1077\",\"attributes\":{\"indices\":[],\"line_indices\":[]}},\"selection_policy\":{\"type\":\"object\",\"name\":\"UnionRenderers\",\"id\":\"p1078\"},\"data\":{\"type\":\"map\",\"entries\":[[\"x\",{\"type\":\"ndarray\",\"array\":{\"type\":\"bytes\",\"data\":\"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\"},\"shape\":[1000],\"dtype\":\"float64\",\"order\":\"little\"}],[\"y\",{\"type\":\"ndarray\",\"array\":{\"type\":\"bytes\",\"data\":\"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\"},\"shape\":[1000],\"dtype\":\"float64\",\"order\":\"little\"}]]}}},\"view\":{\"type\":\"object\",\"name\":\"CDSView\",\"id\":\"p1083\",\"attributes\":{\"filter\":{\"type\":\"object\",\"name\":\"AllIndices\",\"id\":\"p1084\"}}},\"glyph\":{\"type\":\"object\",\"name\":\"Line\",\"id\":\"p1079\",\"attributes\":{\"x\":{\"type\":\"field\",\"field\":\"x\"},\"y\":{\"type\":\"field\",\"field\":\"y\"},\"line_color\":\"#1f77b4\"}},\"nonselection_glyph\":{\"type\":\"object\",\"name\":\"Line\",\"id\":\"p1080\",\"attributes\":{\"x\":{\"type\":\"field\",\"field\":\"x\"},\"y\":{\"type\":\"field\",\"field\":\"y\"},\"line_color\":\"#1f77b4\",\"line_alpha\":0.1}},\"muted_glyph\":{\"type\":\"object\",\"name\":\"Line\",\"id\":\"p1081\",\"attributes\":{\"x\":{\"type\":\"field\",\"field\":\"x\"},\"y\":{\"type\":\"field\",\"field\":\"y\"},\"line_color\":\"#1f77b4\",\"line_alpha\":0.2}}}}],\"toolbar\":{\"type\":\"object\",\"name\":\"Toolbar\",\"id\":\"p1052\",\"attributes\":{\"tools\":[{\"type\":\"object\",\"name\":\"PanTool\",\"id\":\"p1065\"},{\"type\":\"object\",\"name\":\"WheelZoomTool\",\"id\":\"p1066\",\"attributes\":{\"renderers\":\"auto\"}},{\"type\":\"object\",\"name\":\"BoxZoomTool\",\"id\":\"p1067\",\"attributes\":{\"overlay\":{\"type\":\"object\",\"name\":\"BoxAnnotation\",\"id\":\"p1068\",\"attributes\":{\"syncable\":false,\"level\":\"overlay\",\"visible\":false,\"left\":{\"type\":\"number\",\"value\":\"nan\"},\"right\":{\"type\":\"number\",\"value\":\"nan\"},\"top\":{\"type\":\"number\",\"value\":\"nan\"},\"bottom\":{\"type\":\"number\",\"value\":\"nan\"},\"left_units\":\"canvas\",\"right_units\":\"canvas\",\"top_units\":\"canvas\",\"bottom_units\":\"canvas\",\"line_color\":\"black\",\"line_alpha\":1.0,\"line_width\":2,\"line_dash\":[4,4],\"fill_color\":\"lightgrey\",\"fill_alpha\":0.5}}}},{\"type\":\"object\",\"name\":\"SaveTool\",\"id\":\"p1073\"},{\"type\":\"object\",\"name\":\"ResetTool\",\"id\":\"p1074\"},{\"type\":\"object\",\"name\":\"HelpTool\",\"id\":\"p1075\"}]}},\"left\":[{\"type\":\"object\",\"name\":\"LinearAxis\",\"id\":\"p1060\",\"attributes\":{\"ticker\":{\"type\":\"object\",\"name\":\"BasicTicker\",\"id\":\"p1061\",\"attributes\":{\"mantissas\":[1,2,5]}},\"formatter\":{\"type\":\"object\",\"name\":\"BasicTickFormatter\",\"id\":\"p1062\"},\"major_label_policy\":{\"type\":\"object\",\"name\":\"AllLabels\",\"id\":\"p1063\"}}}],\"below\":[{\"type\":\"object\",\"name\":\"LinearAxis\",\"id\":\"p1055\",\"attributes\":{\"ticker\":{\"type\":\"object\",\"name\":\"BasicTicker\",\"id\":\"p1056\",\"attributes\":{\"mantissas\":[1,2,5]}},\"formatter\":{\"type\":\"object\",\"name\":\"BasicTickFormatter\",\"id\":\"p1057\"},\"major_label_policy\":{\"type\":\"object\",\"name\":\"AllLabels\",\"id\":\"p1058\"}}}],\"center\":[{\"type\":\"object\",\"name\":\"Grid\",\"id\":\"p1059\",\"attributes\":{\"axis\":{\"id\":\"p1055\"}}},{\"type\":\"object\",\"name\":\"Grid\",\"id\":\"p1064\",\"attributes\":{\"dimension\":1,\"axis\":{\"id\":\"p1060\"}}}]}}]}};\n  const render_items = [{\"docid\":\"a2f148c1-6575-448c-ad1d-30674e1bff82\",\"roots\":{\"p1044\":\"b1c98519-8e02-43fb-ad78-fa2a23b70d57\"},\"root_ids\":[\"p1044\"]}];\n  void root.Bokeh.embed.embed_items_notebook(docs_json, render_items);\n  }\n  if (root.Bokeh !== undefined) {\n    embed_document(root);\n  } else {\n    let attempts = 0;\n    const timer = setInterval(function(root) {\n      if (root.Bokeh !== undefined) {\n        clearInterval(timer);\n        embed_document(root);\n      } else {\n        attempts++;\n        if (attempts > 100) {\n          clearInterval(timer);\n          console.log(\"Bokeh: ERROR: Unable to run BokehJS code because BokehJS library is missing\");\n        }\n      }\n    }, 10, root)\n  }\n})(window);",
      "application/vnd.bokehjs_exec.v0+json": ""
     },
     "metadata": {
      "application/vnd.bokehjs_exec.v0+json": {
       "id": "p1044"
      }
     },
     "output_type": "display_data"
    }
   ],
   "source": [
    "x = np.linspace(-5, 5, 1000)\n",
    "\n",
    "f = lambda x: cos(x) ** 3 + sin(x)\n",
    "\n",
    "\n",
    "fig = figure(width=800, height=400)\n",
    "fig.line(x, f(x))\n",
    "show(fig)"
   ]
  },
  {
   "cell_type": "code",
   "execution_count": null,
   "metadata": {},
   "outputs": [],
   "source": []
  },
  {
   "cell_type": "code",
   "execution_count": 86,
   "metadata": {},
   "outputs": [
    {
     "name": "stdout",
     "output_type": "stream",
     "text": [
      "\n",
      "t1:438605750846393197247330254848.00000000000000000\n",
      "t2:-7917111779274714316500642684286795776.00000000000000000\n",
      "t3:7917111340668962079495381909214593024.00000000000000000\n",
      "t4:1.17260394005317869\n",
      "f:-1180591620717411303424.00000000000000000\n",
      "\n"
     ]
    }
   ],
   "source": [
    "a = 77617.0\n",
    "b = 33096.0\n",
    "t1 = 333.75*b**6\n",
    "t2 = a**2*(11*a**2*b**2-b**6-121*b**4-2)\n",
    "t3 = 5.5*b**8\n",
    "t4 = a /(2*b)\n",
    "f = t1 + t2 + t3 + t4\n",
    "\n",
    "print(f\"\"\"\n",
    "t1:{t1:17.17f}\n",
    "t2:{t2:17.17f}\n",
    "t3:{t3:17.17f}\n",
    "t4:{t4:17.17f}\n",
    "f:{f:17.17f}\n",
    "\"\"\")"
   ]
  },
  {
   "cell_type": "code",
   "execution_count": 87,
   "metadata": {},
   "outputs": [
    {
     "name": "stdout",
     "output_type": "stream",
     "text": [
      "\n",
      "t1:[+4386₀575₀846393126878586₀77184.₀₀₀₀₀₀₀₀₀₀₀₀₀₀₀₀₀, +4386₀575₀84639319724733₀254848.₀₀₀₀₀₀₀₀₀₀₀₀₀₀₀₀₀]\n",
      "t2:[-7917111779274715497₀922634₀1698₀992₀₀.₀₀₀₀₀₀₀₀₀₀₀₀₀₀₀₀₀, -79171117792747₀9594134159814641582₀8₀.₀₀₀₀₀₀₀₀₀₀₀₀₀₀₀₀₀]\n",
      "t3:[+791711134₀66896₀8989₀37611918₀32896₀₀.₀₀₀₀₀₀₀₀₀₀₀₀₀₀₀₀₀, +791711134₀668962₀794953819₀9214593₀24.₀₀₀₀₀₀₀₀₀₀₀₀₀₀₀₀₀]\n",
      "t4:[+1.1726₀394₀₀5317847, +1.1726₀394₀₀5317847]\n",
      "t1+t2+t3:[-4722366482869645213696.₀₀₀₀₀₀₀₀₀₀₀₀₀₀₀₀₀, +354177486215223443456₀.₀₀₀₀₀₀₀₀₀₀₀₀₀₀₀₀₀]\n",
      "f:[-4722366482869645213696.₀₀₀₀₀₀₀₀₀₀₀₀₀₀₀₀₀, +354177486215223443456₀.₀₀₀₀₀₀₀₀₀₀₀₀₀₀₀₀₀]\n",
      "\n"
     ]
    }
   ],
   "source": [
    "a = IA(77617.0)\n",
    "b = IA(33096.0)\n",
    "t1 = 333.75*b**6\n",
    "t2 = a**2*(11*a**2*b**2-b**6-121*b**4-2)\n",
    "t3 = 5.5*b**8\n",
    "t4 = a /(2*b)\n",
    "f = t1 + t2 + t3 + t4\n",
    "\n",
    "print(f\"\"\"\n",
    "t1:{t1}\n",
    "t2:{t2}\n",
    "t3:{t3}\n",
    "t4:{t4}\n",
    "t1+t2+t3:{t1+t2+t3+t4}\n",
    "f:{f}\n",
    "\"\"\")"
   ]
  },
  {
   "cell_type": "code",
   "execution_count": 88,
   "metadata": {},
   "outputs": [
    {
     "data": {
      "text/plain": [
       "[-4722366482869645213696.₀₀₀₀₀₀₀₀₀₀₀₀₀₀₀₀₀, +354177486215223443456₀.₀₀₀₀₀₀₀₀₀₀₀₀₀₀₀₀₀]"
      ]
     },
     "execution_count": 88,
     "metadata": {},
     "output_type": "execute_result"
    }
   ],
   "source": [
    "a = IA(77617.0)\n",
    "b = IA(33096.0)\n",
    "333.75*b**6 + a**2*(11*a**2*b**2-b**6-121*b**4-2) + 5.5*b**8 + a /(2*b)"
   ]
  },
  {
   "cell_type": "code",
   "execution_count": null,
   "metadata": {},
   "outputs": [],
   "source": []
  },
  {
   "cell_type": "code",
   "execution_count": null,
   "metadata": {},
   "outputs": [],
   "source": []
  }
 ],
 "metadata": {
  "kernelspec": {
   "display_name": "cuda_learn",
   "language": "python",
   "name": "python3"
  },
  "language_info": {
   "codemirror_mode": {
    "name": "ipython",
    "version": 3
   },
   "file_extension": ".py",
   "mimetype": "text/x-python",
   "name": "python",
   "nbconvert_exporter": "python",
   "pygments_lexer": "ipython3",
   "version": "3.12.3"
  },
  "orig_nbformat": 4
 },
 "nbformat": 4,
 "nbformat_minor": 2
}
