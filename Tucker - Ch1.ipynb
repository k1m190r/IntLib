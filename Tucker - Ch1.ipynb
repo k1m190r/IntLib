{
 "cells": [
  {
   "cell_type": "code",
   "execution_count": 2,
   "metadata": {},
   "outputs": [],
   "source": [
    "import numpy as np\n",
    "import matplotlib.pyplot as plt\n",
    "import sympy as sp\n"
   ]
  },
  {
   "attachments": {},
   "cell_type": "markdown",
   "metadata": {},
   "source": [
    "# 1.1. Positional"
   ]
  },
  {
   "attachments": {},
   "cell_type": "markdown",
   "metadata": {},
   "source": [
    "$β∈ℤ,β≥0$\n",
    "\n",
    "$$ (-1)^σ(bₙbₙ₋₁…b₀.b₋₁b₋₂…)_β \\tag{1.1} $$\n",
    "\n",
    "$ bₙ, bₙ₋₁, … ∈ [0,β-1]$, $σ∈\\{0, 1\\}$\n",
    "\n",
    "$$ x = (-1)^σ ∑_{i=-∞}^n bᵢβⁱ \\\\\n",
    "= (-1)^σ (bₙβⁿ + bₙ₋₁βⁿ⁻¹ + … + b₀ + b₋₁β⁻¹ + b₋₂β⁻² + …) $$"
   ]
  },
  {
   "attachments": {},
   "cell_type": "markdown",
   "metadata": {},
   "source": [
    "$ (12.25)₁₀ = (12.25000...)₁₀ = (...000012.25000...)₁₀ $\n",
    "\n",
    "$ 0≤bᵢ≤β-2 $ infinitely many $i$"
   ]
  },
  {
   "attachments": {},
   "cell_type": "markdown",
   "metadata": {},
   "source": [
    "# 1.2. Floating Point"
   ]
  },
  {
   "attachments": {},
   "cell_type": "markdown",
   "metadata": {},
   "source": [
    "$$ x = (-1)^σ m × βᵉ \\tag{1.2} $$\n",
    "\n",
    "$σ$ - sign, $m$ - mantissa, $e$ - exponent\n",
    "\n",
    "$ 𝔽_β={(-1)^σ m × βᵉ: m = (b₀.b₁b₂…)_β} $ - set of floats base β\n",
    "\n",
    "$ (1.23)_{10} × 10^2 = (0.123)_{10} × 10^3 = ... $\n",
    "\n",
    "Normalized float: $b₀ ≠ 0$ ⟹ $min\\ e$\n",
    "\n"
   ]
  },
  {
   "attachments": {},
   "cell_type": "markdown",
   "metadata": {},
   "source": [
    "$ 𝔽_{β,p} = \\{ x ∈ 𝔽_β : m = (b₀.b₁b₂…bₚ₋₁)_β \\} $\n",
    "\n",
    "$p$ - precision"
   ]
  },
  {
   "attachments": {},
   "cell_type": "markdown",
   "metadata": {},
   "source": [
    "$ 𝔽_{β,p}^{\\check{e}, \\hat{e}}\n",
    "= \\{ x ∈ 𝔽_{β,p}: \\check{e} ≤ e ≤ \\hat{e} \\}\n",
    "$"
   ]
  },
  {
   "cell_type": "code",
   "execution_count": 27,
   "metadata": {},
   "outputs": [
    {
     "data": {
      "text/plain": [
       "[0, 0, 0.0, 1, 1, 1.0, 2, 2, 2.0]"
      ]
     },
     "execution_count": 27,
     "metadata": {},
     "output_type": "execute_result"
    }
   ],
   "source": [
    "from itertools import product\n",
    "\n",
    "def F(β, p, e_mn, e_mx):\n",
    "    bs = {x for x in range(β)}\n",
    "    ps = {x for x in range(p)}\n",
    "    es = {x for x in range(e_mn, e_mx)}\n",
    "\n",
    "    return [(p*b**e) for b, p, e in product(bs, ps, es) if b != 0]\n",
    "\n",
    "F(2, 3, -1, 2)"
   ]
  },
  {
   "cell_type": "code",
   "execution_count": null,
   "metadata": {},
   "outputs": [],
   "source": []
  }
 ],
 "metadata": {
  "kernelspec": {
   "display_name": "cuda_learn",
   "language": "python",
   "name": "python3"
  },
  "language_info": {
   "codemirror_mode": {
    "name": "ipython",
    "version": 3
   },
   "file_extension": ".py",
   "mimetype": "text/x-python",
   "name": "python",
   "nbconvert_exporter": "python",
   "pygments_lexer": "ipython3",
   "version": "3.11.3"
  },
  "orig_nbformat": 4
 },
 "nbformat": 4,
 "nbformat_minor": 2
}
